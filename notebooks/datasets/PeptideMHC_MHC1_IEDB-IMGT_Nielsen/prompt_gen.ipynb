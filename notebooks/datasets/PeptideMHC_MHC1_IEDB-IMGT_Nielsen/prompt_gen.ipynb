{
 "cells": [
  {
   "cell_type": "code",
   "execution_count": 1,
   "metadata": {},
   "outputs": [],
   "source": [
    "import pandas as pd"
   ]
  },
  {
   "cell_type": "code",
   "execution_count": 2,
   "metadata": {},
   "outputs": [
    {
     "name": "stderr",
     "output_type": "stream",
     "text": [
      "Found local copy...\n",
      "Loading...\n",
      "Done!\n"
     ]
    }
   ],
   "source": [
    "# Load dataset\n",
    "\n",
    "from tdc.multi_pred import PeptideMHC\n",
    "data = PeptideMHC(name = 'MHC1_IEDB-IMGT_Nielsen')\n",
    "split = data.get_split()"
   ]
  },
  {
   "cell_type": "code",
   "execution_count": 3,
   "metadata": {},
   "outputs": [],
   "source": [
    "template = \"\"\"### Instructions: Answer the following question about peptide-MHC binding. \n",
    "### Context: In the human body, T cells monitor the existing peptides and trigger an immune response if the peptide is foreign. To decide whether or not if the peptide is not foreign, the peptide must bind to a major histocompatibility complex (MHC) molecule. Therefore, \n",
    "predicting peptide-MHC binding affinity is pivotal for determining immunogenicity. In some experiments, the peptide \n",
    "binding is measured against cells that express multiple MHCs, so the peptide could be binding any one of the possible MHCs. \n",
    "Class 1 MHC molecules bind to peptides that are usually 8-14 amino acids long and activate CD8 T cells. \n",
    "### Question: Given the amino acid sequence of the peptide and possible pseudo amino acid sequences of MHC 1, predict whether the peptide \n",
    "(A) does not bind to any of the MHCs (B) binds to any of the MHCs \n",
    "Peptide amino acid sequence: {}\n",
    "Possible MHC pseudosequences: {} \n",
    "### Answer: {}\"\"\"\n"
   ]
  },
  {
   "cell_type": "code",
   "execution_count": 4,
   "metadata": {},
   "outputs": [
    {
     "data": {
      "text/html": [
       "<div>\n",
       "<style scoped>\n",
       "    .dataframe tbody tr th:only-of-type {\n",
       "        vertical-align: middle;\n",
       "    }\n",
       "\n",
       "    .dataframe tbody tr th {\n",
       "        vertical-align: top;\n",
       "    }\n",
       "\n",
       "    .dataframe thead th {\n",
       "        text-align: right;\n",
       "    }\n",
       "</style>\n",
       "<table border=\"1\" class=\"dataframe\">\n",
       "  <thead>\n",
       "    <tr style=\"text-align: right;\">\n",
       "      <th></th>\n",
       "      <th>Peptide_ID</th>\n",
       "      <th>Peptide</th>\n",
       "      <th>MHC_ID</th>\n",
       "      <th>MHC</th>\n",
       "      <th>Y</th>\n",
       "    </tr>\n",
       "  </thead>\n",
       "  <tbody>\n",
       "    <tr>\n",
       "      <th>0</th>\n",
       "      <td>1</td>\n",
       "      <td>ASYAAAAAY</td>\n",
       "      <td>BoLA-D18.4</td>\n",
       "      <td>YYSEYREISENVYESNLYIAYSDYTWEYLNYRWY</td>\n",
       "      <td>0.496594</td>\n",
       "    </tr>\n",
       "    <tr>\n",
       "      <th>1</th>\n",
       "      <td>2</td>\n",
       "      <td>GMMGGLWKY</td>\n",
       "      <td>BoLA-D18.4</td>\n",
       "      <td>YYSEYREISENVYESNLYIAYSDYTWEYLNYRWY</td>\n",
       "      <td>0.439136</td>\n",
       "    </tr>\n",
       "    <tr>\n",
       "      <th>2</th>\n",
       "      <td>3</td>\n",
       "      <td>KMFHGGLRY</td>\n",
       "      <td>BoLA-D18.4</td>\n",
       "      <td>YYSEYREISENVYESNLYIAYSDYTWEYLNYRWY</td>\n",
       "      <td>0.898463</td>\n",
       "    </tr>\n",
       "    <tr>\n",
       "      <th>3</th>\n",
       "      <td>4</td>\n",
       "      <td>KMLEASTIY</td>\n",
       "      <td>BoLA-D18.4</td>\n",
       "      <td>YYSEYREISENVYESNLYIAYSDYTWEYLNYRWY</td>\n",
       "      <td>0.756090</td>\n",
       "    </tr>\n",
       "    <tr>\n",
       "      <th>4</th>\n",
       "      <td>5</td>\n",
       "      <td>KQLEYSWVL</td>\n",
       "      <td>BoLA-D18.4</td>\n",
       "      <td>YYSEYREISENVYESNLYIAYSDYTWEYLNYRWY</td>\n",
       "      <td>0.481554</td>\n",
       "    </tr>\n",
       "  </tbody>\n",
       "</table>\n",
       "</div>"
      ],
      "text/plain": [
       "   Peptide_ID    Peptide      MHC_ID                                 MHC  \\\n",
       "0           1  ASYAAAAAY  BoLA-D18.4  YYSEYREISENVYESNLYIAYSDYTWEYLNYRWY   \n",
       "1           2  GMMGGLWKY  BoLA-D18.4  YYSEYREISENVYESNLYIAYSDYTWEYLNYRWY   \n",
       "2           3  KMFHGGLRY  BoLA-D18.4  YYSEYREISENVYESNLYIAYSDYTWEYLNYRWY   \n",
       "3           4  KMLEASTIY  BoLA-D18.4  YYSEYREISENVYESNLYIAYSDYTWEYLNYRWY   \n",
       "4           5  KQLEYSWVL  BoLA-D18.4  YYSEYREISENVYESNLYIAYSDYTWEYLNYRWY   \n",
       "\n",
       "          Y  \n",
       "0  0.496594  \n",
       "1  0.439136  \n",
       "2  0.898463  \n",
       "3  0.756090  \n",
       "4  0.481554  "
      ]
     },
     "execution_count": 4,
     "metadata": {},
     "output_type": "execute_result"
    }
   ],
   "source": [
    "split[\"train\"].head()"
   ]
  },
  {
   "cell_type": "code",
   "execution_count": 5,
   "metadata": {},
   "outputs": [],
   "source": [
    "# process dataset\n",
    "\n",
    "def formatting_prompts_func(examples):\n",
    "    peptide = examples[\"Peptide\"]\n",
    "    mhc = examples[\"MHC\"]\n",
    "    outputs       = examples[\"Y\"]\n",
    "    texts = []\n",
    "    for p,m,o in zip(peptide, mhc, outputs):\n",
    "        # Must add EOS_TOKEN, otherwise your generation will go on forever!\n",
    "        text = template.format(p,m, \"(B)\" if o else \"(A)\")\n",
    "        texts.append(text)\n",
    "    return { \"text\" : texts, \"peptide\":peptide, \"mhc\":mhc, \"outputs\":outputs}\n",
    "\n",
    "def formatting_prompts_func_test(examples):\n",
    "    peptide = examples[\"Peptide\"]\n",
    "    mhc = examples[\"MHC\"]\n",
    "    outputs       = examples[\"Y\"]\n",
    "    texts = []\n",
    "    for p,m,o in zip(peptide, mhc, outputs):\n",
    "        # Must add EOS_TOKEN, otherwise your generation will go on forever!\n",
    "        text = template.format(p,m, \"\")\n",
    "        texts.append(text)\n",
    "    return { \"text\" : texts, \"peptide\":peptide, \"mhc\":mhc, \"outputs\":outputs}"
   ]
  },
  {
   "cell_type": "code",
   "execution_count": 6,
   "metadata": {},
   "outputs": [],
   "source": [
    "train_dataset = formatting_prompts_func(split[\"train\"])\n",
    "valid_dataset = formatting_prompts_func(split[\"valid\"])\n",
    "test_dataset = formatting_prompts_func_test(split[\"test\"])"
   ]
  },
  {
   "cell_type": "code",
   "execution_count": 7,
   "metadata": {},
   "outputs": [
    {
     "data": {
      "text/plain": [
       "(130190, 18598, 37197)"
      ]
     },
     "execution_count": 7,
     "metadata": {},
     "output_type": "execute_result"
    }
   ],
   "source": [
    "len(train_dataset[\"text\"]), len(valid_dataset[\"text\"]), len(test_dataset[\"text\"])"
   ]
  },
  {
   "cell_type": "code",
   "execution_count": 8,
   "metadata": {},
   "outputs": [],
   "source": [
    "import pickle\n",
    "import os\n",
    "\n",
    "\n",
    "def dump_file(obj, path, file_name):\n",
    "    os.makedirs(path, exist_ok=True)\n",
    "    file_name = os.path.join(path,file_name)\n",
    "    with open(file_name, \"wb\") as f0:\n",
    "        pickle.dump(obj,f0)"
   ]
  },
  {
   "cell_type": "code",
   "execution_count": 9,
   "metadata": {},
   "outputs": [],
   "source": [
    "dump_file(train_dataset, \"processed\", \"train.pkl\")\n",
    "dump_file(valid_dataset, \"processed\", \"valid.pkl\")\n",
    "dump_file(test_dataset, \"processed\", \"test.pkl\")"
   ]
  },
  {
   "cell_type": "code",
   "execution_count": null,
   "metadata": {},
   "outputs": [],
   "source": []
  }
 ],
 "metadata": {
  "kernelspec": {
   "display_name": "Python 3",
   "language": "python",
   "name": "python3"
  },
  "language_info": {
   "codemirror_mode": {
    "name": "ipython",
    "version": 3
   },
   "file_extension": ".py",
   "mimetype": "text/x-python",
   "name": "python",
   "nbconvert_exporter": "python",
   "pygments_lexer": "ipython3",
   "version": "3.11.10"
  }
 },
 "nbformat": 4,
 "nbformat_minor": 2
}
