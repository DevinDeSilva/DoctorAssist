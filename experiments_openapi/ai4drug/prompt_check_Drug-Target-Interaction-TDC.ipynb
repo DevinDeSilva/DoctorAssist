{
 "cells": [
  {
   "cell_type": "code",
   "execution_count": 1,
   "metadata": {},
   "outputs": [
    {
     "name": "stdout",
     "output_type": "stream",
     "text": [
      "🦥 Unsloth: Will patch your computer to enable 2x faster free finetuning.\n"
     ]
    }
   ],
   "source": [
    "from tdc.multi_pred import DTI\n",
    "from transformers import pipeline\n",
    "from unsloth import FastLanguageModel\n",
    "import torch\n",
    "import seaborn as sns\n",
    "import os\n",
    "\n",
    "\n",
    "os.environ[\"CUDA_VISIBLE_DEVICES\"]=\"7\"\n",
    "\n"
   ]
  },
  {
   "cell_type": "code",
   "execution_count": 2,
   "metadata": {},
   "outputs": [
    {
     "name": "stderr",
     "output_type": "stream",
     "text": [
      "Found local copy...\n",
      "Loading...\n",
      "Done!\n",
      "The original data has been updated!\n"
     ]
    }
   ],
   "source": [
    "data = DTI(name = 'BindingDB_Kd')\n",
    "data.harmonize_affinities(mode = 'mean')\n",
    "split = data.get_split()"
   ]
  },
  {
   "cell_type": "code",
   "execution_count": 3,
   "metadata": {},
   "outputs": [],
   "source": [
    "template = \"\"\"### Instructions: Answer the following question about drug target interactions.\n",
    "### Context: Drug-target binding is the physical interaction between a drug and a specific biological molecule, such as a protein or enzyme. \n",
    "This interaction is essential for the drug to exert its pharmacological effect. The strength of the drug-target binding is determined by the binding affinity, \n",
    "which is a measure of how tightly the drug binds to the target. Kd is the dissociation constant of a drug-target complex. It is the concentration of drug at which \n",
    "half of the drug-target complexes have dissociated. A lower Kd value indicates a stronger binding affinity.\n",
    "### Question: Given the target amino acid sequence and compound SMILES string, \n",
    "predict their normalized binding affinity Kd from 000 to 1000, where 000 is minimum Kd and 1000 is maximum Kd. \n",
    "\n",
    "Drug SMILES: {}\n",
    "Target amino acid sequence: {}\n",
    "### Answer: {}\"\"\"\n"
   ]
  },
  {
   "cell_type": "code",
   "execution_count": 4,
   "metadata": {},
   "outputs": [],
   "source": [
    "config  = {\n",
    "    \"model\":{\n",
    "        \"name\":\"unsloth/gemma-2-27b-bnb-4bit\",\n",
    "        \"max_seq_len\":8096,\n",
    "        \"dtype\":None,\n",
    "        \"load_in_4bit\":True,\n",
    "    },\n",
    "    \"model_save\":\"saved_model\",\n",
    "    \"seed\":49,\n",
    "}"
   ]
  },
  {
   "cell_type": "code",
   "execution_count": 7,
   "metadata": {},
   "outputs": [
    {
     "data": {
      "text/html": [
       "<div>\n",
       "<style scoped>\n",
       "    .dataframe tbody tr th:only-of-type {\n",
       "        vertical-align: middle;\n",
       "    }\n",
       "\n",
       "    .dataframe tbody tr th {\n",
       "        vertical-align: top;\n",
       "    }\n",
       "\n",
       "    .dataframe thead th {\n",
       "        text-align: right;\n",
       "    }\n",
       "</style>\n",
       "<table border=\"1\" class=\"dataframe\">\n",
       "  <thead>\n",
       "    <tr style=\"text-align: right;\">\n",
       "      <th></th>\n",
       "      <th>Drug_ID</th>\n",
       "      <th>Drug</th>\n",
       "      <th>Target_ID</th>\n",
       "      <th>Target</th>\n",
       "      <th>Y</th>\n",
       "    </tr>\n",
       "  </thead>\n",
       "  <tbody>\n",
       "    <tr>\n",
       "      <th>0</th>\n",
       "      <td>51.0</td>\n",
       "      <td>O=C(O)CCC(=O)C(=O)O</td>\n",
       "      <td>Q9GZT9</td>\n",
       "      <td>MANDSGGPGGPSPSERDRQYCELCGKMENLLRCSRCRSSFYCCKEH...</td>\n",
       "      <td>1450.0</td>\n",
       "    </tr>\n",
       "    <tr>\n",
       "      <th>1</th>\n",
       "      <td>187.0</td>\n",
       "      <td>CC(=O)OCC[N+](C)(C)C</td>\n",
       "      <td>P58154</td>\n",
       "      <td>MRRNIFCLACLWIVQACLSLDRADILYNIRQTSRPDVIPTQRDRPV...</td>\n",
       "      <td>2154.0</td>\n",
       "    </tr>\n",
       "    <tr>\n",
       "      <th>2</th>\n",
       "      <td>264.0</td>\n",
       "      <td>CCCC(=O)O</td>\n",
       "      <td>Q9Z429</td>\n",
       "      <td>MQQFTIRTRLLMLVGAMFIGFITIELMGFSALQRGVASLNTVYLDR...</td>\n",
       "      <td>92000.0</td>\n",
       "    </tr>\n",
       "    <tr>\n",
       "      <th>3</th>\n",
       "      <td>311.0</td>\n",
       "      <td>O=C(O)CC(O)(CC(=O)O)C(=O)O</td>\n",
       "      <td>P15474</td>\n",
       "      <td>MPRSLANAPIMILNGPNLNLLGQRQPEIYGSDTLADVEALCVKAAA...</td>\n",
       "      <td>7300.0</td>\n",
       "    </tr>\n",
       "    <tr>\n",
       "      <th>4</th>\n",
       "      <td>525.0</td>\n",
       "      <td>O=C(O)CC(O)C(=O)O</td>\n",
       "      <td>Q9Z429</td>\n",
       "      <td>MQQFTIRTRLLMLVGAMFIGFITIELMGFSALQRGVASLNTVYLDR...</td>\n",
       "      <td>8500.0</td>\n",
       "    </tr>\n",
       "  </tbody>\n",
       "</table>\n",
       "</div>"
      ],
      "text/plain": [
       "   Drug_ID                        Drug Target_ID  \\\n",
       "0     51.0         O=C(O)CCC(=O)C(=O)O    Q9GZT9   \n",
       "1    187.0        CC(=O)OCC[N+](C)(C)C    P58154   \n",
       "2    264.0                   CCCC(=O)O    Q9Z429   \n",
       "3    311.0  O=C(O)CC(O)(CC(=O)O)C(=O)O    P15474   \n",
       "4    525.0           O=C(O)CC(O)C(=O)O    Q9Z429   \n",
       "\n",
       "                                              Target        Y  \n",
       "0  MANDSGGPGGPSPSERDRQYCELCGKMENLLRCSRCRSSFYCCKEH...   1450.0  \n",
       "1  MRRNIFCLACLWIVQACLSLDRADILYNIRQTSRPDVIPTQRDRPV...   2154.0  \n",
       "2  MQQFTIRTRLLMLVGAMFIGFITIELMGFSALQRGVASLNTVYLDR...  92000.0  \n",
       "3  MPRSLANAPIMILNGPNLNLLGQRQPEIYGSDTLADVEALCVKAAA...   7300.0  \n",
       "4  MQQFTIRTRLLMLVGAMFIGFITIELMGFSALQRGVASLNTVYLDR...   8500.0  "
      ]
     },
     "execution_count": 7,
     "metadata": {},
     "output_type": "execute_result"
    }
   ],
   "source": [
    "split[\"train\"].head()"
   ]
  },
  {
   "cell_type": "code",
   "execution_count": 8,
   "metadata": {},
   "outputs": [
    {
     "data": {
      "text/plain": [
       "(0.0, 10000000.0, 10000.0, 470.0, 10000.0, <Axes: ylabel='Y'>)"
      ]
     },
     "execution_count": 8,
     "metadata": {},
     "output_type": "execute_result"
    },
    {
     "data": {
      "image/png": "[encoded data removed]",
      "text/plain": [
       "<Figure size 640x480 with 1 Axes>"
      ]
     },
     "metadata": {},
     "output_type": "display_data"
    }
   ],
   "source": [
    "split[\"train\"][\"Y\"].min(), split[\"train\"][\"Y\"].max(),split[\"train\"][\"Y\"].quantile(0.5), split[\"train\"][\"Y\"].quantile(0.25), split[\"train\"][\"Y\"].quantile(0.90),sns.violinplot(split[\"train\"][\"Y\"])"
   ]
  },
  {
   "cell_type": "code",
   "execution_count": 9,
   "metadata": {},
   "outputs": [],
   "source": [
    "MAX_CUT_OFF = 10000\n",
    "MIN_CUT_OFF = 0\n",
    "BINS = 1000  \n",
    "PER_BIN_COUNT = (MAX_CUT_OFF-MIN_CUT_OFF)//BINS"
   ]
  },
  {
   "cell_type": "code",
   "execution_count": 10,
   "metadata": {},
   "outputs": [
    {
     "data": {
      "text/plain": [
       "(0.07755792322002368, 0.08072916666666667, 0.07706878181602936)"
      ]
     },
     "execution_count": 10,
     "metadata": {},
     "output_type": "execute_result"
    }
   ],
   "source": [
    "removed_count_train = ((split[\"train\"][\"Y\"]<MIN_CUT_OFF) | (split[\"train\"][\"Y\"]>MAX_CUT_OFF)).sum()\n",
    "removed_count_valid = ((split[\"valid\"][\"Y\"]<MIN_CUT_OFF) | (split[\"valid\"][\"Y\"]>MAX_CUT_OFF)).sum()\n",
    "removed_count_test = ((split[\"test\"][\"Y\"]<MIN_CUT_OFF) | (split[\"test\"][\"Y\"]>MAX_CUT_OFF)).sum()\n",
    "\n",
    "removed_count_train/split[\"train\"][\"Y\"].shape[0], removed_count_valid/split[\"valid\"][\"Y\"].shape[0], removed_count_test/split[\"test\"][\"Y\"].shape[0]"
   ]
  },
  {
   "cell_type": "code",
   "execution_count": 11,
   "metadata": {},
   "outputs": [],
   "source": [
    "split[\"train\"] = split[\"train\"].loc[(split[\"train\"][\"Y\"]>MIN_CUT_OFF) & (split[\"train\"][\"Y\"]<MAX_CUT_OFF)]\n",
    "split[\"valid\"] = split[\"valid\"].loc[(split[\"valid\"][\"Y\"]>MIN_CUT_OFF) & (split[\"valid\"][\"Y\"]<MAX_CUT_OFF)]\n",
    "split[\"test\"] = split[\"test\"].loc[(split[\"test\"][\"Y\"]>MIN_CUT_OFF) & (split[\"test\"][\"Y\"]<MAX_CUT_OFF)]"
   ]
  },
  {
   "cell_type": "code",
   "execution_count": 12,
   "metadata": {},
   "outputs": [],
   "source": [
    "split[\"train\"][\"Y\"] = split[\"train\"][\"Y\"].apply(lambda x: x//PER_BIN_COUNT)\n",
    "split[\"valid\"][\"Y\"] = split[\"valid\"][\"Y\"].apply(lambda x: x//PER_BIN_COUNT)\n",
    "split[\"test\"][\"Y\"] = split[\"test\"][\"Y\"].apply(lambda x: x//PER_BIN_COUNT)"
   ]
  },
  {
   "cell_type": "code",
   "execution_count": 13,
   "metadata": {},
   "outputs": [
    {
     "data": {
      "text/plain": [
       "(0.0, 995.0, <Axes: xlabel='Y', ylabel='Count'>)"
      ]
     },
     "execution_count": 13,
     "metadata": {},
     "output_type": "execute_result"
    },
    {
     "data": {
      "image/png": "[encoded data removed]",
      "text/plain": [
       "<Figure size 640x480 with 1 Axes>"
      ]
     },
     "metadata": {},
     "output_type": "display_data"
    }
   ],
   "source": [
    "split[\"train\"][\"Y\"].min(), split[\"train\"][\"Y\"].max(),sns.histplot(split[\"train\"][\"Y\"])"
   ]
  },
  {
   "cell_type": "code",
   "execution_count": 17,
   "metadata": {},
   "outputs": [],
   "source": [
    "# process dataset\n",
    "\n",
    "def formatting_prompts_func(examples):\n",
    "    Drug = examples[\"Drug\"]\n",
    "    Target = examples[\"Target\"]\n",
    "    outputs       = examples[\"Y\"]\n",
    "    texts = []\n",
    "    for p,m,o in zip(Drug, Target, outputs):\n",
    "        # Must add EOS_TOKEN, otherwise your generation will go on forever!\n",
    "        text = template.format(p,m,o)\n",
    "        texts.append(text)\n",
    "    return { \"text\" : texts, \"Drug\":Drug, \"Target\":Target, \"outputs\":outputs, \"ds_ident\":\"DDI\"}\n",
    "\n",
    "def formatting_prompts_func_test(examples):\n",
    "    Drug = examples[\"Drug\"]\n",
    "    Target = examples[\"Target\"]\n",
    "    outputs       = examples[\"Y\"]\n",
    "    texts = []\n",
    "    for p,m,o in zip(Drug, Target, outputs):\n",
    "        # Must add EOS_TOKEN, otherwise your generation will go on forever!\n",
    "        text = template.format(p,m,\"\")\n",
    "        texts.append(text)\n",
    "    return { \"text\" : texts, \"Drug\":Drug, \"Target\":Target, \"outputs\":outputs, \"ds_ident\":\"DDI\"}\n"
   ]
  },
  {
   "cell_type": "code",
   "execution_count": 18,
   "metadata": {},
   "outputs": [],
   "source": [
    "train_dataset = formatting_prompts_func_test(split[\"train\"])\n",
    "valid_dataset = formatting_prompts_func_test(split[\"valid\"])\n",
    "test_dataset = formatting_prompts_func_test(split[\"test\"])"
   ]
  },
  {
   "cell_type": "code",
   "execution_count": 19,
   "metadata": {},
   "outputs": [
    {
     "data": {
      "text/plain": [
       "'### Instructions: Answer the following question about drug target interactions.\\n### Context: Drug-target binding is the physical interaction between a drug and a specific biological molecule, such as a protein or enzyme. \\nThis interaction is essential for the drug to exert its pharmacological effect. The strength of the drug-target binding is determined by the binding affinity, \\nwhich is a measure of how tightly the drug binds to the target. Kd is the dissociation constant of a drug-target complex. It is the concentration of drug at which \\nhalf of the drug-target complexes have dissociated. A lower Kd value indicates a stronger binding affinity.\\n### Question: Given the target amino acid sequence and compound SMILES string, \\npredict their normalized binding affinity Kd from 000 to 1000, where 000 is minimum Kd and 1000 is maximum Kd. \\n\\nDrug SMILES: O=C(O)CCC(=O)C(=O)O\\nTarget amino acid sequence: MANDSGGPGGPSPSERDRQYCELCGKMENLLRCSRCRSSFYCCKEHQRQDWKKHKLVCQGSEGALGHGVGPHQHSGPAPPAAVPPPRAGAREPRKAAARRDNASGDAAKGKVKAKPPADPAAAASPCRAAAGGQGSAVAAEAEPGKEEPPARSSLFQEKANLYPPSNTPGDALSPGGGLRPNGQTKPLPALKLALEYIVPCMNKHGICVVDDFLGKETGQQIGDEVRALHDTGKFTDGQLVSQKSDSSKDIRGDKITWIEGKEPGCETIGLLMSSMDDLIRHCNGKLGSYKINGRTKAMVACYPGNGTGYVRHVDNPNGDGRCVTCIYYLNKDWDAKVSGGILRIFPEGKAQFADIEPKFDRLLFFWSDRRNPHEVQPAYATRYAITVWYFDADERARAKVKYLTGEKGVRVELNKPSDSVGKDVF\\n### Answer: '"
      ]
     },
     "execution_count": 19,
     "metadata": {},
     "output_type": "execute_result"
    }
   ],
   "source": [
    "train_dataset[\"text\"]"
   ]
  },
  {
   "cell_type": "code",
   "execution_count": null,
   "metadata": {},
   "outputs": [],
   "source": [
    "model, tokenizer = FastLanguageModel.from_pretrained(\n",
    "    model_name = config[\"model\"][\"name\"],  # or choose \"unsloth/Llama-3.2-1B\"\n",
    "    max_seq_length = config[\"model\"][\"max_seq_len\"], # Choose any! We auto support RoPE Scaling internally!\n",
    "    dtype = config[\"model\"][\"dtype\"],# None for auto detection. Float16 for Tesla T4, V100, Bfloat16 for Ampere+\n",
    "    load_in_4bit = config[\"model\"][\"load_in_4bit\"], # Use 4bit quantization to reduce memory usage. Can be False.\n",
    ")"
   ]
  },
  {
   "cell_type": "code",
   "execution_count": null,
   "metadata": {},
   "outputs": [],
   "source": [
    "FastLanguageModel.for_inference(model) # Enable native 2x faster inference\n",
    "\n",
    "pipe = pipeline(\n",
    "        task=\"text-generation\", \n",
    "        model=model, \n",
    "        tokenizer=tokenizer, \n",
    "        max_new_tokens=512, \n",
    "        temperature=0.1\n",
    "    )\n",
    "\n",
    "print(\"Model Loaded !!!\", end=\"\\n\\n\\n\")"
   ]
  },
  {
   "cell_type": "markdown",
   "metadata": {},
   "source": [
    "### Zero-shot results"
   ]
  },
  {
   "cell_type": "code",
   "execution_count": 20,
   "metadata": {},
   "outputs": [],
   "source": [
    "results = pipe([train_dataset[\"text\"][0]])"
   ]
  },
  {
   "cell_type": "code",
   "execution_count": 30,
   "metadata": {},
   "outputs": [
    {
     "name": "stdout",
     "output_type": "stream",
     "text": [
      "### Instructions: Answer the following question about drug target interactions.\n",
      "### Context: Drug-target binding is the physical interaction between a drug and a specific biological molecule, such as a protein or enzyme. \n",
      "This interaction is essential for the drug to exert its pharmacological effect. The strength of the drug-target binding is determined by the binding affinity, \n",
      "which is a measure of how tightly the drug binds to the target. Kd is the dissociation constant of a drug-target complex. It is the concentration of drug at which \n",
      "half of the drug-target complexes have dissociated. A lower Kd value indicates a stronger binding affinity.\n",
      "### Question: Given the target amino acid sequence and compound SMILES string, \n",
      "predict their normalized binding affinity Kd from 000 to 1000, where 000 is minimum Kd and 1000 is maximum Kd. \n",
      "\n",
      "Drug SMILES: O=C(O)CCC(=O)C(=O)O\n",
      "Target amino acid sequence: MANDSGGPGGPSPSERDRQYCELCGKMENLLRCSRCRSSFYCCKEHQRQDWKKHKLVCQGSEGALGHGVGPHQHSGPAPPAAVPPPRAGAREPRKAAARRDNASGDAAKGKVKAKPPADPAAAASPCRAAAGGQGSAVAAEAEPGKEEPPARSSLFQEKANLYPPSNTPGDALSPGGGLRPNGQTKPLPALKLALEYIVPCMNKHGICVVDDFLGKETGQQIGDEVRALHDTGKFTDGQLVSQKSDSSKDIRGDKITWIEGKEPGCETIGLLMSSMDDLIRHCNGKLGSYKINGRTKAMVACYPGNGTGYVRHVDNPNGDGRCVTCIYYLNKDWDAKVSGGILRIFPEGKAQFADIEPKFDRLLFFWSDRRNPHEVQPAYATRYAITVWYFDADERARAKVKYLTGEKGVRVELNKPSDSVGKDVF\n",
      "### Answer: \n",
      "\n",
      "### Instructions: Answer the following question about drug target interactions.\n",
      "### Context: Drug-target binding is the physical interaction between a drug and a specific biological molecule, such as a protein or enzyme. \n",
      "This interaction is essential for the drug to exert its pharmacological effect. The strength of the drug-target binding is determined by the binding affinity, \n",
      "which is a measure of how tightly the drug binds to the target. Kd is the dissociation constant of a drug-target complex. It is the concentration of drug at which \n",
      "half of the drug-target complexes have dissociated. A lower Kd value indicates a stronger binding affinity.\n",
      "### Question: Given the target amino acid sequence and compound SMILES string, \n",
      "predict their normalized binding affinity Kd from 000 to 1000, where 000 is minimum Kd and 1000 is maximum Kd. \n",
      "\n",
      "Drug SMILES: O=C(O)CCC(=O)C(=O)O\n",
      "Target amino acid sequence: MNDSGGPGGPSPSERDRQYCELCGKMENLLRCSRCRSSFYCCKEHQRQDWKKHKLVCQGSEGALGHGVGPHQHSGPAPPAAVPPPRAGAREPRKAAARRDNASGDAAKGKVKAKPPADPAAAASPCRAAAGGQGSAVAAEAEPGKEEPPARSSLFQEKANLYPPSNTPGDALSPGGGLRPNGQTKPLPALKLALEYIVPCMNKHGICVVDDFLGKETGQQIGDEVRALHDTGKFTDGQLVSQKSDSSKDIRGDKITWIEGKEPGCETIGLLMSSMDDLIRHCNGKLGSYKINGRTKAMVACYPGNGTGYVRHVDNPNGDGRCVTCIYYLNKDWDAKVSGGILRIFPEGKAQFADIEPKFDRLLFFWSDRRNPHEVQPAYATRYAITVWYFDADERARAKVKYLTGEKGVRVELNKPSDSVGKDVF\n",
      "### Answer: \n",
      "\n",
      "### Instructions: Answer the following question about drug target interactions.\n",
      "### Context: Drug-target binding is the physical interaction between a drug and a specific biological molecule, such as a protein or enzyme. \n",
      "This interaction is essential for the drug to exert its pharmacological effect. The strength of the drug-target binding is determined by the binding affinity, \n",
      "which is a measure of\n"
     ]
    }
   ],
   "source": [
    "print(results[0][0][\"generated_text\"])"
   ]
  },
  {
   "cell_type": "code",
   "execution_count": null,
   "metadata": {},
   "outputs": [],
   "source": []
  }
 ],
 "metadata": {
  "kernelspec": {
   "display_name": "Python 3",
   "language": "python",
   "name": "python3"
  },
  "language_info": {
   "codemirror_mode": {
    "name": "ipython",
    "version": 3
   },
   "file_extension": ".py",
   "mimetype": "text/x-python",
   "name": "python",
   "nbconvert_exporter": "python",
   "pygments_lexer": "ipython3",
   "version": "3.11.10"
  }
 },
 "nbformat": 4,
 "nbformat_minor": 2
}
