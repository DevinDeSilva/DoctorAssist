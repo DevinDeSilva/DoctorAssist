{
 "cells": [
  {
   "cell_type": "code",
   "execution_count": 1,
   "metadata": {},
   "outputs": [
    {
     "name": "stderr",
     "output_type": "stream",
     "text": [
      "/tmp/ipykernel_2195856/3352359748.py:12: TqdmExperimentalWarning: Using `tqdm.autonotebook.tqdm` in notebook mode. Use `tqdm.tqdm` instead to force console mode (e.g. in jupyter console)\n",
      "  from tqdm.autonotebook import tqdm\n"
     ]
    }
   ],
   "source": [
    "import os\n",
    "\n",
    "os.environ[\"CUDA_VISIBLE_DEVICES\"]=\"7\"\n",
    "\n",
    "\n",
    "import random\n",
    "import numpy as np\n",
    "import seaborn as sns\n",
    "import pickle\n",
    "import matplotlib\n",
    "from matplotlib import pyplot as plt\n",
    "from tqdm.autonotebook import tqdm\n",
    "\n",
    "import torch\n",
    "import swifter\n",
    "from torch import nn, Tensor\n",
    "from torch.autograd import Variable\n",
    "import pandas as pd\n",
    "from torch.nn import functional as F\n",
    "from torch.nn.modules import MultiheadAttention, Linear, Dropout, BatchNorm1d, TransformerEncoderLayer\n",
    "from torch.utils.data import Dataset, DataLoader\n",
    "from sklearn.preprocessing import KBinsDiscretizer\n",
    "from torch.optim import Adam, lr_scheduler\n",
    "from torch.nn import BCEWithLogitsLoss\n",
    "from torchinfo import summary\n",
    "from sklearn import metrics\n",
    "from sklearn.preprocessing import OneHotEncoder\n",
    "\n",
    "from transformers import AutoTokenizer\n",
    "from transformers import AutoModelForSequenceClassification\n",
    "\n",
    "from mlflow import MlflowClient\n",
    "import mlflow"
   ]
  },
  {
   "cell_type": "code",
   "execution_count": 2,
   "metadata": {},
   "outputs": [],
   "source": [
    "import warnings\n",
    "\n",
    "warnings.filterwarnings('ignore')"
   ]
  },
  {
   "cell_type": "code",
   "execution_count": 3,
   "metadata": {},
   "outputs": [],
   "source": [
    "class MLFlowLogger:\n",
    "    def __init__(self,exp_name,\n",
    "                 config:dict,\n",
    "                 tracking_url:str = \"http://127.0.0.1:5000\",\n",
    "                 ) -> None:\n",
    "        \n",
    "        self.client = MlflowClient(tracking_uri=tracking_url)\n",
    "        self._experiment = mlflow.set_experiment(\n",
    "            exp_name\n",
    "        )\n",
    "        \n",
    "        with mlflow.start_run() as run:\n",
    "            self.run_info = run.info\n",
    "        \n",
    "        self.track_params(config=config)\n",
    "        \n",
    "    \n",
    "    def track_params(self, config:dict):\n",
    "        params = MLFlowLogger.unnest_dictionary(config)\n",
    "        \n",
    "        with mlflow.start_run(run_id=self.run_info.run_id) as run:\n",
    "            if not self.run_info:\n",
    "                self.run_info = run.info\n",
    "            \n",
    "            mlflow.log_params(params)\n",
    "        \n",
    "        \n",
    "    def track_metrics(self, metrics:dict):\n",
    "        params = MLFlowLogger.unnest_dictionary(metrics)\n",
    "        \n",
    "        with mlflow.start_run(run_id=self.run_info.run_id) as run:\n",
    "            if not self.run_info:\n",
    "                self.run_info = run.info\n",
    "            \n",
    "            mlflow.log_metrics(metrics)\n",
    "        \n",
    "    \n",
    "    @staticmethod\n",
    "    def unnest_dictionary(d:dict, level:str=None, unnested_dict:dict = {}) -> dict:\n",
    "        for k, v in d.items():\n",
    "            if level:\n",
    "                next_level=f\"{level}_{k}\"\n",
    "            else:\n",
    "                next_level = k\n",
    "                \n",
    "            if not isinstance(v,dict):\n",
    "                #print(level,k)\n",
    "                unnested_dict[next_level] = v\n",
    "            else:\n",
    "                #print(d,level,k,v,2)\n",
    "                MLFlowLogger.unnest_dictionary(v, next_level, unnested_dict)\n",
    "                \n",
    "        return unnested_dict"
   ]
  },
  {
   "cell_type": "code",
   "execution_count": 4,
   "metadata": {},
   "outputs": [],
   "source": [
    "#config of run\n",
    "\n",
    "config = {\n",
    "    \"dataset\":{\n",
    "        \"name\":'drug1_drug1_interaction_agent',\n",
    "        \"encoding\":\"proteinbert\",\n",
    "        \"data_loc\": \"processed_data\",\n",
    "        'model_checkpoint': \"facebook/esm2_t6_8M_UR50D\",\n",
    "    },\n",
    "    \"model\":{\n",
    "        \"max_length_tokens\": 300,\n",
    "        'input_dim_drug1': 320,\n",
    "        'input_dim_drug2': 320,\n",
    "        'n_drug1_channels': 320,\n",
    "        'n_drug2_channels': 320,\n",
    "        'hidden_dim_drug1': 256,\n",
    "        'hidden_dim_drug2': 256,\n",
    "        'result_folder': './result/',\n",
    "        },\n",
    "    \n",
    "    \"optimizer\":{\n",
    "        'LR': 0.01,\n",
    "        \"weight_decay\":1e-5\n",
    "    },\n",
    "    'batch_size': 128,\n",
    "    'train_epoch': 20,\n",
    "    \"device\": \"cuda\",\n",
    "    \"seed\": 49\n",
    "}\n",
    "\n",
    "#set seeds\n",
    "np.random.seed(config[\"seed\"])\n",
    "torch.manual_seed(config[\"seed\"])\n",
    "random.seed(config[\"seed\"])\n",
    "\n",
    "#device\n",
    "if config['device'] == 'cpu':\n",
    "    device = \"cpu\"\n",
    "else:\n",
    "    device = torch.device(\"cuda:0\" if torch.cuda.is_available() else \"cpu\")\n",
    "\n",
    "#mlflow\n",
    "run_tracker = MLFlowLogger(\n",
    "    f\"{config['dataset']['name']}_{config['dataset']['encoding']}\",\n",
    "    config)"
   ]
  },
  {
   "cell_type": "code",
   "execution_count": 5,
   "metadata": {},
   "outputs": [
    {
     "name": "stderr",
     "output_type": "stream",
     "text": [
      "Some weights of EsmForSequenceClassification were not initialized from the model checkpoint at facebook/esm2_t6_8M_UR50D and are newly initialized: ['classifier.dense.bias', 'classifier.dense.weight', 'classifier.out_proj.bias', 'classifier.out_proj.weight']\n",
      "You should probably TRAIN this model on a down-stream task to be able to use it for predictions and inference.\n"
     ]
    }
   ],
   "source": [
    "def get_esm2_components(config,device):\n",
    "\n",
    "    model_checkpoint = config[\"dataset\"]['model_checkpoint']\n",
    "\n",
    "    tokenizer = AutoTokenizer.from_pretrained(model_checkpoint)\n",
    "    esm2_model = AutoModelForSequenceClassification.from_pretrained(model_checkpoint).to(device)\n",
    "    \n",
    "    return tokenizer, esm2_model\n",
    "\n",
    "tokenizer, esm2_model = get_esm2_components(config,device)"
   ]
  },
  {
   "cell_type": "code",
   "execution_count": 6,
   "metadata": {},
   "outputs": [
    {
     "data": {
      "text/plain": [
       "EsmTokenizer(name_or_path='facebook/esm2_t6_8M_UR50D', vocab_size=33, model_max_length=1000000000000000019884624838656, is_fast=False, padding_side='right', truncation_side='right', special_tokens={'eos_token': '<eos>', 'unk_token': '<unk>', 'pad_token': '<pad>', 'cls_token': '<cls>', 'mask_token': '<mask>'}, clean_up_tokenization_spaces=True),  added_tokens_decoder={\n",
       "\t0: AddedToken(\"<cls>\", rstrip=False, lstrip=False, single_word=False, normalized=False, special=True),\n",
       "\t1: AddedToken(\"<pad>\", rstrip=False, lstrip=False, single_word=False, normalized=False, special=True),\n",
       "\t2: AddedToken(\"<eos>\", rstrip=False, lstrip=False, single_word=False, normalized=False, special=True),\n",
       "\t3: AddedToken(\"<unk>\", rstrip=False, lstrip=False, single_word=False, normalized=False, special=True),\n",
       "\t32: AddedToken(\"<mask>\", rstrip=False, lstrip=False, single_word=False, normalized=False, special=True),\n",
       "}"
      ]
     },
     "execution_count": 6,
     "metadata": {},
     "output_type": "execute_result"
    }
   ],
   "source": [
    "tokenizer"
   ]
  },
  {
   "cell_type": "code",
   "execution_count": 7,
   "metadata": {},
   "outputs": [
    {
     "data": {
      "text/plain": [
       "EsmEmbeddings(\n",
       "  (word_embeddings): Embedding(33, 320, padding_idx=1)\n",
       "  (dropout): Dropout(p=0.0, inplace=False)\n",
       "  (position_embeddings): Embedding(1026, 320, padding_idx=1)\n",
       ")"
      ]
     },
     "execution_count": 7,
     "metadata": {},
     "output_type": "execute_result"
    }
   ],
   "source": [
    "esm2_model.to(device)\n",
    "esm2_model.esm.embeddings"
   ]
  },
  {
   "cell_type": "code",
   "execution_count": 8,
   "metadata": {},
   "outputs": [],
   "source": [
    "train_dataset = pd.read_csv(f\"{config['dataset']['data_loc']}/train.csv\")\n",
    "valid_dataset = pd.read_csv(f\"{config['dataset']['data_loc']}/valid.csv\")\n",
    "test_dataset = pd.read_csv(f\"{config['dataset']['data_loc']}/test.csv\")\n",
    "\n",
    "# load the data config file\n",
    "with open(f\"{config['dataset']['data_loc']}/config.pkl\", \"rb\") as f:\n",
    "    data_config = pickle.load(f)"
   ]
  },
  {
   "cell_type": "code",
   "execution_count": 9,
   "metadata": {},
   "outputs": [],
   "source": [
    "train_dataset[\"Y\"] = train_dataset[\"Y\"].apply(eval)\n",
    "valid_dataset[\"Y\"] = valid_dataset[\"Y\"].apply(eval)\n",
    "test_dataset[\"Y\"] = test_dataset[\"Y\"].apply(eval)"
   ]
  },
  {
   "cell_type": "code",
   "execution_count": 10,
   "metadata": {},
   "outputs": [],
   "source": [
    "def relabel_ds_columns(ds, data_config):\n",
    "    try:\n",
    "        col_dict = data_config['ds_name_map']\n",
    "        \n",
    "    except:\n",
    "        col_dict = {k:i for i,k in enumerate(ds[\"ds_name\"].unique())}\n",
    "        data_config['ds_name_map'] = col_dict\n",
    "        \n",
    "    ds[\"ds_name\"] = ds[\"ds_name\"].map(col_dict)\n",
    "    \n",
    "    \n",
    "#relabel_ds_columns(train_dataset, data_config)\n",
    "#relabel_ds_columns(valid_dataset, data_config)\n",
    "#relabel_ds_columns(test_dataset, data_config)"
   ]
  },
  {
   "cell_type": "code",
   "execution_count": 11,
   "metadata": {},
   "outputs": [
    {
     "data": {
      "text/plain": [
       "(3, 409)"
      ]
     },
     "execution_count": 11,
     "metadata": {},
     "output_type": "execute_result"
    }
   ],
   "source": [
    "_l = pd.Series(train_dataset.loc[:,\"Drug1\"].unique()).str.len()\n",
    "_l.min(), _l.max()"
   ]
  },
  {
   "cell_type": "code",
   "execution_count": 12,
   "metadata": {},
   "outputs": [
    {
     "data": {
      "text/plain": [
       "<Axes: >"
      ]
     },
     "execution_count": 12,
     "metadata": {},
     "output_type": "execute_result"
    },
    {
     "data": {
      "image/png": "[encoded data removed]",
      "text/plain": [
       "<Figure size 640x480 with 1 Axes>"
      ]
     },
     "metadata": {},
     "output_type": "display_data"
    }
   ],
   "source": [
    "sns.violinplot(_l)"
   ]
  },
  {
   "cell_type": "code",
   "execution_count": 13,
   "metadata": {},
   "outputs": [
    {
     "data": {
      "text/plain": [
       "<Axes: >"
      ]
     },
     "execution_count": 13,
     "metadata": {},
     "output_type": "execute_result"
    },
    {
     "data": {
      "image/png": "[encoded data removed]",
      "text/plain": [
       "<Figure size 640x480 with 1 Axes>"
      ]
     },
     "metadata": {},
     "output_type": "display_data"
    }
   ],
   "source": [
    "sns.violinplot(_l[(10<=_l)&(_l<=300)])"
   ]
  },
  {
   "cell_type": "code",
   "execution_count": 14,
   "metadata": {},
   "outputs": [
    {
     "data": {
      "text/plain": [
       "(3, 804)"
      ]
     },
     "execution_count": 14,
     "metadata": {},
     "output_type": "execute_result"
    }
   ],
   "source": [
    "_l = pd.Series(train_dataset.loc[:,\"Drug2\"].unique()).str.len()\n",
    "_l.min(), _l.max()"
   ]
  },
  {
   "cell_type": "code",
   "execution_count": 15,
   "metadata": {},
   "outputs": [
    {
     "data": {
      "text/plain": [
       "<Axes: >"
      ]
     },
     "execution_count": 15,
     "metadata": {},
     "output_type": "execute_result"
    },
    {
     "data": {
      "image/png": "[encoded data removed]",
      "text/plain": [
       "<Figure size 640x480 with 1 Axes>"
      ]
     },
     "metadata": {},
     "output_type": "display_data"
    }
   ],
   "source": [
    "sns.violinplot(_l)"
   ]
  },
  {
   "cell_type": "code",
   "execution_count": 16,
   "metadata": {},
   "outputs": [
    {
     "data": {
      "text/plain": [
       "<Axes: >"
      ]
     },
     "execution_count": 16,
     "metadata": {},
     "output_type": "execute_result"
    },
    {
     "data": {
      "image/png": "[encoded data removed]",
      "text/plain": [
       "<Figure size 640x480 with 1 Axes>"
      ]
     },
     "metadata": {},
     "output_type": "display_data"
    }
   ],
   "source": [
    "sns.violinplot(_l[(10<=_l)&(_l<=300)])"
   ]
  },
  {
   "cell_type": "code",
   "execution_count": 17,
   "metadata": {},
   "outputs": [],
   "source": [
    "max_seq_drug = 300\n",
    "\n",
    "train_dataset = train_dataset[(train_dataset.Drug1.str.len()<=max_seq_drug)&(train_dataset.Drug2.str.len()<=max_seq_drug)]\n",
    "valid_dataset = valid_dataset[(valid_dataset.Drug1.str.len()<=max_seq_drug)&(valid_dataset.Drug2.str.len()<=max_seq_drug)]\n",
    "test_dataset = test_dataset[(test_dataset.Drug1.str.len()<=max_seq_drug)&(test_dataset.Drug2.str.len()<=max_seq_drug)]\n",
    "\n",
    "config[\"model\"][\"max_seq_drug1\"] = max_seq_drug\n",
    "config[\"model\"][\"max_seq_drug2\"] = max_seq_drug\n"
   ]
  },
  {
   "cell_type": "code",
   "execution_count": 18,
   "metadata": {},
   "outputs": [
    {
     "data": {
      "text/plain": [
       "((186498, 6), (76283, 6), (97061, 6))"
      ]
     },
     "execution_count": 18,
     "metadata": {},
     "output_type": "execute_result"
    }
   ],
   "source": [
    "(train_dataset.shape,\n",
    " valid_dataset.shape,\n",
    " test_dataset.shape,\n",
    " )"
   ]
  },
  {
   "cell_type": "code",
   "execution_count": 19,
   "metadata": {
    "vscode": {
     "languageId": "ruby"
    }
   },
   "outputs": [],
   "source": [
    "def esm2_tokernized_encoding_drug(dataset):\n",
    "    unique_drug = dataset[\"Drug1\"].unique().tolist()+ dataset[\"Drug2\"].unique().tolist()\n",
    "    unique_drug1_tokens = tokenizer(\n",
    "        unique_drug,\n",
    "        padding='max_length',\n",
    "        max_length=config['model']['max_length_tokens'],\n",
    "        truncation=True\n",
    "        )\n",
    "    \n",
    "    unique_dict_input_ids = dict(zip(unique_drug, unique_drug1_tokens[\"input_ids\"]))\n",
    "    unique_dict_attention_mask = dict(zip(unique_drug, unique_drug1_tokens[\"attention_mask\"]))\n",
    "    \n",
    "    drug1_enc_input_ids = dataset[\"Drug1\"].apply(lambda x:unique_dict_input_ids[x]).to_numpy()\n",
    "    drug1_enc_attention_mask = dataset[\"Drug1\"].apply(lambda x:unique_dict_attention_mask[x]).to_numpy()\n",
    "\n",
    "    drug2_enc_input_ids = dataset[\"Drug2\"].apply(lambda x:unique_dict_input_ids[x]).to_numpy()\n",
    "    drug2_enc_attention_mask = dataset[\"Drug2\"].apply(lambda x:unique_dict_attention_mask[x]).to_numpy()\n",
    "\n",
    "    return drug1_enc_input_ids, drug1_enc_attention_mask, drug2_enc_input_ids, drug2_enc_attention_mask\n",
    "\n",
    "# Example usage:\n",
    "train_tokens = esm2_tokernized_encoding_drug(train_dataset)\n",
    "valid_tokens = esm2_tokernized_encoding_drug(valid_dataset)\n",
    "test_tokens = esm2_tokernized_encoding_drug(test_dataset)"
   ]
  },
  {
   "cell_type": "code",
   "execution_count": 20,
   "metadata": {
    "vscode": {
     "languageId": "ruby"
    }
   },
   "outputs": [],
   "source": [
    "class DrugDataset(Dataset):\n",
    "    def __init__(self, \n",
    "        ds_name, \n",
    "        drug1, \n",
    "        drug1_input_ids, \n",
    "        drug1_att_mask,  \n",
    "        drug2, \n",
    "        drug2_input_ids, \n",
    "        drug2_att_mask,\n",
    "        y):\n",
    "        super(DrugDataset, self).__init__()\n",
    "        self.ds_name = ds_name\n",
    "        self.drug1 = drug1\n",
    "        self.drug1_input_ids = drug1_input_ids\n",
    "        self.drug1_att_mask= drug1_att_mask\n",
    "        self.drug2 = drug2\n",
    "        self.drug2_input_ids = drug2_input_ids\n",
    "        self.drug2_att_mask= drug2_att_mask\n",
    "        self.y = y\n",
    "\n",
    "    def __getitem__(self, ind):\n",
    "        return (#self.ds_name,\n",
    "                #self.Drug[ind],\n",
    "                torch.Tensor(self.drug1_input_ids[ind]), \n",
    "                torch.Tensor(self.drug1_att_mask[ind]),\n",
    "                torch.Tensor(self.drug2_input_ids[ind]), \n",
    "                torch.Tensor(self.drug2_att_mask[ind]),\n",
    "                torch.Tensor(self.y[ind]))\n",
    "\n",
    "    def __len__(self):\n",
    "        return self.drug1_input_ids.shape[0]"
   ]
  },
  {
   "cell_type": "code",
   "execution_count": 21,
   "metadata": {},
   "outputs": [],
   "source": [
    "def relabel(label_dict):\n",
    "    new_label_dict = {}\n",
    "    for k,v in label_dict.items():\n",
    "        new_label_dict[k] = {\n",
    "            \"relabel2ori\" :{l:i for l,i in enumerate(v)},\n",
    "            \"ori2relabel\" :{i:l for l,i in enumerate(v)},\n",
    "            }\n",
    "    return new_label_dict\n",
    "\n",
    "data_config[\"relabels\"] = relabel(data_config[\"sel_labels\"])"
   ]
  },
  {
   "cell_type": "code",
   "execution_count": 22,
   "metadata": {},
   "outputs": [],
   "source": [
    "ds = \"DrugBank\""
   ]
  },
  {
   "cell_type": "code",
   "execution_count": 23,
   "metadata": {},
   "outputs": [],
   "source": [
    "def get_multilabel_onehot(labels, max_labels):\n",
    "    l = np.zeros((len(labels), max_labels))\n",
    "    for i,label in enumerate(labels):\n",
    "        l[i,label] = 1\n",
    "        \n",
    "    return l\n",
    "\n",
    "def create_ds_and_dl(_dataset, _tokens, relabel, ds):\n",
    "    _ds_db = _dataset[\"ds_name\"] == ds\n",
    "    labels = _dataset.loc[_ds_db,\"Y\"].apply(lambda x: [relabel[y] for y in x]).tolist()\n",
    "    labels = get_multilabel_onehot(labels, len(relabel))\n",
    "    \n",
    "    _dt = DrugDataset(\n",
    "            _dataset.loc[_ds_db,\"ds_name\"].tolist(),\n",
    "            _dataset.loc[_ds_db,\"Drug1\"].tolist(),\n",
    "            _tokens[0][_ds_db], \n",
    "            _tokens[1][_ds_db], \n",
    "            _dataset.loc[_ds_db,\"Drug2\"].tolist(),\n",
    "            _tokens[2][_ds_db], \n",
    "            _tokens[3][_ds_db],\n",
    "            labels,\n",
    "        )\n",
    "    \n",
    "    _dl = DataLoader(\n",
    "            _dt, \n",
    "            batch_size=config['batch_size'], \n",
    "            shuffle=False, \n",
    "            pin_memory=True, \n",
    "        )\n",
    "    \n",
    "    return _dt, _dl\n",
    "\n",
    "train_dt, train_dl = create_ds_and_dl(train_dataset, train_tokens, data_config[\"relabels\"][ds][\"ori2relabel\"], ds)\n",
    "valid_dt, valid_dl = create_ds_and_dl(valid_dataset, valid_tokens, data_config[\"relabels\"][ds][\"ori2relabel\"], ds)\n",
    "test_dt, test_dl = create_ds_and_dl(test_dataset, test_tokens, data_config[\"relabels\"][ds][\"ori2relabel\"], ds)"
   ]
  },
  {
   "cell_type": "code",
   "execution_count": 24,
   "metadata": {},
   "outputs": [],
   "source": [
    "def embedding_step(dataloader, device, ds_name, desc=\"processing\"):\n",
    "    esm2_model.eval()\n",
    "    step_embeddings_drug1 = []\n",
    "    step_embeddings_drug2 = []\n",
    "    #step_ds = []\n",
    "    y_true = []\n",
    "\n",
    "    with tqdm(dataloader, unit=\"batch\", desc=desc) as tepoch:\n",
    "        for batch in tepoch:\n",
    "            drug1_input_ids, drug1_att_mask,  drug2_input_ids, drug2_att_mask, y_batch = batch\n",
    "            \n",
    "            drug1_input_ids = drug1_input_ids.long().to(device)\n",
    "            drug1_att_mask = drug1_att_mask.long().to(device)\n",
    "            \n",
    "            drug2_input_ids = drug2_input_ids.long().to(device)\n",
    "            drug2_att_mask = drug2_att_mask.long().to(device)\n",
    "            \n",
    "            drug1 = esm2_model.esm.embeddings(drug1_input_ids, drug1_att_mask)\n",
    "            drug1 = esm2_model.esm.encoder(drug1)\n",
    "            drug1 = drug1.last_hidden_state\n",
    "            \n",
    "            drug2 = esm2_model.esm.embeddings(drug2_input_ids, drug2_att_mask)\n",
    "            drug2 = esm2_model.esm.encoder(drug2)\n",
    "            drug2 = drug2.last_hidden_state\n",
    "            \n",
    "            step_embeddings_drug1.append(drug1[:,0,:].detach().cpu().numpy())\n",
    "            step_embeddings_drug2.append(drug2[:,0,:].detach().cpu().numpy())\n",
    "            y_true.append(y_batch.detach().cpu().numpy())\n",
    "\n",
    "            # convert feature vector into action class\n",
    "\n",
    "    return (np.concatenate(step_embeddings_drug1, axis=0), \n",
    "            np.concatenate(step_embeddings_drug2, axis=0), \n",
    "            np.concatenate(y_true, axis=0),)\n",
    "            #np.concatenate(step_ds, axis=0))"
   ]
  },
  {
   "cell_type": "code",
   "execution_count": 25,
   "metadata": {},
   "outputs": [
    {
     "data": {
      "application/vnd.jupyter.widget-view+json": {
       "model_id": "31501a77687a424fb90c603f09d19b34",
       "version_major": 2,
       "version_minor": 0
      },
      "text/plain": [
       "train embeddings:   0%|          | 0/962 [00:00<?, ?batch/s]"
      ]
     },
     "metadata": {},
     "output_type": "display_data"
    },
    {
     "data": {
      "application/vnd.jupyter.widget-view+json": {
       "model_id": "47fb028d1d644475b7f552fdb7d81f75",
       "version_major": 2,
       "version_minor": 0
      },
      "text/plain": [
       "valid embeddings:   0%|          | 0/138 [00:00<?, ?batch/s]"
      ]
     },
     "metadata": {},
     "output_type": "display_data"
    },
    {
     "data": {
      "application/vnd.jupyter.widget-view+json": {
       "model_id": "bad2bfa42ca640969b84c26d02073d1c",
       "version_major": 2,
       "version_minor": 0
      },
      "text/plain": [
       "test embeddings:   0%|          | 0/275 [00:00<?, ?batch/s]"
      ]
     },
     "metadata": {},
     "output_type": "display_data"
    }
   ],
   "source": [
    "#calculate train embeddings\n",
    "train_embeddings_drug1, train_embeddings_drug2, train_y = embedding_step(train_dl, device, ds, desc=\"train embeddings\")\n",
    "\n",
    "#calculate valid embeddings\n",
    "valid_embeddings_drug1, valid_embeddings_drug2, valid_y = embedding_step(valid_dl, device, ds, desc=\"valid embeddings\")\n",
    "\n",
    "#calculate test embeddings\n",
    "test_embeddings_drug1, test_embeddings_drug2, test_y = embedding_step(test_dl, device, ds, desc=\"test embeddings\")"
   ]
  },
  {
   "cell_type": "code",
   "execution_count": 29,
   "metadata": {},
   "outputs": [
    {
     "name": "stdout",
     "output_type": "stream",
     "text": [
      "==========================================================================================\n",
      "Layer (type:depth-idx)                   Output Shape              Param #\n",
      "==========================================================================================\n",
      "MLP                                      [3, 300, 18]              --\n",
      "├─Linear: 1-1                            [3, 300, 640]             410,240\n",
      "├─GELU: 1-2                              [3, 300, 640]             --\n",
      "├─Linear: 1-3                            [3, 300, 256]             164,096\n",
      "├─GELU: 1-4                              [3, 300, 256]             --\n",
      "├─Linear: 1-5                            [3, 300, 18]              4,626\n",
      "==========================================================================================\n",
      "Total params: 578,962\n",
      "Trainable params: 578,962\n",
      "Non-trainable params: 0\n",
      "Total mult-adds (Units.MEGABYTES): 1.74\n",
      "==========================================================================================\n",
      "Input size (MB): 2.30\n",
      "Forward/backward pass size (MB): 6.58\n",
      "Params size (MB): 2.32\n",
      "Estimated Total Size (MB): 11.20\n",
      "==========================================================================================\n"
     ]
    },
    {
     "data": {
      "application/vnd.jupyter.widget-view+json": {
       "model_id": "674018abc4974b259535ed8a15f95e57",
       "version_major": 2,
       "version_minor": 0
      },
      "text/plain": [
       "Training Epoch:   0%|          | 0/20 [00:00<?, ?it/s]"
      ]
     },
     "metadata": {},
     "output_type": "display_data"
    },
    {
     "data": {
      "application/vnd.jupyter.widget-view+json": {
       "model_id": "7293eb1900d54e3ab489f57bc8fdffc6",
       "version_major": 2,
       "version_minor": 0
      },
      "text/plain": [
       "train:   0%|          | 0/962 [00:00<?, ?batch/s]"
      ]
     },
     "metadata": {},
     "output_type": "display_data"
    },
    {
     "data": {
      "application/vnd.jupyter.widget-view+json": {
       "model_id": "187b26687be04bb1bad470e8dd049e52",
       "version_major": 2,
       "version_minor": 0
      },
      "text/plain": [
       "validation:   0%|          | 0/138 [00:00<?, ?batch/s]"
      ]
     },
     "metadata": {},
     "output_type": "display_data"
    },
    {
     "data": {
      "application/vnd.jupyter.widget-view+json": {
       "model_id": "63a7aa550ea342e190d06becaea787e5",
       "version_major": 2,
       "version_minor": 0
      },
      "text/plain": [
       "train:   0%|          | 0/962 [00:00<?, ?batch/s]"
      ]
     },
     "metadata": {},
     "output_type": "display_data"
    },
    {
     "data": {
      "application/vnd.jupyter.widget-view+json": {
       "model_id": "e45623b02a0e4e999413615cb8048db9",
       "version_major": 2,
       "version_minor": 0
      },
      "text/plain": [
       "validation:   0%|          | 0/138 [00:00<?, ?batch/s]"
      ]
     },
     "metadata": {},
     "output_type": "display_data"
    },
    {
     "data": {
      "application/vnd.jupyter.widget-view+json": {
       "model_id": "a484dd04380d470ba2b1c02cc2df8eef",
       "version_major": 2,
       "version_minor": 0
      },
      "text/plain": [
       "train:   0%|          | 0/962 [00:00<?, ?batch/s]"
      ]
     },
     "metadata": {},
     "output_type": "display_data"
    },
    {
     "data": {
      "application/vnd.jupyter.widget-view+json": {
       "model_id": "41ccc97726f24592ba04122cb0221f1c",
       "version_major": 2,
       "version_minor": 0
      },
      "text/plain": [
       "validation:   0%|          | 0/138 [00:00<?, ?batch/s]"
      ]
     },
     "metadata": {},
     "output_type": "display_data"
    },
    {
     "data": {
      "application/vnd.jupyter.widget-view+json": {
       "model_id": "c52909a473134ba5a6cfb1703660dc77",
       "version_major": 2,
       "version_minor": 0
      },
      "text/plain": [
       "train:   0%|          | 0/962 [00:00<?, ?batch/s]"
      ]
     },
     "metadata": {},
     "output_type": "display_data"
    },
    {
     "data": {
      "application/vnd.jupyter.widget-view+json": {
       "model_id": "68f1b5783ebb4a05928d1b4e42aebdd6",
       "version_major": 2,
       "version_minor": 0
      },
      "text/plain": [
       "validation:   0%|          | 0/138 [00:00<?, ?batch/s]"
      ]
     },
     "metadata": {},
     "output_type": "display_data"
    },
    {
     "data": {
      "application/vnd.jupyter.widget-view+json": {
       "model_id": "54f8daffb4864a8e9ec762b750dd2978",
       "version_major": 2,
       "version_minor": 0
      },
      "text/plain": [
       "train:   0%|          | 0/962 [00:00<?, ?batch/s]"
      ]
     },
     "metadata": {},
     "output_type": "display_data"
    },
    {
     "data": {
      "application/vnd.jupyter.widget-view+json": {
       "model_id": "5bde399c3222432c99ed9a2051418763",
       "version_major": 2,
       "version_minor": 0
      },
      "text/plain": [
       "validation:   0%|          | 0/138 [00:00<?, ?batch/s]"
      ]
     },
     "metadata": {},
     "output_type": "display_data"
    },
    {
     "data": {
      "application/vnd.jupyter.widget-view+json": {
       "model_id": "dfa58de5d8864be4a147c74df0a361b1",
       "version_major": 2,
       "version_minor": 0
      },
      "text/plain": [
       "train:   0%|          | 0/962 [00:00<?, ?batch/s]"
      ]
     },
     "metadata": {},
     "output_type": "display_data"
    },
    {
     "data": {
      "application/vnd.jupyter.widget-view+json": {
       "model_id": "db7fa71031ad48eea886a48bdb53dcbf",
       "version_major": 2,
       "version_minor": 0
      },
      "text/plain": [
       "validation:   0%|          | 0/138 [00:00<?, ?batch/s]"
      ]
     },
     "metadata": {},
     "output_type": "display_data"
    },
    {
     "data": {
      "application/vnd.jupyter.widget-view+json": {
       "model_id": "7a72f46d403c47edb13a9197f0a3e32e",
       "version_major": 2,
       "version_minor": 0
      },
      "text/plain": [
       "train:   0%|          | 0/962 [00:00<?, ?batch/s]"
      ]
     },
     "metadata": {},
     "output_type": "display_data"
    },
    {
     "data": {
      "application/vnd.jupyter.widget-view+json": {
       "model_id": "6cd779c20e8945848cf354df2d0626c0",
       "version_major": 2,
       "version_minor": 0
      },
      "text/plain": [
       "validation:   0%|          | 0/138 [00:00<?, ?batch/s]"
      ]
     },
     "metadata": {},
     "output_type": "display_data"
    },
    {
     "data": {
      "application/vnd.jupyter.widget-view+json": {
       "model_id": "853360d36dfd4f91911030e7d429708e",
       "version_major": 2,
       "version_minor": 0
      },
      "text/plain": [
       "train:   0%|          | 0/962 [00:00<?, ?batch/s]"
      ]
     },
     "metadata": {},
     "output_type": "display_data"
    },
    {
     "data": {
      "application/vnd.jupyter.widget-view+json": {
       "model_id": "d0b52d1f3f994bfabd04e35100f9be76",
       "version_major": 2,
       "version_minor": 0
      },
      "text/plain": [
       "validation:   0%|          | 0/138 [00:00<?, ?batch/s]"
      ]
     },
     "metadata": {},
     "output_type": "display_data"
    },
    {
     "data": {
      "application/vnd.jupyter.widget-view+json": {
       "model_id": "8807afbc8523429d90e64c04dff7a4dc",
       "version_major": 2,
       "version_minor": 0
      },
      "text/plain": [
       "train:   0%|          | 0/962 [00:00<?, ?batch/s]"
      ]
     },
     "metadata": {},
     "output_type": "display_data"
    },
    {
     "data": {
      "application/vnd.jupyter.widget-view+json": {
       "model_id": "a187df168313470ea4b1114a6f92d6b5",
       "version_major": 2,
       "version_minor": 0
      },
      "text/plain": [
       "validation:   0%|          | 0/138 [00:00<?, ?batch/s]"
      ]
     },
     "metadata": {},
     "output_type": "display_data"
    },
    {
     "data": {
      "application/vnd.jupyter.widget-view+json": {
       "model_id": "e0f364a7145346e895e1e9c924331941",
       "version_major": 2,
       "version_minor": 0
      },
      "text/plain": [
       "train:   0%|          | 0/962 [00:00<?, ?batch/s]"
      ]
     },
     "metadata": {},
     "output_type": "display_data"
    },
    {
     "data": {
      "application/vnd.jupyter.widget-view+json": {
       "model_id": "a8330a747b3646a98430ecc58bc4af2d",
       "version_major": 2,
       "version_minor": 0
      },
      "text/plain": [
       "validation:   0%|          | 0/138 [00:00<?, ?batch/s]"
      ]
     },
     "metadata": {},
     "output_type": "display_data"
    },
    {
     "data": {
      "application/vnd.jupyter.widget-view+json": {
       "model_id": "f0a3ca0d1b5a4e88999aa575db745a38",
       "version_major": 2,
       "version_minor": 0
      },
      "text/plain": [
       "train:   0%|          | 0/962 [00:00<?, ?batch/s]"
      ]
     },
     "metadata": {},
     "output_type": "display_data"
    },
    {
     "data": {
      "application/vnd.jupyter.widget-view+json": {
       "model_id": "6aa1f92dc9574a9db20e254020b1c6f1",
       "version_major": 2,
       "version_minor": 0
      },
      "text/plain": [
       "validation:   0%|          | 0/138 [00:00<?, ?batch/s]"
      ]
     },
     "metadata": {},
     "output_type": "display_data"
    },
    {
     "data": {
      "application/vnd.jupyter.widget-view+json": {
       "model_id": "441681e2258c4e1e92c9062451e08029",
       "version_major": 2,
       "version_minor": 0
      },
      "text/plain": [
       "train:   0%|          | 0/962 [00:00<?, ?batch/s]"
      ]
     },
     "metadata": {},
     "output_type": "display_data"
    },
    {
     "data": {
      "application/vnd.jupyter.widget-view+json": {
       "model_id": "2f9654cb55724e1f865e61a6b1c84e4f",
       "version_major": 2,
       "version_minor": 0
      },
      "text/plain": [
       "validation:   0%|          | 0/138 [00:00<?, ?batch/s]"
      ]
     },
     "metadata": {},
     "output_type": "display_data"
    },
    {
     "data": {
      "application/vnd.jupyter.widget-view+json": {
       "model_id": "7de82afad1ea44a5b843c670a0c9b2fc",
       "version_major": 2,
       "version_minor": 0
      },
      "text/plain": [
       "train:   0%|          | 0/962 [00:00<?, ?batch/s]"
      ]
     },
     "metadata": {},
     "output_type": "display_data"
    },
    {
     "data": {
      "application/vnd.jupyter.widget-view+json": {
       "model_id": "90fb6e373c3642028d62ed1e678d2d57",
       "version_major": 2,
       "version_minor": 0
      },
      "text/plain": [
       "validation:   0%|          | 0/138 [00:00<?, ?batch/s]"
      ]
     },
     "metadata": {},
     "output_type": "display_data"
    },
    {
     "data": {
      "application/vnd.jupyter.widget-view+json": {
       "model_id": "b42507680dc64ad4adc2f136e0dc8c7b",
       "version_major": 2,
       "version_minor": 0
      },
      "text/plain": [
       "train:   0%|          | 0/962 [00:00<?, ?batch/s]"
      ]
     },
     "metadata": {},
     "output_type": "display_data"
    },
    {
     "data": {
      "application/vnd.jupyter.widget-view+json": {
       "model_id": "dd15261e5e9149e29417bde2b98091b4",
       "version_major": 2,
       "version_minor": 0
      },
      "text/plain": [
       "validation:   0%|          | 0/138 [00:00<?, ?batch/s]"
      ]
     },
     "metadata": {},
     "output_type": "display_data"
    },
    {
     "data": {
      "application/vnd.jupyter.widget-view+json": {
       "model_id": "30c9914f559f42c5830dc5a7d49cdfb3",
       "version_major": 2,
       "version_minor": 0
      },
      "text/plain": [
       "train:   0%|          | 0/962 [00:00<?, ?batch/s]"
      ]
     },
     "metadata": {},
     "output_type": "display_data"
    },
    {
     "data": {
      "application/vnd.jupyter.widget-view+json": {
       "model_id": "6d24b1336f26441993854697a4252d50",
       "version_major": 2,
       "version_minor": 0
      },
      "text/plain": [
       "validation:   0%|          | 0/138 [00:00<?, ?batch/s]"
      ]
     },
     "metadata": {},
     "output_type": "display_data"
    },
    {
     "data": {
      "application/vnd.jupyter.widget-view+json": {
       "model_id": "8423d990764042778f200c8101ecbe21",
       "version_major": 2,
       "version_minor": 0
      },
      "text/plain": [
       "train:   0%|          | 0/962 [00:00<?, ?batch/s]"
      ]
     },
     "metadata": {},
     "output_type": "display_data"
    },
    {
     "data": {
      "application/vnd.jupyter.widget-view+json": {
       "model_id": "4993fed15aeb489d92c6e88c069bd744",
       "version_major": 2,
       "version_minor": 0
      },
      "text/plain": [
       "validation:   0%|          | 0/138 [00:00<?, ?batch/s]"
      ]
     },
     "metadata": {},
     "output_type": "display_data"
    },
    {
     "data": {
      "application/vnd.jupyter.widget-view+json": {
       "model_id": "fdce7d1a4ff84de8a7b7762e9546d935",
       "version_major": 2,
       "version_minor": 0
      },
      "text/plain": [
       "train:   0%|          | 0/962 [00:00<?, ?batch/s]"
      ]
     },
     "metadata": {},
     "output_type": "display_data"
    },
    {
     "data": {
      "application/vnd.jupyter.widget-view+json": {
       "model_id": "f8c112e9c7cf4acaa2072475a2c88131",
       "version_major": 2,
       "version_minor": 0
      },
      "text/plain": [
       "validation:   0%|          | 0/138 [00:00<?, ?batch/s]"
      ]
     },
     "metadata": {},
     "output_type": "display_data"
    },
    {
     "data": {
      "application/vnd.jupyter.widget-view+json": {
       "model_id": "1e17bc392e6d4bfda7ee33c181abcda0",
       "version_major": 2,
       "version_minor": 0
      },
      "text/plain": [
       "train:   0%|          | 0/962 [00:00<?, ?batch/s]"
      ]
     },
     "metadata": {},
     "output_type": "display_data"
    },
    {
     "data": {
      "application/vnd.jupyter.widget-view+json": {
       "model_id": "a7675b13f4c74924b763c74f49f7d3a2",
       "version_major": 2,
       "version_minor": 0
      },
      "text/plain": [
       "validation:   0%|          | 0/138 [00:00<?, ?batch/s]"
      ]
     },
     "metadata": {},
     "output_type": "display_data"
    },
    {
     "data": {
      "application/vnd.jupyter.widget-view+json": {
       "model_id": "9d144b2152f64f5eb6f248ef5110fdd4",
       "version_major": 2,
       "version_minor": 0
      },
      "text/plain": [
       "train:   0%|          | 0/962 [00:00<?, ?batch/s]"
      ]
     },
     "metadata": {},
     "output_type": "display_data"
    },
    {
     "data": {
      "application/vnd.jupyter.widget-view+json": {
       "model_id": "0b3bbeec06e24b0097c3e8f8795724b5",
       "version_major": 2,
       "version_minor": 0
      },
      "text/plain": [
       "validation:   0%|          | 0/138 [00:00<?, ?batch/s]"
      ]
     },
     "metadata": {},
     "output_type": "display_data"
    },
    {
     "data": {
      "application/vnd.jupyter.widget-view+json": {
       "model_id": "7de6c47d378441af9f4517786fed08c4",
       "version_major": 2,
       "version_minor": 0
      },
      "text/plain": [
       "train:   0%|          | 0/962 [00:00<?, ?batch/s]"
      ]
     },
     "metadata": {},
     "output_type": "display_data"
    },
    {
     "data": {
      "application/vnd.jupyter.widget-view+json": {
       "model_id": "c2bd81e94d714376b7c452492b911933",
       "version_major": 2,
       "version_minor": 0
      },
      "text/plain": [
       "validation:   0%|          | 0/138 [00:00<?, ?batch/s]"
      ]
     },
     "metadata": {},
     "output_type": "display_data"
    },
    {
     "data": {
      "application/vnd.jupyter.widget-view+json": {
       "model_id": "47daaeb0514249d3a7c07633c6f70eb3",
       "version_major": 2,
       "version_minor": 0
      },
      "text/plain": [
       "test:   0%|          | 0/275 [00:00<?, ?batch/s]"
      ]
     },
     "metadata": {},
     "output_type": "display_data"
    },
    {
     "name": "stdout",
     "output_type": "stream",
     "text": [
      "{'0_precision': 0.9444176006720417, '0_recall': 1.0, '0_f1-score': 0.9714143714247662, '0_support': 598094, '1_precision': 0.0, '1_recall': 0.0, '1_f1-score': 0.0, '1_support': 35200, 'accuracy': 0.9444176006720417, 'macro avg_precision': 0.47220880033602086, 'macro avg_recall': 0.5, 'macro avg_f1-score': 0.4857071857123831, 'macro avg_support': 633294, 'weighted avg_precision': 0.891924604459136, 'weighted avg_recall': 0.9444176006720417, 'weighted avg_f1-score': 0.9174208299193172, 'weighted avg_support': 633294, 'PR-AUC': 0.5, 'ROC-AUC': 0.5, 'epoch_loss': 0.0013100593736639777}\n",
      "========================================\n"
     ]
    }
   ],
   "source": [
    "class MLP(nn.Module):\n",
    "    def __init__(self, **config):\n",
    "        super(MLP, self).__init__()\n",
    "        self.linear1 = nn.Linear(config[\"n_drug1_channels\"]+ config[\"n_drug2_channels\"], config[\"n_drug1_channels\"]+ config[\"n_drug2_channels\"])\n",
    "        self.act1 = nn.GELU()\n",
    "        self.linear2 = nn.Linear(config[\"n_drug1_channels\"]+ config[\"n_drug2_channels\"], 256)\n",
    "        self.act2 = nn.GELU()\n",
    "        self.linear3 = nn.Linear(256, config[\"bins\"])\n",
    "        \n",
    "        \n",
    "    def forward(self, v_drug1, v_drug2):\n",
    "        \n",
    "        concat_v = torch.concat([v_drug1, v_drug2], dim=-1)\n",
    "        x = self.linear1(concat_v)\n",
    "        x = self.act1(x)\n",
    "        x = self.linear2(x)\n",
    "        x = self.act2(x)\n",
    "        x = self.linear3(x)\n",
    "        \n",
    "        return x\n",
    "\n",
    "class DrugEmbDataset(Dataset):\n",
    "    def __init__(self, \n",
    "        drug1, \n",
    "        drug2, \n",
    "        y):\n",
    "        super(DrugEmbDataset, self).__init__()\n",
    "        self.drug1 = drug1\n",
    "        self.drug2 = drug2\n",
    "        self.y = y\n",
    "\n",
    "    def __getitem__(self, ind):\n",
    "        return (self.drug1[ind], \n",
    "                self.drug2[ind], \n",
    "                self.y[ind])\n",
    "\n",
    "    def __len__(self):\n",
    "        return self.drug1.shape[0]\n",
    "\n",
    "def create_emb_ds_and_dl(_embeddings_drug1, _embeddings_drug2, _y):\n",
    "    _dt = DrugEmbDataset(\n",
    "        _embeddings_drug1, \n",
    "        _embeddings_drug2, \n",
    "        _y)\n",
    "    \n",
    "    _dl = DataLoader(\n",
    "            _dt, \n",
    "            batch_size=config['batch_size'], \n",
    "            shuffle=False, \n",
    "            pin_memory=True, \n",
    "        )\n",
    "    \n",
    "    return _dt, _dl\n",
    "\n",
    "def unnest_dictionary(d:dict, level:str=None, unnested_dict:dict = {}) -> dict:\n",
    "    for k, v in d.items():\n",
    "        if level:\n",
    "            next_level=f\"{level}_{k}\"\n",
    "        else:\n",
    "            next_level = k\n",
    "            \n",
    "        if not isinstance(v,dict):\n",
    "            #print(level,k)\n",
    "            unnested_dict[next_level] = v\n",
    "        else:\n",
    "            #print(d,level,k,v,2)\n",
    "            unnest_dictionary(v, next_level, unnested_dict)\n",
    "            \n",
    "    return unnested_dict\n",
    "\n",
    "def metric_binary_multilabel_classification(y_pred:np.array,y:np.array)->dict:\n",
    "    \"\"\"\n",
    "    Contains the relevant metrics for multilabel Binary Classification\n",
    "\n",
    "    Args:\n",
    "        y_pred (np.array):model output of logit layer \n",
    "        y (np.array): onehot encoded target \n",
    "    \"\"\"\n",
    "    \n",
    "    #macro_avg\n",
    "    y_pred_flatten = y_pred.astype(int).flatten()\n",
    "    y_flatten = y.astype(int).flatten()\n",
    "    #print(np.unique(y_pred_flatten), np.unique(y_flatten))\n",
    "    \n",
    "    \"\"\"\n",
    "    print(metrics.classification_report(\n",
    "        y_pred=y_pred_flatten,\n",
    "        y_true=y_flatten,\n",
    "    ))\n",
    "    \"\"\"\n",
    "    \n",
    "    met = metrics.classification_report(\n",
    "        y_pred=y_pred_flatten,\n",
    "        y_true=y_flatten,\n",
    "        output_dict=True\n",
    "    )\n",
    "    \n",
    "    #print(id(met))\n",
    "    \n",
    "    met = unnest_dictionary(met,unnested_dict={})\n",
    "    #print(id(met))\n",
    "    fpr, tpr, thresholds = metrics.roc_curve(y_flatten, y_pred_flatten)\n",
    "    met[\"PR-AUC\"] = metrics.auc(fpr, tpr)\n",
    "    met[\"ROC-AUC\"] = metrics.roc_auc_score(y_flatten, y_pred_flatten)\n",
    "    return met\n",
    "\n",
    "def train_step(model, dataloader, optimizer, loss_module, device):\n",
    "    model = model.train()\n",
    "    epoch_loss = 0  # total loss of epoch\n",
    "    total_samples = 0  # total samples in epoch\n",
    "    step_preds = []\n",
    "    step_targets = []\n",
    "\n",
    "    with tqdm(dataloader, unit=\"batch\", desc=\"train\") as tepoch:\n",
    "        for batch in tepoch:\n",
    "            drug1, drug2, targets = batch\n",
    "            drug1, drug2 = drug1.float().to(device), drug2.float().to(device)\n",
    "            targets = targets.float().to(device)\n",
    "\n",
    "            # Zero gradients, perform a backward pass, and update the weights.\n",
    "            optimizer.zero_grad()\n",
    "            # forward\n",
    "            # track history if only in train\n",
    "            with torch.set_grad_enabled(True):\n",
    "            # with autocast():\n",
    "                logits = model(drug1, drug2)\n",
    "                loss = loss_module(logits, targets)\n",
    "\n",
    "\n",
    "            loss.backward()\n",
    "            optimizer.step()\n",
    "\n",
    "            with torch.no_grad():\n",
    "                total_samples += len(targets)\n",
    "                epoch_loss += loss.item()  # add total loss of batch\n",
    "                step_preds.append(\n",
    "                    nn.functional.sigmoid(logits).cpu().detach().numpy()\n",
    "                    )\n",
    "                step_targets.append(targets.cpu().detach().numpy())\n",
    "\n",
    "            # convert feature vector into action class\n",
    "            # using cosine\n",
    "            tepoch.set_postfix({\"loss\": loss.item()})\n",
    "\n",
    "    metrics = metric_binary_multilabel_classification(\n",
    "                y_pred=np.concatenate(step_preds, axis=0),\n",
    "                y=np.concatenate(step_targets, axis=0)\n",
    "            )\n",
    "    \n",
    "    metrics[\"epoch_loss\"] = epoch_loss / total_samples # average loss per sample for whole epoch\n",
    "    return metrics\n",
    "\n",
    "def eval_step(model, dataloader, loss_module, device, desc=\"validation\"):\n",
    "    model = model.eval()\n",
    "    epoch_loss = 0  # total loss of epoch\n",
    "    total_samples = 0  # total samples in epoch\n",
    "    step_preds = []\n",
    "    step_targets = []\n",
    "\n",
    "    with tqdm(dataloader, unit=\"batch\", desc=desc) as tepoch:\n",
    "        for batch in tepoch:\n",
    "            drug1, drug2, targets = batch\n",
    "            drug1, drug2 = drug1.float().to(device), drug2.float().to(device)\n",
    "            targets = targets.float().to(device)\n",
    "\n",
    "            # forward\n",
    "            # track history if only in train\n",
    "            with torch.set_grad_enabled(False):\n",
    "            # with autocast():\n",
    "                logits = model(drug1, drug2)\n",
    "                loss = loss_module(logits, targets)\n",
    "\n",
    "            #loss = cross_entropy_loss\n",
    "            with torch.no_grad():\n",
    "                total_samples += len(targets)\n",
    "                epoch_loss += loss.item()  # add total loss of batch\n",
    "                step_preds.append(\n",
    "                    nn.functional.sigmoid(logits).cpu().detach().numpy()\n",
    "                    )\n",
    "                step_targets.append(targets.cpu().detach().numpy())\n",
    "\n",
    "            # convert feature vector into action class\n",
    "            # using cosine\n",
    "            tepoch.set_postfix({\"loss\": loss.item()})\n",
    "\n",
    "    metrics = metric_binary_multilabel_classification(\n",
    "                y_pred=np.concatenate(step_preds, axis=0),\n",
    "                y=np.concatenate(step_targets, axis=0)\n",
    "            )\n",
    "    \n",
    "    metrics[\"epoch_loss\"] = epoch_loss / total_samples # average loss per sample for whole epoch\n",
    "    return metrics\n",
    "\n",
    "train_dt, train_dl = create_emb_ds_and_dl(train_embeddings_drug1, train_embeddings_drug2, train_y)\n",
    "valid_dt, valid_dl = create_emb_ds_and_dl(valid_embeddings_drug1, valid_embeddings_drug2, valid_y)\n",
    "test_dt, test_dl = create_emb_ds_and_dl(test_embeddings_drug1, test_embeddings_drug2, test_y)\n",
    "\n",
    "config[\"model\"][\"bins\"] = len(data_config[\"relabels\"][ds][\"ori2relabel\"])\n",
    "_effect_model = MLP(**config[\"model\"]).to(device)\n",
    "loss = nn.BCEWithLogitsLoss()\n",
    "\n",
    "print(summary(_effect_model, \n",
    "        input_data=[\n",
    "            torch.rand(3, config[\"model\"]['max_seq_drug1'], config[\"model\"]['n_drug1_channels']).to(device),\n",
    "            torch.rand(3, config[\"model\"]['max_seq_drug2'], config[\"model\"]['n_drug2_channels']).to(device)\n",
    "            ]\n",
    "        ))\n",
    "\n",
    "optimizer = Adam(_effect_model.parameters(), lr=config[\"optimizer\"]['LR'],weight_decay=config[\"optimizer\"][\"weight_decay\"])\n",
    "best_acc = 0.0\n",
    "\n",
    "# train the model\n",
    "train_data = []\n",
    "for epoch in tqdm(range(config['train_epoch']), desc='Training Epoch'):\n",
    "    train_metrics = train_step(_effect_model, train_dl, optimizer, loss, device)\n",
    "    train_metrics['epoch'] = epoch\n",
    "    train_metrics['phase'] = 'train'\n",
    "    train_data.append(train_metrics)\n",
    "    #print(len(train_data), epoch, id(train_metrics))\n",
    "    #log(i, 'train', train_metrics)\n",
    "\n",
    "    eval_metrics = eval_step(_effect_model, valid_dl, loss, device)\n",
    "    eval_metrics['epoch'] = epoch\n",
    "    eval_metrics['phase'] = 'valid'\n",
    "    train_data.append(eval_metrics)\n",
    "    #print(len(train_data), epoch), id(eval_metrics)\n",
    "    #log(i, 'eval', eval_metrics)\n",
    "    # print(f\"EPOCH [{epoch}] TRAINING : {train_metrics}\")\n",
    "    # print(f\"EPOCH [{epoch}] EVAL : {eval_metrics}\")\n",
    "    #if eval_metrics['accuracy'] > best_acc:\n",
    "    #    best_model = deepcopy(model.state_dict())\n",
    "\n",
    "train_df = pd.DataFrame().from_records(train_data).reset_index()\n",
    "\n",
    "# replace by best model\n",
    "#model.load_state_dict(best_model)\n",
    "\n",
    "# run evaluation on unseen classes\n",
    "test_metrics = eval_step(_effect_model, test_dl, loss, device, desc=\"test\")\n",
    "#log('test', i, test_metrics)\n",
    "print(test_metrics)\n",
    "print(\"=\"*40)\n",
    "\n",
    "\n"
   ]
  },
  {
   "cell_type": "code",
   "execution_count": null,
   "metadata": {},
   "outputs": [],
   "source": [
    "del esm2_model\n",
    "del tokenizer\n",
    "torch.cuda.empty_cache()"
   ]
  },
  {
   "cell_type": "markdown",
   "metadata": {},
   "source": [
    "### Dataset Wise Analysis"
   ]
  },
  {
   "cell_type": "code",
   "execution_count": null,
   "metadata": {},
   "outputs": [
    {
     "data": {
      "application/vnd.jupyter.widget-view+json": {
       "model_id": "79aff6da5b874be8845bfef950610e41",
       "version_major": 2,
       "version_minor": 0
      },
      "text/plain": [
       "  0%|          | 0/20 [00:00<?, ?it/s]"
      ]
     },
     "metadata": {},
     "output_type": "display_data"
    }
   ],
   "source": [
    "test_dataset[\"Y_pred\"] = test_preds\n",
    "reports = {}\n",
    "\n",
    "#function that flattends a dictionary\n",
    "def flatten_dict(d, parent_key='', sep='_'):\n",
    "    items = []\n",
    "    for k, v in d.items():\n",
    "        new_key = parent_key + sep + k if parent_key else k\n",
    "        if isinstance(v, dict):\n",
    "            items.extend(flatten_dict(v, new_key, sep=sep).items())\n",
    "        else:\n",
    "            items.append((new_key, v))\n",
    "    return dict(items)\n",
    "\n",
    "#flatten a list\n",
    "def flatten_list(l):\n",
    "    return [item for sublist in l for item in sublist]\n",
    "\n",
    "unique_ds = set(flatten_list(test_dataset[\"ds_name\"].apply(lambda x: eval(x)).to_list()))\n",
    "\n",
    "for ds in tqdm(unique_ds):\n",
    "    ds_df = test_dataset[test_dataset[\"ds_name\"].apply(lambda x: eval(x)).apply(lambda x: ds in x)]\n",
    "    report = classification_report(ds_df[\"Y\"], ds_df[\"Y_pred\"], output_dict=True)\n",
    "    reports[\"\".join(ds)] = flatten_dict(report)\n",
    "    \n",
    "reports = pd.DataFrame.from_dict(reports, orient='index')"
   ]
  },
  {
   "cell_type": "code",
   "execution_count": null,
   "metadata": {},
   "outputs": [
    {
     "data": {
      "text/html": [
       "<div>\n",
       "<style scoped>\n",
       "    .dataframe tbody tr th:only-of-type {\n",
       "        vertical-align: middle;\n",
       "    }\n",
       "\n",
       "    .dataframe tbody tr th {\n",
       "        vertical-align: top;\n",
       "    }\n",
       "\n",
       "    .dataframe thead th {\n",
       "        text-align: right;\n",
       "    }\n",
       "</style>\n",
       "<table border=\"1\" class=\"dataframe\">\n",
       "  <thead>\n",
       "    <tr style=\"text-align: right;\">\n",
       "      <th></th>\n",
       "      <th>False_precision</th>\n",
       "      <th>False_recall</th>\n",
       "      <th>False_f1-score</th>\n",
       "      <th>False_support</th>\n",
       "      <th>True_precision</th>\n",
       "      <th>True_recall</th>\n",
       "      <th>True_f1-score</th>\n",
       "      <th>True_support</th>\n",
       "      <th>accuracy</th>\n",
       "      <th>macro avg_precision</th>\n",
       "      <th>macro avg_recall</th>\n",
       "      <th>macro avg_f1-score</th>\n",
       "      <th>macro avg_support</th>\n",
       "      <th>weighted avg_precision</th>\n",
       "      <th>weighted avg_recall</th>\n",
       "      <th>weighted avg_f1-score</th>\n",
       "      <th>weighted avg_support</th>\n",
       "    </tr>\n",
       "  </thead>\n",
       "  <tbody>\n",
       "    <tr>\n",
       "      <th>hERG_inhib</th>\n",
       "      <td>0.964957</td>\n",
       "      <td>0.936804</td>\n",
       "      <td>0.950672</td>\n",
       "      <td>58611</td>\n",
       "      <td>0.172845</td>\n",
       "      <td>0.279624</td>\n",
       "      <td>0.213635</td>\n",
       "      <td>2768</td>\n",
       "      <td>0.907167</td>\n",
       "      <td>0.568901</td>\n",
       "      <td>0.608214</td>\n",
       "      <td>0.582153</td>\n",
       "      <td>61379</td>\n",
       "      <td>0.929235</td>\n",
       "      <td>0.907167</td>\n",
       "      <td>0.917434</td>\n",
       "      <td>61379</td>\n",
       "    </tr>\n",
       "    <tr>\n",
       "      <th>Tox21_SR-MMP</th>\n",
       "      <td>0.790514</td>\n",
       "      <td>0.668896</td>\n",
       "      <td>0.724638</td>\n",
       "      <td>897</td>\n",
       "      <td>0.263027</td>\n",
       "      <td>0.400000</td>\n",
       "      <td>0.317365</td>\n",
       "      <td>265</td>\n",
       "      <td>0.607573</td>\n",
       "      <td>0.526771</td>\n",
       "      <td>0.534448</td>\n",
       "      <td>0.521001</td>\n",
       "      <td>1162</td>\n",
       "      <td>0.670218</td>\n",
       "      <td>0.607573</td>\n",
       "      <td>0.631757</td>\n",
       "      <td>1162</td>\n",
       "    </tr>\n",
       "    <tr>\n",
       "      <th>Tox21_SR-HSE</th>\n",
       "      <td>0.848245</td>\n",
       "      <td>0.693519</td>\n",
       "      <td>0.763118</td>\n",
       "      <td>1080</td>\n",
       "      <td>0.192683</td>\n",
       "      <td>0.370892</td>\n",
       "      <td>0.253612</td>\n",
       "      <td>213</td>\n",
       "      <td>0.640371</td>\n",
       "      <td>0.520464</td>\n",
       "      <td>0.532205</td>\n",
       "      <td>0.508365</td>\n",
       "      <td>1293</td>\n",
       "      <td>0.740252</td>\n",
       "      <td>0.640371</td>\n",
       "      <td>0.679185</td>\n",
       "      <td>1293</td>\n",
       "    </tr>\n",
       "    <tr>\n",
       "      <th>Tox21_SR-p53</th>\n",
       "      <td>0.850055</td>\n",
       "      <td>0.689624</td>\n",
       "      <td>0.761481</td>\n",
       "      <td>1118</td>\n",
       "      <td>0.225446</td>\n",
       "      <td>0.426160</td>\n",
       "      <td>0.294891</td>\n",
       "      <td>237</td>\n",
       "      <td>0.643542</td>\n",
       "      <td>0.537751</td>\n",
       "      <td>0.557892</td>\n",
       "      <td>0.528186</td>\n",
       "      <td>1355</td>\n",
       "      <td>0.740806</td>\n",
       "      <td>0.643542</td>\n",
       "      <td>0.679871</td>\n",
       "      <td>1355</td>\n",
       "    </tr>\n",
       "    <tr>\n",
       "      <th>Tox21_SR-ATAD5</th>\n",
       "      <td>0.862808</td>\n",
       "      <td>0.673640</td>\n",
       "      <td>0.756579</td>\n",
       "      <td>1195</td>\n",
       "      <td>0.189189</td>\n",
       "      <td>0.415525</td>\n",
       "      <td>0.260000</td>\n",
       "      <td>219</td>\n",
       "      <td>0.633663</td>\n",
       "      <td>0.525999</td>\n",
       "      <td>0.544583</td>\n",
       "      <td>0.508289</td>\n",
       "      <td>1414</td>\n",
       "      <td>0.758478</td>\n",
       "      <td>0.633663</td>\n",
       "      <td>0.679669</td>\n",
       "      <td>1414</td>\n",
       "    </tr>\n",
       "    <tr>\n",
       "      <th>hERG</th>\n",
       "      <td>0.347826</td>\n",
       "      <td>0.516129</td>\n",
       "      <td>0.415584</td>\n",
       "      <td>31</td>\n",
       "      <td>0.823529</td>\n",
       "      <td>0.700000</td>\n",
       "      <td>0.756757</td>\n",
       "      <td>100</td>\n",
       "      <td>0.656489</td>\n",
       "      <td>0.585678</td>\n",
       "      <td>0.608065</td>\n",
       "      <td>0.586171</td>\n",
       "      <td>131</td>\n",
       "      <td>0.710958</td>\n",
       "      <td>0.656489</td>\n",
       "      <td>0.676021</td>\n",
       "      <td>131</td>\n",
       "    </tr>\n",
       "    <tr>\n",
       "      <th>Tox21_NR-PPAR-gamma</th>\n",
       "      <td>0.860438</td>\n",
       "      <td>0.681901</td>\n",
       "      <td>0.760836</td>\n",
       "      <td>1094</td>\n",
       "      <td>0.177305</td>\n",
       "      <td>0.382653</td>\n",
       "      <td>0.242326</td>\n",
       "      <td>196</td>\n",
       "      <td>0.636434</td>\n",
       "      <td>0.518872</td>\n",
       "      <td>0.532277</td>\n",
       "      <td>0.501581</td>\n",
       "      <td>1290</td>\n",
       "      <td>0.756644</td>\n",
       "      <td>0.636434</td>\n",
       "      <td>0.682055</td>\n",
       "      <td>1290</td>\n",
       "    </tr>\n",
       "    <tr>\n",
       "      <th>Tox21_SR-ARE</th>\n",
       "      <td>0.797264</td>\n",
       "      <td>0.702851</td>\n",
       "      <td>0.747086</td>\n",
       "      <td>912</td>\n",
       "      <td>0.251381</td>\n",
       "      <td>0.358268</td>\n",
       "      <td>0.295455</td>\n",
       "      <td>254</td>\n",
       "      <td>0.627787</td>\n",
       "      <td>0.524322</td>\n",
       "      <td>0.530559</td>\n",
       "      <td>0.521270</td>\n",
       "      <td>1166</td>\n",
       "      <td>0.678349</td>\n",
       "      <td>0.627787</td>\n",
       "      <td>0.648703</td>\n",
       "      <td>1166</td>\n",
       "    </tr>\n",
       "    <tr>\n",
       "      <th>Tox21_NR-AR</th>\n",
       "      <td>0.845992</td>\n",
       "      <td>0.672255</td>\n",
       "      <td>0.749183</td>\n",
       "      <td>1193</td>\n",
       "      <td>0.225743</td>\n",
       "      <td>0.438462</td>\n",
       "      <td>0.298039</td>\n",
       "      <td>260</td>\n",
       "      <td>0.630420</td>\n",
       "      <td>0.535867</td>\n",
       "      <td>0.555358</td>\n",
       "      <td>0.523611</td>\n",
       "      <td>1453</td>\n",
       "      <td>0.735004</td>\n",
       "      <td>0.630420</td>\n",
       "      <td>0.668455</td>\n",
       "      <td>1453</td>\n",
       "    </tr>\n",
       "    <tr>\n",
       "      <th>DILI</th>\n",
       "      <td>0.397059</td>\n",
       "      <td>0.627907</td>\n",
       "      <td>0.486486</td>\n",
       "      <td>43</td>\n",
       "      <td>0.407407</td>\n",
       "      <td>0.211538</td>\n",
       "      <td>0.278481</td>\n",
       "      <td>52</td>\n",
       "      <td>0.400000</td>\n",
       "      <td>0.402233</td>\n",
       "      <td>0.419723</td>\n",
       "      <td>0.382484</td>\n",
       "      <td>95</td>\n",
       "      <td>0.402723</td>\n",
       "      <td>0.400000</td>\n",
       "      <td>0.372631</td>\n",
       "      <td>95</td>\n",
       "    </tr>\n",
       "    <tr>\n",
       "      <th>Tox21_NR-ER-LBD</th>\n",
       "      <td>0.868852</td>\n",
       "      <td>0.675446</td>\n",
       "      <td>0.760038</td>\n",
       "      <td>1177</td>\n",
       "      <td>0.197479</td>\n",
       "      <td>0.439252</td>\n",
       "      <td>0.272464</td>\n",
       "      <td>214</td>\n",
       "      <td>0.639109</td>\n",
       "      <td>0.533166</td>\n",
       "      <td>0.557349</td>\n",
       "      <td>0.516251</td>\n",
       "      <td>1391</td>\n",
       "      <td>0.765564</td>\n",
       "      <td>0.639109</td>\n",
       "      <td>0.685027</td>\n",
       "      <td>1391</td>\n",
       "    </tr>\n",
       "    <tr>\n",
       "      <th>Tox21_NR-ER</th>\n",
       "      <td>0.822619</td>\n",
       "      <td>0.700101</td>\n",
       "      <td>0.756431</td>\n",
       "      <td>987</td>\n",
       "      <td>0.258145</td>\n",
       "      <td>0.408730</td>\n",
       "      <td>0.316436</td>\n",
       "      <td>252</td>\n",
       "      <td>0.640839</td>\n",
       "      <td>0.540382</td>\n",
       "      <td>0.554416</td>\n",
       "      <td>0.536434</td>\n",
       "      <td>1239</td>\n",
       "      <td>0.707811</td>\n",
       "      <td>0.640839</td>\n",
       "      <td>0.666941</td>\n",
       "      <td>1239</td>\n",
       "    </tr>\n",
       "    <tr>\n",
       "      <th>Tox21_NR-Aromatase</th>\n",
       "      <td>0.878205</td>\n",
       "      <td>0.680915</td>\n",
       "      <td>0.767077</td>\n",
       "      <td>1006</td>\n",
       "      <td>0.164062</td>\n",
       "      <td>0.398734</td>\n",
       "      <td>0.232472</td>\n",
       "      <td>158</td>\n",
       "      <td>0.642612</td>\n",
       "      <td>0.521134</td>\n",
       "      <td>0.539824</td>\n",
       "      <td>0.499775</td>\n",
       "      <td>1164</td>\n",
       "      <td>0.781268</td>\n",
       "      <td>0.642612</td>\n",
       "      <td>0.694511</td>\n",
       "      <td>1164</td>\n",
       "    </tr>\n",
       "    <tr>\n",
       "      <th>hERG_Karim</th>\n",
       "      <td>0.606038</td>\n",
       "      <td>0.600149</td>\n",
       "      <td>0.603079</td>\n",
       "      <td>1338</td>\n",
       "      <td>0.607771</td>\n",
       "      <td>0.613620</td>\n",
       "      <td>0.610681</td>\n",
       "      <td>1351</td>\n",
       "      <td>0.606917</td>\n",
       "      <td>0.606904</td>\n",
       "      <td>0.606885</td>\n",
       "      <td>0.606880</td>\n",
       "      <td>2689</td>\n",
       "      <td>0.606909</td>\n",
       "      <td>0.606917</td>\n",
       "      <td>0.606899</td>\n",
       "      <td>2689</td>\n",
       "    </tr>\n",
       "    <tr>\n",
       "      <th>Carcinogens_Lagunin</th>\n",
       "      <td>0.764706</td>\n",
       "      <td>0.650000</td>\n",
       "      <td>0.702703</td>\n",
       "      <td>40</td>\n",
       "      <td>0.363636</td>\n",
       "      <td>0.500000</td>\n",
       "      <td>0.421053</td>\n",
       "      <td>16</td>\n",
       "      <td>0.607143</td>\n",
       "      <td>0.564171</td>\n",
       "      <td>0.575000</td>\n",
       "      <td>0.561878</td>\n",
       "      <td>56</td>\n",
       "      <td>0.650115</td>\n",
       "      <td>0.607143</td>\n",
       "      <td>0.622231</td>\n",
       "      <td>56</td>\n",
       "    </tr>\n",
       "    <tr>\n",
       "      <th>AMES</th>\n",
       "      <td>0.473741</td>\n",
       "      <td>0.707200</td>\n",
       "      <td>0.567394</td>\n",
       "      <td>625</td>\n",
       "      <td>0.648752</td>\n",
       "      <td>0.407720</td>\n",
       "      <td>0.500741</td>\n",
       "      <td>829</td>\n",
       "      <td>0.536451</td>\n",
       "      <td>0.561247</td>\n",
       "      <td>0.557460</td>\n",
       "      <td>0.534067</td>\n",
       "      <td>1454</td>\n",
       "      <td>0.573524</td>\n",
       "      <td>0.536451</td>\n",
       "      <td>0.529392</td>\n",
       "      <td>1454</td>\n",
       "    </tr>\n",
       "    <tr>\n",
       "      <th>Tox21_NR-AR-LBD</th>\n",
       "      <td>0.863029</td>\n",
       "      <td>0.691964</td>\n",
       "      <td>0.768087</td>\n",
       "      <td>1120</td>\n",
       "      <td>0.240088</td>\n",
       "      <td>0.469828</td>\n",
       "      <td>0.317784</td>\n",
       "      <td>232</td>\n",
       "      <td>0.653846</td>\n",
       "      <td>0.551559</td>\n",
       "      <td>0.580896</td>\n",
       "      <td>0.542936</td>\n",
       "      <td>1352</td>\n",
       "      <td>0.756134</td>\n",
       "      <td>0.653846</td>\n",
       "      <td>0.690816</td>\n",
       "      <td>1352</td>\n",
       "    </tr>\n",
       "    <tr>\n",
       "      <th>Skin Reaction</th>\n",
       "      <td>0.461538</td>\n",
       "      <td>0.800000</td>\n",
       "      <td>0.585366</td>\n",
       "      <td>30</td>\n",
       "      <td>0.793103</td>\n",
       "      <td>0.450980</td>\n",
       "      <td>0.575000</td>\n",
       "      <td>51</td>\n",
       "      <td>0.580247</td>\n",
       "      <td>0.627321</td>\n",
       "      <td>0.625490</td>\n",
       "      <td>0.580183</td>\n",
       "      <td>81</td>\n",
       "      <td>0.670302</td>\n",
       "      <td>0.580247</td>\n",
       "      <td>0.578839</td>\n",
       "      <td>81</td>\n",
       "    </tr>\n",
       "    <tr>\n",
       "      <th>Tox21_NR-AhR</th>\n",
       "      <td>0.757955</td>\n",
       "      <td>0.665669</td>\n",
       "      <td>0.708820</td>\n",
       "      <td>1002</td>\n",
       "      <td>0.220930</td>\n",
       "      <td>0.308442</td>\n",
       "      <td>0.257453</td>\n",
       "      <td>308</td>\n",
       "      <td>0.581679</td>\n",
       "      <td>0.489442</td>\n",
       "      <td>0.487055</td>\n",
       "      <td>0.483136</td>\n",
       "      <td>1310</td>\n",
       "      <td>0.631692</td>\n",
       "      <td>0.581679</td>\n",
       "      <td>0.602697</td>\n",
       "      <td>1310</td>\n",
       "    </tr>\n",
       "    <tr>\n",
       "      <th>ClinTox</th>\n",
       "      <td>0.861702</td>\n",
       "      <td>0.658537</td>\n",
       "      <td>0.746544</td>\n",
       "      <td>246</td>\n",
       "      <td>0.222222</td>\n",
       "      <td>0.480000</td>\n",
       "      <td>0.303797</td>\n",
       "      <td>50</td>\n",
       "      <td>0.628378</td>\n",
       "      <td>0.541962</td>\n",
       "      <td>0.569268</td>\n",
       "      <td>0.525171</td>\n",
       "      <td>296</td>\n",
       "      <td>0.753682</td>\n",
       "      <td>0.628378</td>\n",
       "      <td>0.671756</td>\n",
       "      <td>296</td>\n",
       "    </tr>\n",
       "  </tbody>\n",
       "</table>\n",
       "</div>"
      ],
      "text/plain": [
       "                     False_precision  False_recall  False_f1-score  \\\n",
       "hERG_inhib                  0.964957      0.936804        0.950672   \n",
       "Tox21_SR-MMP                0.790514      0.668896        0.724638   \n",
       "Tox21_SR-HSE                0.848245      0.693519        0.763118   \n",
       "Tox21_SR-p53                0.850055      0.689624        0.761481   \n",
       "Tox21_SR-ATAD5              0.862808      0.673640        0.756579   \n",
       "hERG                        0.347826      0.516129        0.415584   \n",
       "Tox21_NR-PPAR-gamma         0.860438      0.681901        0.760836   \n",
       "Tox21_SR-ARE                0.797264      0.702851        0.747086   \n",
       "Tox21_NR-AR                 0.845992      0.672255        0.749183   \n",
       "DILI                        0.397059      0.627907        0.486486   \n",
       "Tox21_NR-ER-LBD             0.868852      0.675446        0.760038   \n",
       "Tox21_NR-ER                 0.822619      0.700101        0.756431   \n",
       "Tox21_NR-Aromatase          0.878205      0.680915        0.767077   \n",
       "hERG_Karim                  0.606038      0.600149        0.603079   \n",
       "Carcinogens_Lagunin         0.764706      0.650000        0.702703   \n",
       "AMES                        0.473741      0.707200        0.567394   \n",
       "Tox21_NR-AR-LBD             0.863029      0.691964        0.768087   \n",
       "Skin Reaction               0.461538      0.800000        0.585366   \n",
       "Tox21_NR-AhR                0.757955      0.665669        0.708820   \n",
       "ClinTox                     0.861702      0.658537        0.746544   \n",
       "\n",
       "                     False_support  True_precision  True_recall  \\\n",
       "hERG_inhib                   58611        0.172845     0.279624   \n",
       "Tox21_SR-MMP                   897        0.263027     0.400000   \n",
       "Tox21_SR-HSE                  1080        0.192683     0.370892   \n",
       "Tox21_SR-p53                  1118        0.225446     0.426160   \n",
       "Tox21_SR-ATAD5                1195        0.189189     0.415525   \n",
       "hERG                            31        0.823529     0.700000   \n",
       "Tox21_NR-PPAR-gamma           1094        0.177305     0.382653   \n",
       "Tox21_SR-ARE                   912        0.251381     0.358268   \n",
       "Tox21_NR-AR                   1193        0.225743     0.438462   \n",
       "DILI                            43        0.407407     0.211538   \n",
       "Tox21_NR-ER-LBD               1177        0.197479     0.439252   \n",
       "Tox21_NR-ER                    987        0.258145     0.408730   \n",
       "Tox21_NR-Aromatase            1006        0.164062     0.398734   \n",
       "hERG_Karim                    1338        0.607771     0.613620   \n",
       "Carcinogens_Lagunin             40        0.363636     0.500000   \n",
       "AMES                           625        0.648752     0.407720   \n",
       "Tox21_NR-AR-LBD               1120        0.240088     0.469828   \n",
       "Skin Reaction                   30        0.793103     0.450980   \n",
       "Tox21_NR-AhR                  1002        0.220930     0.308442   \n",
       "ClinTox                        246        0.222222     0.480000   \n",
       "\n",
       "                     True_f1-score  True_support  accuracy  \\\n",
       "hERG_inhib                0.213635          2768  0.907167   \n",
       "Tox21_SR-MMP              0.317365           265  0.607573   \n",
       "Tox21_SR-HSE              0.253612           213  0.640371   \n",
       "Tox21_SR-p53              0.294891           237  0.643542   \n",
       "Tox21_SR-ATAD5            0.260000           219  0.633663   \n",
       "hERG                      0.756757           100  0.656489   \n",
       "Tox21_NR-PPAR-gamma       0.242326           196  0.636434   \n",
       "Tox21_SR-ARE              0.295455           254  0.627787   \n",
       "Tox21_NR-AR               0.298039           260  0.630420   \n",
       "DILI                      0.278481            52  0.400000   \n",
       "Tox21_NR-ER-LBD           0.272464           214  0.639109   \n",
       "Tox21_NR-ER               0.316436           252  0.640839   \n",
       "Tox21_NR-Aromatase        0.232472           158  0.642612   \n",
       "hERG_Karim                0.610681          1351  0.606917   \n",
       "Carcinogens_Lagunin       0.421053            16  0.607143   \n",
       "AMES                      0.500741           829  0.536451   \n",
       "Tox21_NR-AR-LBD           0.317784           232  0.653846   \n",
       "Skin Reaction             0.575000            51  0.580247   \n",
       "Tox21_NR-AhR              0.257453           308  0.581679   \n",
       "ClinTox                   0.303797            50  0.628378   \n",
       "\n",
       "                     macro avg_precision  macro avg_recall  \\\n",
       "hERG_inhib                      0.568901          0.608214   \n",
       "Tox21_SR-MMP                    0.526771          0.534448   \n",
       "Tox21_SR-HSE                    0.520464          0.532205   \n",
       "Tox21_SR-p53                    0.537751          0.557892   \n",
       "Tox21_SR-ATAD5                  0.525999          0.544583   \n",
       "hERG                            0.585678          0.608065   \n",
       "Tox21_NR-PPAR-gamma             0.518872          0.532277   \n",
       "Tox21_SR-ARE                    0.524322          0.530559   \n",
       "Tox21_NR-AR                     0.535867          0.555358   \n",
       "DILI                            0.402233          0.419723   \n",
       "Tox21_NR-ER-LBD                 0.533166          0.557349   \n",
       "Tox21_NR-ER                     0.540382          0.554416   \n",
       "Tox21_NR-Aromatase              0.521134          0.539824   \n",
       "hERG_Karim                      0.606904          0.606885   \n",
       "Carcinogens_Lagunin             0.564171          0.575000   \n",
       "AMES                            0.561247          0.557460   \n",
       "Tox21_NR-AR-LBD                 0.551559          0.580896   \n",
       "Skin Reaction                   0.627321          0.625490   \n",
       "Tox21_NR-AhR                    0.489442          0.487055   \n",
       "ClinTox                         0.541962          0.569268   \n",
       "\n",
       "                     macro avg_f1-score  macro avg_support  \\\n",
       "hERG_inhib                     0.582153              61379   \n",
       "Tox21_SR-MMP                   0.521001               1162   \n",
       "Tox21_SR-HSE                   0.508365               1293   \n",
       "Tox21_SR-p53                   0.528186               1355   \n",
       "Tox21_SR-ATAD5                 0.508289               1414   \n",
       "hERG                           0.586171                131   \n",
       "Tox21_NR-PPAR-gamma            0.501581               1290   \n",
       "Tox21_SR-ARE                   0.521270               1166   \n",
       "Tox21_NR-AR                    0.523611               1453   \n",
       "DILI                           0.382484                 95   \n",
       "Tox21_NR-ER-LBD                0.516251               1391   \n",
       "Tox21_NR-ER                    0.536434               1239   \n",
       "Tox21_NR-Aromatase             0.499775               1164   \n",
       "hERG_Karim                     0.606880               2689   \n",
       "Carcinogens_Lagunin            0.561878                 56   \n",
       "AMES                           0.534067               1454   \n",
       "Tox21_NR-AR-LBD                0.542936               1352   \n",
       "Skin Reaction                  0.580183                 81   \n",
       "Tox21_NR-AhR                   0.483136               1310   \n",
       "ClinTox                        0.525171                296   \n",
       "\n",
       "                     weighted avg_precision  weighted avg_recall  \\\n",
       "hERG_inhib                         0.929235             0.907167   \n",
       "Tox21_SR-MMP                       0.670218             0.607573   \n",
       "Tox21_SR-HSE                       0.740252             0.640371   \n",
       "Tox21_SR-p53                       0.740806             0.643542   \n",
       "Tox21_SR-ATAD5                     0.758478             0.633663   \n",
       "hERG                               0.710958             0.656489   \n",
       "Tox21_NR-PPAR-gamma                0.756644             0.636434   \n",
       "Tox21_SR-ARE                       0.678349             0.627787   \n",
       "Tox21_NR-AR                        0.735004             0.630420   \n",
       "DILI                               0.402723             0.400000   \n",
       "Tox21_NR-ER-LBD                    0.765564             0.639109   \n",
       "Tox21_NR-ER                        0.707811             0.640839   \n",
       "Tox21_NR-Aromatase                 0.781268             0.642612   \n",
       "hERG_Karim                         0.606909             0.606917   \n",
       "Carcinogens_Lagunin                0.650115             0.607143   \n",
       "AMES                               0.573524             0.536451   \n",
       "Tox21_NR-AR-LBD                    0.756134             0.653846   \n",
       "Skin Reaction                      0.670302             0.580247   \n",
       "Tox21_NR-AhR                       0.631692             0.581679   \n",
       "ClinTox                            0.753682             0.628378   \n",
       "\n",
       "                     weighted avg_f1-score  weighted avg_support  \n",
       "hERG_inhib                        0.917434                 61379  \n",
       "Tox21_SR-MMP                      0.631757                  1162  \n",
       "Tox21_SR-HSE                      0.679185                  1293  \n",
       "Tox21_SR-p53                      0.679871                  1355  \n",
       "Tox21_SR-ATAD5                    0.679669                  1414  \n",
       "hERG                              0.676021                   131  \n",
       "Tox21_NR-PPAR-gamma               0.682055                  1290  \n",
       "Tox21_SR-ARE                      0.648703                  1166  \n",
       "Tox21_NR-AR                       0.668455                  1453  \n",
       "DILI                              0.372631                    95  \n",
       "Tox21_NR-ER-LBD                   0.685027                  1391  \n",
       "Tox21_NR-ER                       0.666941                  1239  \n",
       "Tox21_NR-Aromatase                0.694511                  1164  \n",
       "hERG_Karim                        0.606899                  2689  \n",
       "Carcinogens_Lagunin               0.622231                    56  \n",
       "AMES                              0.529392                  1454  \n",
       "Tox21_NR-AR-LBD                   0.690816                  1352  \n",
       "Skin Reaction                     0.578839                    81  \n",
       "Tox21_NR-AhR                      0.602697                  1310  \n",
       "ClinTox                           0.671756                   296  "
      ]
     },
     "execution_count": 37,
     "metadata": {},
     "output_type": "execute_result"
    }
   ],
   "source": [
    "reports"
   ]
  },
  {
   "cell_type": "code",
   "execution_count": null,
   "metadata": {},
   "outputs": [
    {
     "data": {
      "image/png": "[encoded data removed]",
      "text/plain": [
       "<Figure size 2000x600 with 1 Axes>"
      ]
     },
     "metadata": {},
     "output_type": "display_data"
    }
   ],
   "source": [
    "plt.figure(figsize=(20, 6))\n",
    "reports['macro avg_f1-score'].plot(kind='line', marker='o')\n",
    "plt.title('Macro Avg F1-Score by Dataset')\n",
    "plt.xlabel('Dataset')\n",
    "plt.ylabel('Macro Avg F1-Score')\n",
    "plt.xticks(ticks=range(len(reports.index)), labels=reports.index, rotation=45)\n",
    "plt.grid(True)\n",
    "plt.show()"
   ]
  },
  {
   "cell_type": "code",
   "execution_count": null,
   "metadata": {},
   "outputs": [
    {
     "data": {
      "text/plain": [
       "['models/xgb_esm2_emb.pkl']"
      ]
     },
     "execution_count": 25,
     "metadata": {},
     "output_type": "execute_result"
    }
   ],
   "source": [
    "### Save drug1, drug2gbooost model\n",
    "import joblib\n",
    "os.makedirs(\"models\", exist_ok=True)\n",
    "joblib.dump(xgb_model, f\"models/xgb_es m2_emb.pkl\")"
   ]
  }
 ],
 "metadata": {
  "kernelspec": {
   "display_name": "Python 3",
   "language": "python",
   "name": "python3"
  },
  "language_info": {
   "codemirror_mode": {
    "name": "ipython",
    "version": 3
   },
   "file_extension": ".py",
   "mimetype": "text/x-python",
   "name": "python",
   "nbconvert_exporter": "python",
   "pygments_lexer": "ipython3",
   "version": "3.11.10"
  }
 },
 "nbformat": 4,
 "nbformat_minor": 2
}
