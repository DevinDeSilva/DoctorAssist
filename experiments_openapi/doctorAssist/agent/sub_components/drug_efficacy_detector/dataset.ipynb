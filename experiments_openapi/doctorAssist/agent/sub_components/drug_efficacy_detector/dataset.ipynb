{
 "cells": [
  {
   "cell_type": "code",
   "execution_count": 1,
   "metadata": {},
   "outputs": [],
   "source": [
    "from tdc.multi_pred import DTI\n",
    "from tqdm import tqdm\n",
    "import pandas as pd\n",
    "import numpy as np\n",
    "import seaborn as sns\n",
    "import os\n",
    "import pickle"
   ]
  },
  {
   "cell_type": "markdown",
   "metadata": {},
   "source": [
    "### Binarization\n",
    "\n",
    "binarization is not currently done but if required to done will do with the log scalling and above 0.05 quantile will be considered 0 and below will be considered 1 "
   ]
  },
  {
   "cell_type": "code",
   "execution_count": 2,
   "metadata": {},
   "outputs": [
    {
     "name": "stderr",
     "output_type": "stream",
     "text": [
      "Found local copy...\n",
      "Loading...\n",
      "Done!\n",
      "Found local copy...\n",
      "Loading...\n",
      "Done!\n",
      "Found local copy...\n",
      "Loading...\n",
      "Done!\n"
     ]
    }
   ],
   "source": [
    "config = {\n",
    "    \"dataset\":{\n",
    "        \"dataset_bank\":{\n",
    "            'BindingDB_Ki':DTI(name = 'BindingDB_Ki'), \n",
    "            'DAVIS':DTI(name = 'DAVIS'),\n",
    "            'KIBA':DTI(name = 'KIBA'),\n",
    "        },\n",
    "    },\n",
    "}"
   ]
  },
  {
   "cell_type": "markdown",
   "metadata": {},
   "source": [
    "### Dataset slits"
   ]
  },
  {
   "cell_type": "code",
   "execution_count": 3,
   "metadata": {},
   "outputs": [
    {
     "name": "stderr",
     "output_type": "stream",
     "text": [
      "  0%|          | 0/3 [00:00<?, ?it/s]To log space...\n",
      "To log space...\n",
      "To log space...\n",
      "100%|██████████| 3/3 [00:00<00:00, 30.56it/s]"
     ]
    },
    {
     "name": "stdout",
     "output_type": "stream",
     "text": [
      "BindingDB_Ki : columns - Index(['Drug_ID', 'Drug', 'Target_ID', 'Target', 'Y', 'ds_name'], dtype='object'), shape - (262374, 6)\n",
      "DAVIS : columns - Index(['Drug_ID', 'Drug', 'Target_ID', 'Target', 'Y', 'ds_name'], dtype='object'), shape - (18041, 6)\n",
      "KIBA : columns - Index(['Drug_ID', 'Drug', 'Target_ID', 'Target', 'Y', 'ds_name'], dtype='object'), shape - (82360, 6)\n"
     ]
    },
    {
     "name": "stderr",
     "output_type": "stream",
     "text": [
      "\n"
     ]
    }
   ],
   "source": [
    "for n in tqdm(config[\"dataset\"][\"dataset_bank\"].keys()):\n",
    "    config[\"dataset\"][\"dataset_bank\"][n].convert_to_log(form = 'binding')\n",
    "    config[\"dataset\"][\"dataset_bank\"][n] = config[\"dataset\"][\"dataset_bank\"][n].get_split()\n",
    "    config[\"dataset\"][\"dataset_bank\"][n][\"train\"][\"ds_name\"] = n\n",
    "    config[\"dataset\"][\"dataset_bank\"][n][\"valid\"][\"ds_name\"] = n\n",
    "    config[\"dataset\"][\"dataset_bank\"][n][\"test\"][\"ds_name\"] = n\n",
    "    print(\"{} : columns - {}, shape - {}\".format(\n",
    "        n,\n",
    "        config[\"dataset\"][\"dataset_bank\"][n][\"train\"].columns, \n",
    "        config[\"dataset\"][\"dataset_bank\"][n][\"train\"].shape)\n",
    "          )\n",
    "    "
   ]
  },
  {
   "cell_type": "code",
   "execution_count": 4,
   "metadata": {},
   "outputs": [
    {
     "name": "stderr",
     "output_type": "stream",
     "text": [
      "100%|██████████| 3/3 [00:00<00:00, 46603.38it/s]\n",
      "100%|██████████| 3/3 [00:00<00:00, 39819.34it/s]\n",
      "100%|██████████| 3/3 [00:00<00:00, 40329.85it/s]\n"
     ]
    }
   ],
   "source": [
    "train_dataset = pd.concat([d[\"train\"] for d in tqdm(config[\"dataset\"][\"dataset_bank\"].values())])\n",
    "valid_dataset = pd.concat([d[\"valid\"] for d in tqdm(config[\"dataset\"][\"dataset_bank\"].values())])\n",
    "test_dataset = pd.concat([d[\"test\"] for d in tqdm(config[\"dataset\"][\"dataset_bank\"].values())])"
   ]
  },
  {
   "cell_type": "code",
   "execution_count": 5,
   "metadata": {},
   "outputs": [],
   "source": [
    "train_dataset = train_dataset.groupby([\"Drug\", \"Target\"]).agg({\n",
    "    'Drug_ID': list,\n",
    "    'ds_name': list,\n",
    "    'Y': list,\n",
    "    'Target_ID': list\n",
    "}).reset_index()\n",
    "\n",
    "valid_dataset = valid_dataset.groupby([\"Drug\", \"Target\"]).agg({\n",
    "    'Drug_ID': list,\n",
    "    'ds_name': list,\n",
    "    'Y': list,\n",
    "    'Target_ID': list\n",
    "}).reset_index()\n",
    "\n",
    "test_dataset = test_dataset.groupby([\"Drug\", \"Target\"]).agg({\n",
    "    'Drug_ID': list,\n",
    "    'ds_name': list,\n",
    "    'Y': list,\n",
    "    'Target_ID': list\n",
    "}).reset_index()"
   ]
  },
  {
   "cell_type": "code",
   "execution_count": 6,
   "metadata": {},
   "outputs": [
    {
     "data": {
      "text/html": [
       "<div>\n",
       "<style scoped>\n",
       "    .dataframe tbody tr th:only-of-type {\n",
       "        vertical-align: middle;\n",
       "    }\n",
       "\n",
       "    .dataframe tbody tr th {\n",
       "        vertical-align: top;\n",
       "    }\n",
       "\n",
       "    .dataframe thead th {\n",
       "        text-align: right;\n",
       "    }\n",
       "</style>\n",
       "<table border=\"1\" class=\"dataframe\">\n",
       "  <thead>\n",
       "    <tr style=\"text-align: right;\">\n",
       "      <th></th>\n",
       "      <th>Drug</th>\n",
       "      <th>Target</th>\n",
       "      <th>Drug_ID</th>\n",
       "      <th>ds_name</th>\n",
       "      <th>Y</th>\n",
       "      <th>Target_ID</th>\n",
       "    </tr>\n",
       "  </thead>\n",
       "  <tbody>\n",
       "    <tr>\n",
       "      <th>0</th>\n",
       "      <td>B[P@@](=O)(OC[C@H]1O[C@@H](n2cnc3c(N)ncnc32)[C...</td>\n",
       "      <td>MERDGCAGGGSRGGEGGRAPREGPAGNGRDRGRSHAAEAPGDPQAA...</td>\n",
       "      <td>[76309851.0]</td>\n",
       "      <td>[BindingDB_Ki]</td>\n",
       "      <td>[6.300943145452332]</td>\n",
       "      <td>[P22413]</td>\n",
       "    </tr>\n",
       "    <tr>\n",
       "      <th>1</th>\n",
       "      <td>B[P@](=O)(OC[C@H]1O[C@@H](n2cnc3c(N)nc(SC)nc32...</td>\n",
       "      <td>MERDGCAGGGSRGGEGGRAPREGPAGNGRDRGRSHAAEAPGDPQAA...</td>\n",
       "      <td>[76309852.0]</td>\n",
       "      <td>[BindingDB_Ki]</td>\n",
       "      <td>[4.251811197468632]</td>\n",
       "      <td>[P22413]</td>\n",
       "    </tr>\n",
       "    <tr>\n",
       "      <th>2</th>\n",
       "      <td>B[P@](=O)(OC[C@H]1O[C@@H](n2cnc3c(N)ncnc32)[C@...</td>\n",
       "      <td>MERDGCAGGGSRGGEGGRAPREGPAGNGRDRGRSHAAEAPGDPQAA...</td>\n",
       "      <td>[76309854.0]</td>\n",
       "      <td>[BindingDB_Ki]</td>\n",
       "      <td>[4.552840417608829]</td>\n",
       "      <td>[P22413]</td>\n",
       "    </tr>\n",
       "    <tr>\n",
       "      <th>3</th>\n",
       "      <td>B[P@](=O)(OC[C@H]1O[C@@H](n2cnc3c(N)ncnc32)[C@...</td>\n",
       "      <td>MERDGCAGGGSRGGEGGRAPREGPAGNGRDRGRSHAAEAPGDPQAA...</td>\n",
       "      <td>[76313565.0]</td>\n",
       "      <td>[BindingDB_Ki]</td>\n",
       "      <td>[5.1548957558231745]</td>\n",
       "      <td>[P22413]</td>\n",
       "    </tr>\n",
       "    <tr>\n",
       "      <th>4</th>\n",
       "      <td>Br.CC1(C)C2CC1[C@]1(C)OB(C(CCC/C(S)=N/N)NC(=O)...</td>\n",
       "      <td>MAHVRGLQLPGCLALAALCSLVHSQHVFLAPQQARSLLQRVRRANT...</td>\n",
       "      <td>[73355715.0]</td>\n",
       "      <td>[BindingDB_Ki]</td>\n",
       "      <td>[9.993533957750769]</td>\n",
       "      <td>[P00734]</td>\n",
       "    </tr>\n",
       "  </tbody>\n",
       "</table>\n",
       "</div>"
      ],
      "text/plain": [
       "                                                Drug  \\\n",
       "0  B[P@@](=O)(OC[C@H]1O[C@@H](n2cnc3c(N)ncnc32)[C...   \n",
       "1  B[P@](=O)(OC[C@H]1O[C@@H](n2cnc3c(N)nc(SC)nc32...   \n",
       "2  B[P@](=O)(OC[C@H]1O[C@@H](n2cnc3c(N)ncnc32)[C@...   \n",
       "3  B[P@](=O)(OC[C@H]1O[C@@H](n2cnc3c(N)ncnc32)[C@...   \n",
       "4  Br.CC1(C)C2CC1[C@]1(C)OB(C(CCC/C(S)=N/N)NC(=O)...   \n",
       "\n",
       "                                              Target       Drug_ID  \\\n",
       "0  MERDGCAGGGSRGGEGGRAPREGPAGNGRDRGRSHAAEAPGDPQAA...  [76309851.0]   \n",
       "1  MERDGCAGGGSRGGEGGRAPREGPAGNGRDRGRSHAAEAPGDPQAA...  [76309852.0]   \n",
       "2  MERDGCAGGGSRGGEGGRAPREGPAGNGRDRGRSHAAEAPGDPQAA...  [76309854.0]   \n",
       "3  MERDGCAGGGSRGGEGGRAPREGPAGNGRDRGRSHAAEAPGDPQAA...  [76313565.0]   \n",
       "4  MAHVRGLQLPGCLALAALCSLVHSQHVFLAPQQARSLLQRVRRANT...  [73355715.0]   \n",
       "\n",
       "          ds_name                     Y Target_ID  \n",
       "0  [BindingDB_Ki]   [6.300943145452332]  [P22413]  \n",
       "1  [BindingDB_Ki]   [4.251811197468632]  [P22413]  \n",
       "2  [BindingDB_Ki]   [4.552840417608829]  [P22413]  \n",
       "3  [BindingDB_Ki]  [5.1548957558231745]  [P22413]  \n",
       "4  [BindingDB_Ki]   [9.993533957750769]  [P00734]  "
      ]
     },
     "execution_count": 6,
     "metadata": {},
     "output_type": "execute_result"
    }
   ],
   "source": [
    "train_dataset.head()"
   ]
  },
  {
   "cell_type": "code",
   "execution_count": 7,
   "metadata": {},
   "outputs": [
    {
     "data": {
      "text/plain": [
       "28                   [6.085075351794852, 6.089856038935487]\n",
       "30                   [5.017724243083141, 4.999995657076895]\n",
       "42        [6.16742722515382, 6.335264031481295, 6.501551...\n",
       "43                   [6.397831448621003, 6.568475415812549]\n",
       "49                   [5.709978751750205, 7.355561410532162]\n",
       "                                ...                        \n",
       "339641               [9.892790030352131, 8.468521082957745]\n",
       "339646               [8.279014255846262, 8.275724130399212]\n",
       "339796                [9.18045606445813, 7.567030709125595]\n",
       "339810    [9.294992040666664, 9.22112552799726, 4.999995...\n",
       "339811               [7.696803942579511, 7.697885623043799]\n",
       "Name: Y, Length: 15395, dtype: object"
      ]
     },
     "execution_count": 7,
     "metadata": {},
     "output_type": "execute_result"
    }
   ],
   "source": [
    "y_analysis = train_dataset[\"Y\"]\n",
    "y_length = y_analysis.apply(len)\n",
    "y_analysis[y_length>1]"
   ]
  },
  {
   "cell_type": "code",
   "execution_count": 8,
   "metadata": {},
   "outputs": [
    {
     "name": "stdout",
     "output_type": "stream",
     "text": [
      "Y\n",
      "1     324460\n",
      "2      12234\n",
      "3       1696\n",
      "4        631\n",
      "5        317\n",
      "6        174\n",
      "7         86\n",
      "8         69\n",
      "9         40\n",
      "10        25\n",
      "11        25\n",
      "12        20\n",
      "14        18\n",
      "13        14\n",
      "16        12\n",
      "17         9\n",
      "15         7\n",
      "18         5\n",
      "20         2\n",
      "28         2\n",
      "21         1\n",
      "25         1\n",
      "31         1\n",
      "27         1\n",
      "42         1\n",
      "40         1\n",
      "29         1\n",
      "23         1\n",
      "19         1\n",
      "Name: count, dtype: int64\n"
     ]
    },
    {
     "data": {
      "text/plain": [
       "<Axes: ylabel='Y'>"
      ]
     },
     "execution_count": 8,
     "metadata": {},
     "output_type": "execute_result"
    },
    {
     "data": {
      "image/png": "[encoded data removed]",
      "text/plain": [
       "<Figure size 640x480 with 1 Axes>"
      ]
     },
     "metadata": {},
     "output_type": "display_data"
    }
   ],
   "source": [
    "#plot the distribution of y_length\n",
    "print(y_length.value_counts().sort_values(ascending=False))\n",
    "sns.violinplot(y_length)"
   ]
  },
  {
   "cell_type": "code",
   "execution_count": 9,
   "metadata": {},
   "outputs": [],
   "source": [
    "train_dataset[\"Y\"] = train_dataset[\"Y\"].apply(lambda x: np.mean(x))\n",
    "valid_dataset[\"Y\"] = valid_dataset[\"Y\"].apply(lambda x: np.mean(x))\n",
    "test_dataset[\"Y\"] = test_dataset[\"Y\"].apply(lambda x: np.mean(x))"
   ]
  },
  {
   "cell_type": "code",
   "execution_count": 10,
   "metadata": {},
   "outputs": [
    {
     "name": "stdout",
     "output_type": "stream",
     "text": [
      "train_dataset shape :  (339855, 6)\n",
      "valid_dataset shape :  (51080, 6)\n",
      "test_dataset shape :  (100868, 6)\n"
     ]
    }
   ],
   "source": [
    "#print the shape of the datasets\n",
    "print(\"train_dataset shape : \", train_dataset.shape)\n",
    "print(\"valid_dataset shape : \", valid_dataset.shape)\n",
    "print(\"test_dataset shape : \", test_dataset.shape)"
   ]
  },
  {
   "cell_type": "code",
   "execution_count": 12,
   "metadata": {},
   "outputs": [],
   "source": [
    "processed_dir = \"processed_data\"\n",
    "os.makedirs(processed_dir, exist_ok=True)\n",
    "train_dataset.to_csv(f\"{processed_dir}/train.csv\", index=False)\n",
    "valid_dataset.to_csv(f\"{processed_dir}/valid.csv\", index=False)\n",
    "test_dataset.to_csv(f\"{processed_dir}/test.csv\", index=False)\n"
   ]
  },
  {
   "cell_type": "code",
   "execution_count": null,
   "metadata": {},
   "outputs": [],
   "source": []
  }
 ],
 "metadata": {
  "kernelspec": {
   "display_name": "Python 3",
   "language": "python",
   "name": "python3"
  },
  "language_info": {
   "codemirror_mode": {
    "name": "ipython",
    "version": 3
   },
   "file_extension": ".py",
   "mimetype": "text/x-python",
   "name": "python",
   "nbconvert_exporter": "python",
   "pygments_lexer": "ipython3",
   "version": "3.11.10"
  }
 },
 "nbformat": 4,
 "nbformat_minor": 2
}
