{
 "cells": [
  {
   "cell_type": "code",
   "execution_count": 15,
   "metadata": {},
   "outputs": [],
   "source": [
    "from tdc.single_pred import Tox\n",
    "from tqdm import tqdm\n",
    "import pandas as pd\n",
    "import numpy as np\n",
    "import seaborn as sns"
   ]
  },
  {
   "cell_type": "code",
   "execution_count": null,
   "metadata": {},
   "outputs": [],
   "source": []
  },
  {
   "cell_type": "code",
   "execution_count": 2,
   "metadata": {},
   "outputs": [
    {
     "name": "stderr",
     "output_type": "stream",
     "text": [
      "Found local copy...\n",
      "Loading...\n",
      "Done!\n",
      "Found local copy...\n",
      "Loading...\n",
      "Done!\n",
      "Found local copy...\n",
      "Loading...\n",
      "Done!\n",
      "Found local copy...\n",
      "Loading...\n",
      "Done!\n",
      "Found local copy...\n",
      "Loading...\n",
      "Done!\n",
      "Found local copy...\n",
      "Loading...\n",
      "Done!\n",
      "Found local copy...\n",
      "Loading...\n",
      "Done!\n",
      "Found local copy...\n",
      "Loading...\n",
      "Done!\n",
      "Found local copy...\n",
      "Loading...\n",
      "Done!\n",
      "Found local copy...\n",
      "Loading...\n",
      "Done!\n",
      "Found local copy...\n",
      "Loading...\n",
      "Done!\n",
      "Found local copy...\n",
      "Loading...\n",
      "Done!\n",
      "Found local copy...\n",
      "Loading...\n",
      "Done!\n",
      "Found local copy...\n",
      "Loading...\n",
      "Done!\n",
      "Found local copy...\n",
      "Loading...\n",
      "Done!\n",
      "Found local copy...\n",
      "Loading...\n",
      "Done!\n",
      "Found local copy...\n",
      "Loading...\n",
      "Done!\n",
      "Found local copy...\n",
      "Loading...\n",
      "Done!\n",
      "Found local copy...\n",
      "Loading...\n",
      "Done!\n",
      "Found local copy...\n",
      "Loading...\n",
      "Done!\n"
     ]
    }
   ],
   "source": [
    "config = {\n",
    "    \"dataset\":{\n",
    "        \"dataset_bank\":{\n",
    "            'hERG':Tox(name = 'hERG'),\n",
    "            'hERG_Karim':Tox(name = 'hERG_Karim'),\n",
    "            'AMES':Tox(name = 'AMES'),\n",
    "            'DILI':Tox(name = 'DILI'),\n",
    "            'Skin Reaction':Tox(name = 'Skin Reaction'),\n",
    "            #'LD50_Zhu':Tox(name = 'LD50_Zhu'),\n",
    "            'Carcinogens_Lagunin':Tox(name = 'Carcinogens_Lagunin'),\n",
    "            'ClinTox':Tox(name = 'ClinTox'),\n",
    "            'hERG_inhib':Tox(name = 'herg_central', label_name = 'hERG_inhib'),\n",
    "            'Tox21_NR-AR':Tox(name='Tox21', label_name=\"NR-AR\"),\n",
    "            'Tox21_NR-AR-LBD':Tox(name='Tox21', label_name=\"NR-AR-LBD\"),\n",
    "            'Tox21_NR-AhR':Tox(name='Tox21', label_name=\"NR-AhR\"),\n",
    "            'Tox21_NR-Aromatase':Tox(name='Tox21', label_name=\"NR-Aromatase\"),\n",
    "            'Tox21_NR-ER':Tox(name='Tox21', label_name=\"NR-ER\"),\n",
    "            'Tox21_NR-ER-LBD':Tox(name='Tox21', label_name=\"NR-ER-LBD\"),\n",
    "            'Tox21_NR-PPAR-gamma':Tox(name='Tox21', label_name=\"NR-PPAR-gamma\"),\n",
    "            'Tox21_SR-ARE':Tox(name='Tox21', label_name=\"SR-ARE\"),\n",
    "            'Tox21_SR-ATAD5':Tox(name='Tox21', label_name=\"SR-ATAD5\"),\n",
    "            'Tox21_SR-HSE':Tox(name='Tox21', label_name=\"SR-HSE\"),\n",
    "            'Tox21_SR-MMP':Tox(name='Tox21', label_name=\"SR-MMP\"),\n",
    "            'Tox21_SR-p53':Tox(name='Tox21', label_name=\"SR-p53\")\n",
    "        }\n",
    "    }\n",
    "}"
   ]
  },
  {
   "cell_type": "markdown",
   "metadata": {},
   "source": [
    "### Dataset slits"
   ]
  },
  {
   "cell_type": "code",
   "execution_count": 3,
   "metadata": {},
   "outputs": [
    {
     "name": "stderr",
     "output_type": "stream",
     "text": [
      "100%|██████████| 20/20 [00:00<00:00, 237.89it/s]"
     ]
    },
    {
     "name": "stdout",
     "output_type": "stream",
     "text": [
      "hERG : columns - Index(['Drug_ID', 'Drug', 'Y', 'ds_name'], dtype='object'), shape - (458, 4)\n",
      "hERG_Karim : columns - Index(['Drug_ID', 'Drug', 'Y', 'ds_name'], dtype='object'), shape - (9412, 4)\n",
      "AMES : columns - Index(['Drug_ID', 'Drug', 'Y', 'ds_name'], dtype='object'), shape - (5094, 4)\n",
      "DILI : columns - Index(['Drug_ID', 'Drug', 'Y', 'ds_name'], dtype='object'), shape - (332, 4)\n",
      "Skin Reaction : columns - Index(['Drug_ID', 'Drug', 'Y', 'ds_name'], dtype='object'), shape - (283, 4)\n",
      "Carcinogens_Lagunin : columns - Index(['Drug_ID', 'Drug', 'Y', 'ds_name'], dtype='object'), shape - (196, 4)\n",
      "ClinTox : columns - Index(['Drug_ID', 'Drug', 'Y', 'ds_name'], dtype='object'), shape - (1034, 4)\n",
      "hERG_inhib : columns - Index(['Drug_ID', 'Drug', 'Y', 'ds_name'], dtype='object'), shape - (214825, 4)\n",
      "Tox21_NR-AR : columns - Index(['Drug_ID', 'Drug', 'Y', 'ds_name'], dtype='object'), shape - (5086, 4)\n",
      "Tox21_NR-AR-LBD : columns - Index(['Drug_ID', 'Drug', 'Y', 'ds_name'], dtype='object'), shape - (4730, 4)\n",
      "Tox21_NR-AhR : columns - Index(['Drug_ID', 'Drug', 'Y', 'ds_name'], dtype='object'), shape - (4584, 4)\n",
      "Tox21_NR-Aromatase : columns - Index(['Drug_ID', 'Drug', 'Y', 'ds_name'], dtype='object'), shape - (4075, 4)\n",
      "Tox21_NR-ER : columns - Index(['Drug_ID', 'Drug', 'Y', 'ds_name'], dtype='object'), shape - (4335, 4)\n",
      "Tox21_NR-ER-LBD : columns - Index(['Drug_ID', 'Drug', 'Y', 'ds_name'], dtype='object'), shape - (4868, 4)\n",
      "Tox21_NR-PPAR-gamma : columns - Index(['Drug_ID', 'Drug', 'Y', 'ds_name'], dtype='object'), shape - (4515, 4)\n",
      "Tox21_SR-ARE : columns - Index(['Drug_ID', 'Drug', 'Y', 'ds_name'], dtype='object'), shape - (4083, 4)\n",
      "Tox21_SR-ATAD5 : columns - Index(['Drug_ID', 'Drug', 'Y', 'ds_name'], dtype='object'), shape - (4951, 4)\n",
      "Tox21_SR-HSE : columns - Index(['Drug_ID', 'Drug', 'Y', 'ds_name'], dtype='object'), shape - (4527, 4)\n",
      "Tox21_SR-MMP : columns - Index(['Drug_ID', 'Drug', 'Y', 'ds_name'], dtype='object'), shape - (4067, 4)\n",
      "Tox21_SR-p53 : columns - Index(['Drug_ID', 'Drug', 'Y', 'ds_name'], dtype='object'), shape - (4742, 4)\n"
     ]
    },
    {
     "name": "stderr",
     "output_type": "stream",
     "text": [
      "\n"
     ]
    }
   ],
   "source": [
    "for n in tqdm(config[\"dataset\"][\"dataset_bank\"].keys()):\n",
    "    config[\"dataset\"][\"dataset_bank\"][n] = config[\"dataset\"][\"dataset_bank\"][n].get_split()\n",
    "    config[\"dataset\"][\"dataset_bank\"][n][\"train\"][\"ds_name\"] = n\n",
    "    config[\"dataset\"][\"dataset_bank\"][n][\"valid\"][\"ds_name\"] = n\n",
    "    config[\"dataset\"][\"dataset_bank\"][n][\"test\"][\"ds_name\"] = n\n",
    "    print(\"{} : columns - {}, shape - {}\".format(n,config[\"dataset\"][\"dataset_bank\"][n][\"train\"].columns, config[\"dataset\"][\"dataset_bank\"][n][\"train\"].shape))\n",
    "    "
   ]
  },
  {
   "cell_type": "code",
   "execution_count": 4,
   "metadata": {},
   "outputs": [
    {
     "name": "stderr",
     "output_type": "stream",
     "text": [
      "100%|██████████| 20/20 [00:00<00:00, 239674.51it/s]\n"
     ]
    }
   ],
   "source": [
    "dataset = pd.concat([d[\"train\"] for d in tqdm(config[\"dataset\"][\"dataset_bank\"].values())])\n",
    "    "
   ]
  },
  {
   "cell_type": "code",
   "execution_count": 5,
   "metadata": {},
   "outputs": [],
   "source": [
    "y_analysis = dataset.groupby('Drug')[\"Y\"].apply(list)"
   ]
  },
  {
   "cell_type": "code",
   "execution_count": 6,
   "metadata": {},
   "outputs": [
    {
     "data": {
      "text/plain": [
       "Drug\n",
       "BrC(Br)Br                             [0.0, 0.0, 0.0, 0.0, 0.0, 0.0, 0.0, 0.0, 0.0, ...\n",
       "BrC(Br)C(Br)(Br)Br                                            [0.0, 0.0, 0.0, 0.0, 1.0]\n",
       "BrC(Br)C(Br)Br                                 [0.0, 0.0, 0.0, 0.0, 0.0, 0.0, 0.0, 0.0]\n",
       "BrC/C=C/CBr                               [0.0, 0.0, 0.0, 0.0, 0.0, 0.0, 0.0, 0.0, 0.0]\n",
       "BrC1CCC(Br)C(Br)CCC(Br)C(Br)CCC1Br                       [0.0, 0.0, 0.0, 1.0, 0.0, 1.0]\n",
       "                                                            ...                        \n",
       "c1csc(-c2ccc(-c3cccs3)s2)c1                         [1.0, 1.0, 1.0, 1.0, 1.0, 1.0, 1.0]\n",
       "c1csc(C2(N3CCCCC3)CCCCC2)c1                    [0.0, 0.0, 0.0, 0.0, 0.0, 0.0, 0.0, 0.0]\n",
       "c1csc(SSc2cccs2)c1                                            [0.0, 0.0, 0.0, 0.0, 0.0]\n",
       "c1nc[n-]n1                                [0.0, 1.0, 0.0, 0.0, 0.0, 0.0, 0.0, 0.0, 0.0]\n",
       "c1nc[nH]n1                            [0.0, 0.0, 0.0, 0.0, 0.0, 0.0, 0.0, 0.0, 0.0, ...\n",
       "Name: Y, Length: 7970, dtype: object"
      ]
     },
     "execution_count": 6,
     "metadata": {},
     "output_type": "execute_result"
    }
   ],
   "source": [
    "y_length = y_analysis.apply(len)\n",
    "y_analysis[y_length>1]"
   ]
  },
  {
   "cell_type": "code",
   "execution_count": 8,
   "metadata": {},
   "outputs": [
    {
     "data": {
      "text/plain": [
       "Y\n",
       "False    216149\n",
       "True      19809\n",
       "Name: count, dtype: int64"
      ]
     },
     "execution_count": 8,
     "metadata": {},
     "output_type": "execute_result"
    }
   ],
   "source": [
    "y_analysis.apply(any).value_counts()"
   ]
  },
  {
   "cell_type": "code",
   "execution_count": 11,
   "metadata": {},
   "outputs": [],
   "source": [
    "def get_unique_elements_and_frequency(input_list):\n",
    "    # Use numpy's unique function with return_counts=True\n",
    "    unique_elements, counts = np.unique(input_list, return_counts=True)\n",
    "    \n",
    "    # Combine unique elements and their counts into a dictionary\n",
    "    frequency_dict = dict(zip(unique_elements, counts))\n",
    "    \n",
    "    return frequency_dict"
   ]
  },
  {
   "cell_type": "code",
   "execution_count": 14,
   "metadata": {},
   "outputs": [
    {
     "data": {
      "text/plain": [
       "ds_name\n",
       "AMES                     {0.0: 2335, 1.0: 2759}\n",
       "Carcinogens_Lagunin         {0.0: 154, 1.0: 42}\n",
       "ClinTox                     {0.0: 955, 1.0: 79}\n",
       "DILI                       {0.0: 171, 1.0: 161}\n",
       "Skin Reaction               {0.0: 87, 1.0: 196}\n",
       "Tox21_NR-AR               {0.0: 4878, 1.0: 208}\n",
       "Tox21_NR-AR-LBD           {0.0: 4554, 1.0: 176}\n",
       "Tox21_NR-AhR              {0.0: 4058, 1.0: 526}\n",
       "Tox21_NR-Aromatase        {0.0: 3859, 1.0: 216}\n",
       "Tox21_NR-ER               {0.0: 3793, 1.0: 542}\n",
       "Tox21_NR-ER-LBD           {0.0: 4615, 1.0: 253}\n",
       "Tox21_NR-PPAR-gamma       {0.0: 4384, 1.0: 131}\n",
       "Tox21_SR-ARE              {0.0: 3427, 1.0: 656}\n",
       "Tox21_SR-ATAD5            {0.0: 4771, 1.0: 180}\n",
       "Tox21_SR-HSE              {0.0: 4257, 1.0: 270}\n",
       "Tox21_SR-MMP              {0.0: 3439, 1.0: 628}\n",
       "Tox21_SR-p53              {0.0: 4435, 1.0: 307}\n",
       "hERG                       {0.0: 148, 1.0: 310}\n",
       "hERG_Karim               {0.0: 4698, 1.0: 4714}\n",
       "hERG_inhib             {0.0: 205125, 1.0: 9700}\n",
       "Name: Y, dtype: object"
      ]
     },
     "execution_count": 14,
     "metadata": {},
     "output_type": "execute_result"
    }
   ],
   "source": [
    "dataset.groupby('ds_name')[\"Y\"].apply(list).apply(get_unique_elements_and_frequency)"
   ]
  },
  {
   "cell_type": "code",
   "execution_count": null,
   "metadata": {},
   "outputs": [],
   "source": []
  }
 ],
 "metadata": {
  "kernelspec": {
   "display_name": "Python 3",
   "language": "python",
   "name": "python3"
  },
  "language_info": {
   "codemirror_mode": {
    "name": "ipython",
    "version": 3
   },
   "file_extension": ".py",
   "mimetype": "text/x-python",
   "name": "python",
   "nbconvert_exporter": "python",
   "pygments_lexer": "ipython3",
   "version": "3.11.10"
  }
 },
 "nbformat": 4,
 "nbformat_minor": 2
}
