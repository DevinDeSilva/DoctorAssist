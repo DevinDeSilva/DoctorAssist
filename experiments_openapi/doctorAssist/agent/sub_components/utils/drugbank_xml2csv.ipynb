{
 "cells": [
  {
   "cell_type": "code",
   "execution_count": 1,
   "metadata": {},
   "outputs": [],
   "source": [
    "import pandas as pd\n",
    "from xml.etree import ElementTree as ET\n",
    "from tqdm import tqdm \n",
    "import pickle\n",
    "from collections import defaultdict \n",
    "import json"
   ]
  },
  {
   "cell_type": "code",
   "execution_count": 2,
   "metadata": {},
   "outputs": [
    {
     "ename": "FileNotFoundError",
     "evalue": "[Errno 2] No such file or directory: './data/full database.xml'",
     "output_type": "error",
     "traceback": [
      "\u001b[0;31m---------------------------------------------------------------------------\u001b[0m",
      "\u001b[0;31mFileNotFoundError\u001b[0m                         Traceback (most recent call last)",
      "Cell \u001b[0;32mIn[2], line 3\u001b[0m\n\u001b[1;32m      1\u001b[0m xml_file \u001b[38;5;241m=\u001b[39m \u001b[38;5;124m\"\u001b[39m\u001b[38;5;124m./data/full database.xml\u001b[39m\u001b[38;5;124m\"\u001b[39m\n\u001b[0;32m----> 3\u001b[0m tree \u001b[38;5;241m=\u001b[39m \u001b[43mET\u001b[49m\u001b[38;5;241;43m.\u001b[39;49m\u001b[43mparse\u001b[49m\u001b[43m(\u001b[49m\u001b[43mxml_file\u001b[49m\u001b[43m)\u001b[49m\n\u001b[1;32m      4\u001b[0m root \u001b[38;5;241m=\u001b[39m tree\u001b[38;5;241m.\u001b[39mgetroot()\n",
      "File \u001b[0;32m~/Research/Tx-LLM-A-Large-Language-Model-for-Therapeutics/.conda/lib/python3.11/xml/etree/ElementTree.py:1219\u001b[0m, in \u001b[0;36mparse\u001b[0;34m(source, parser)\u001b[0m\n\u001b[1;32m   1210\u001b[0m \u001b[38;5;250m\u001b[39m\u001b[38;5;124;03m\"\"\"Parse XML document into element tree.\u001b[39;00m\n\u001b[1;32m   1211\u001b[0m \n\u001b[1;32m   1212\u001b[0m \u001b[38;5;124;03m*source* is a filename or file object containing XML data,\u001b[39;00m\n\u001b[0;32m   (...)\u001b[0m\n\u001b[1;32m   1216\u001b[0m \n\u001b[1;32m   1217\u001b[0m \u001b[38;5;124;03m\"\"\"\u001b[39;00m\n\u001b[1;32m   1218\u001b[0m tree \u001b[38;5;241m=\u001b[39m ElementTree()\n\u001b[0;32m-> 1219\u001b[0m \u001b[43mtree\u001b[49m\u001b[38;5;241;43m.\u001b[39;49m\u001b[43mparse\u001b[49m\u001b[43m(\u001b[49m\u001b[43msource\u001b[49m\u001b[43m,\u001b[49m\u001b[43m \u001b[49m\u001b[43mparser\u001b[49m\u001b[43m)\u001b[49m\n\u001b[1;32m   1220\u001b[0m \u001b[38;5;28;01mreturn\u001b[39;00m tree\n",
      "File \u001b[0;32m~/Research/Tx-LLM-A-Large-Language-Model-for-Therapeutics/.conda/lib/python3.11/xml/etree/ElementTree.py:570\u001b[0m, in \u001b[0;36mElementTree.parse\u001b[0;34m(self, source, parser)\u001b[0m\n\u001b[1;32m    568\u001b[0m close_source \u001b[38;5;241m=\u001b[39m \u001b[38;5;28;01mFalse\u001b[39;00m\n\u001b[1;32m    569\u001b[0m \u001b[38;5;28;01mif\u001b[39;00m \u001b[38;5;129;01mnot\u001b[39;00m \u001b[38;5;28mhasattr\u001b[39m(source, \u001b[38;5;124m\"\u001b[39m\u001b[38;5;124mread\u001b[39m\u001b[38;5;124m\"\u001b[39m):\n\u001b[0;32m--> 570\u001b[0m     source \u001b[38;5;241m=\u001b[39m \u001b[38;5;28;43mopen\u001b[39;49m\u001b[43m(\u001b[49m\u001b[43msource\u001b[49m\u001b[43m,\u001b[49m\u001b[43m \u001b[49m\u001b[38;5;124;43m\"\u001b[39;49m\u001b[38;5;124;43mrb\u001b[39;49m\u001b[38;5;124;43m\"\u001b[39;49m\u001b[43m)\u001b[49m\n\u001b[1;32m    571\u001b[0m     close_source \u001b[38;5;241m=\u001b[39m \u001b[38;5;28;01mTrue\u001b[39;00m\n\u001b[1;32m    572\u001b[0m \u001b[38;5;28;01mtry\u001b[39;00m:\n",
      "\u001b[0;31mFileNotFoundError\u001b[0m: [Errno 2] No such file or directory: './data/full database.xml'"
     ]
    }
   ],
   "source": [
    "xml_file = \"./data/full database.xml\"\n",
    "\n",
    "tree = ET.parse(xml_file)\n",
    "root = tree.getroot()"
   ]
  },
  {
   "cell_type": "code",
   "execution_count": null,
   "metadata": {},
   "outputs": [],
   "source": [
    "ns = '{http://www.drugbank.ca}'\n",
    "\n",
    "drug_info_list = []\n",
    "name_synonyms = defaultdict(list)\n",
    "\n",
    "for i, drug in tqdm(enumerate(root)):\n",
    "    name = drug.findtext(ns + \"name\").strip().lower()\n",
    "    synonyms_obj = drug.findall(f\"{ns}synonyms/{ns}synonym[@language='english']\")\n",
    "    synonyms = [synonym.text.strip().lower() for synonym in synonyms_obj]\n",
    "\n",
    "    name_set = set(synonyms)\n",
    "    name_set.add(name)\n",
    "\n",
    "    for name in name_set:\n",
    "        name_synonyms[name].extend(name_set)\n",
    "\n",
    "    dbid = drug.findtext(ns + \"drugbank-id[@primary='true']\")\n",
    "\n",
    "    # LOGGER.log_with_depth(ET.tostring(drug, encoding='utf8', method='xml').decode())\n",
    "\n",
    "    description = drug.findtext(f\"{ns}description\")\n",
    "    indication = drug.findtext(f\"{ns}indication\")\n",
    "    smiles = drug.findtext(f\"{ns}calculated-properties/{ns}property[{ns}kind='SMILES']/{ns}value\")\n",
    "\n",
    "    absorption = drug.findtext(f\"{ns}absorption\")\n",
    "    distribution = drug.findtext(f\"{ns}volume-of-distribution\")\n",
    "    metabolism = drug.findtext(f\"{ns}metabolism\")\n",
    "    excretion = drug.findtext(f\"{ns}route-of-elimination\")\n",
    "    toxicity = drug.findtext(f\"{ns}toxicity\")\n",
    "\n",
    "    info_tuple = (dbid, description, indication, smiles, absorption, distribution, metabolism, excretion, toxicity)\n",
    "\n",
    "    for name in name_set:\n",
    "        drug_info_list.append((name, *info_tuple))\n"
   ]
  },
  {
   "cell_type": "code",
   "execution_count": null,
   "metadata": {},
   "outputs": [],
   "source": []
  },
  {
   "cell_type": "code",
   "execution_count": null,
   "metadata": {},
   "outputs": [],
   "source": [
    "json.dump(name_synonyms, open(\"data/name_synonyms.json\", \"w\"))\n",
    "drug_df = pd.DataFrame(drug_info_list, columns=[\"name\", \"dbid\", \"description\", \"indication\", \"smiles\", \"absorption\", \"distribution\", \"metabolism\", \"excretion\", \"toxicity\"])\n",
    "drug_df.to_csv(\"data/drugbank.csv\", index=False, sep='\\t')"
   ]
  }
 ],
 "metadata": {
  "kernelspec": {
   "display_name": "Python 3",
   "language": "python",
   "name": "python3"
  },
  "language_info": {
   "codemirror_mode": {
    "name": "ipython",
    "version": 3
   },
   "file_extension": ".py",
   "mimetype": "text/x-python",
   "name": "python",
   "nbconvert_exporter": "python",
   "pygments_lexer": "ipython3",
   "version": "3.11.10"
  }
 },
 "nbformat": 4,
 "nbformat_minor": 2
}
