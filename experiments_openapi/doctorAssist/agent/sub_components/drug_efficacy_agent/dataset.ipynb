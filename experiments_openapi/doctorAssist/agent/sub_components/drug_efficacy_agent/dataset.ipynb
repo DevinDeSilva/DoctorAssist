{
 "cells": [
  {
   "cell_type": "code",
   "execution_count": 1,
   "metadata": {},
   "outputs": [],
   "source": [
    "from tdc.multi_pred import DTI\n",
    "from tqdm import tqdm\n",
    "import pandas as pd\n",
    "import numpy as np\n",
    "import seaborn as sns\n",
    "import os\n",
    "import pickle"
   ]
  },
  {
   "cell_type": "code",
   "execution_count": 2,
   "metadata": {},
   "outputs": [
    {
     "name": "stderr",
     "output_type": "stream",
     "text": [
      "Downloading...\n",
      "100%|██████████| 140M/140M [00:07<00:00, 19.4MiB/s] \n",
      "Loading...\n",
      "Done!\n"
     ]
    }
   ],
   "source": [
    "from tdc.multi_pred import DrugRes\n",
    "data = DrugRes(name = 'GDSC1')\n",
    "split = data.get_split()"
   ]
  },
  {
   "cell_type": "code",
   "execution_count": 8,
   "metadata": {},
   "outputs": [
    {
     "name": "stderr",
     "output_type": "stream",
     "text": [
      "Found local copy...\n",
      "Loading...\n"
     ]
    },
    {
     "data": {
      "text/plain": [
       "array(['TSPAN6', 'TNMD', 'DPM1', ..., 'UBL5P2', 'TBC1D3P5', nan],\n",
       "      dtype=object)"
      ]
     },
     "execution_count": 8,
     "metadata": {},
     "output_type": "execute_result"
    }
   ],
   "source": [
    "data.get_gene_symbols()"
   ]
  },
  {
   "cell_type": "code",
   "execution_count": 7,
   "metadata": {},
   "outputs": [
    {
     "data": {
      "text/plain": [
       "(17737,)"
      ]
     },
     "execution_count": 7,
     "metadata": {},
     "output_type": "execute_result"
    }
   ],
   "source": [
    "split[\"train\"].loc[0,'Cell Line'].shape"
   ]
  },
  {
   "cell_type": "code",
   "execution_count": 9,
   "metadata": {},
   "outputs": [
    {
     "name": "stderr",
     "output_type": "stream",
     "text": [
      "Found local copy...\n",
      "Loading...\n",
      "Done!\n",
      "Found local copy...\n",
      "Loading...\n",
      "Done!\n",
      "Found local copy...\n",
      "Loading...\n",
      "Done!\n"
     ]
    }
   ],
   "source": [
    "config = {\n",
    "    \"dataset\":{\n",
    "        \"dataset_bank\":{\n",
    "            'BindingDB_Ki':DTI(name = 'BindingDB_Ki'), \n",
    "            'DAVIS':DTI(name = 'DAVIS'),\n",
    "            'KIBA':DTI(name = 'KIBA'),\n",
    "        },\n",
    "    },\n",
    "}"
   ]
  },
  {
   "cell_type": "markdown",
   "metadata": {},
   "source": [
    "### Dataset slits"
   ]
  },
  {
   "cell_type": "code",
   "execution_count": 10,
   "metadata": {},
   "outputs": [
    {
     "name": "stderr",
     "output_type": "stream",
     "text": [
      "100%|██████████| 3/3 [00:00<00:00, 30.01it/s]"
     ]
    },
    {
     "name": "stdout",
     "output_type": "stream",
     "text": [
      "BindingDB_Ki : columns - Index(['Drug_ID', 'Drug', 'Target_ID', 'Target', 'Y', 'ds_name'], dtype='object'), shape - (262374, 6)\n",
      "DAVIS : columns - Index(['Drug_ID', 'Drug', 'Target_ID', 'Target', 'Y', 'ds_name'], dtype='object'), shape - (18041, 6)\n",
      "KIBA : columns - Index(['Drug_ID', 'Drug', 'Target_ID', 'Target', 'Y', 'ds_name'], dtype='object'), shape - (82360, 6)\n"
     ]
    },
    {
     "name": "stderr",
     "output_type": "stream",
     "text": [
      "\n"
     ]
    }
   ],
   "source": [
    "for n in tqdm(config[\"dataset\"][\"dataset_bank\"].keys()):\n",
    "    config[\"dataset\"][\"dataset_bank\"][n] = config[\"dataset\"][\"dataset_bank\"][n].get_split()\n",
    "    config[\"dataset\"][\"dataset_bank\"][n][\"train\"][\"ds_name\"] = n\n",
    "    config[\"dataset\"][\"dataset_bank\"][n][\"valid\"][\"ds_name\"] = n\n",
    "    config[\"dataset\"][\"dataset_bank\"][n][\"test\"][\"ds_name\"] = n\n",
    "    print(\"{} : columns - {}, shape - {}\".format(\n",
    "        n,\n",
    "        config[\"dataset\"][\"dataset_bank\"][n][\"train\"].columns, \n",
    "        config[\"dataset\"][\"dataset_bank\"][n][\"train\"].shape)\n",
    "          )\n",
    "    "
   ]
  },
  {
   "cell_type": "code",
   "execution_count": 65,
   "metadata": {},
   "outputs": [
    {
     "name": "stderr",
     "output_type": "stream",
     "text": [
      "100%|██████████| 2/2 [00:00<00:00, 53430.62it/s]\n",
      "100%|██████████| 2/2 [00:00<00:00, 76959.71it/s]\n",
      "100%|██████████| 2/2 [00:00<00:00, 74235.47it/s]\n"
     ]
    }
   ],
   "source": [
    "train_dataset = pd.concat([d[\"train\"] for d in tqdm(config[\"dataset\"][\"dataset_bank\"].values())])\n",
    "valid_dataset = pd.concat([d[\"valid\"] for d in tqdm(config[\"dataset\"][\"dataset_bank\"].values())])\n",
    "test_dataset = pd.concat([d[\"test\"] for d in tqdm(config[\"dataset\"][\"dataset_bank\"].values())])"
   ]
  },
  {
   "cell_type": "code",
   "execution_count": 66,
   "metadata": {},
   "outputs": [],
   "source": [
    "train_dataset = train_dataset.groupby([\"Drug1\", \"Drug2\", \"ds_name\"]).agg({\n",
    "    'Drug1_ID': list,\n",
    "    'Y': list,\n",
    "    'Drug2_ID': list\n",
    "}).reset_index()\n",
    "\n",
    "valid_dataset = valid_dataset.groupby([\"Drug1\", \"Drug2\", \"ds_name\"]).agg({\n",
    "    'Drug1_ID': list,\n",
    "    'Y': list,\n",
    "    'Drug2_ID': list\n",
    "}).reset_index()\n",
    "\n",
    "test_dataset = test_dataset.groupby([\"Drug1\", \"Drug2\", \"ds_name\"]).agg({\n",
    "    'Drug1_ID': list,\n",
    "    'Y': list,\n",
    "    'Drug2_ID': list\n",
    "}).reset_index()"
   ]
  },
  {
   "cell_type": "code",
   "execution_count": 67,
   "metadata": {},
   "outputs": [
    {
     "data": {
      "text/html": [
       "<div>\n",
       "<style scoped>\n",
       "    .dataframe tbody tr th:only-of-type {\n",
       "        vertical-align: middle;\n",
       "    }\n",
       "\n",
       "    .dataframe tbody tr th {\n",
       "        vertical-align: top;\n",
       "    }\n",
       "\n",
       "    .dataframe thead th {\n",
       "        text-align: right;\n",
       "    }\n",
       "</style>\n",
       "<table border=\"1\" class=\"dataframe\">\n",
       "  <thead>\n",
       "    <tr style=\"text-align: right;\">\n",
       "      <th></th>\n",
       "      <th>Drug1</th>\n",
       "      <th>Drug2</th>\n",
       "      <th>ds_name</th>\n",
       "      <th>Drug1_ID</th>\n",
       "      <th>Y</th>\n",
       "      <th>Drug2_ID</th>\n",
       "    </tr>\n",
       "  </thead>\n",
       "  <tbody>\n",
       "    <tr>\n",
       "      <th>0</th>\n",
       "      <td>B(C(CC(C)C)NC(=O)C(CC1=CC=CC=C1)NC(=O)C2=NC=CN...</td>\n",
       "      <td>C(C1C(C(C(C(O1)OC2(C(C(C(O2)OS(=O)(=O)O)OS(=O)...</td>\n",
       "      <td>TWOSIDES</td>\n",
       "      <td>[CID000093860, CID000093860, CID000093860, CID...</td>\n",
       "      <td>[85, 37, 153, 600, 315, 692, 433, 243, 74, 238...</td>\n",
       "      <td>[CID006398525, CID006398525, CID006398525, CID...</td>\n",
       "    </tr>\n",
       "    <tr>\n",
       "      <th>1</th>\n",
       "      <td>B(C(CC(C)C)NC(=O)C(CC1=CC=CC=C1)NC(=O)C2=NC=CN...</td>\n",
       "      <td>C(N)(N)(Cl)Cl</td>\n",
       "      <td>TWOSIDES</td>\n",
       "      <td>[CID000093860, CID000093860, CID000093860, CID...</td>\n",
       "      <td>[85, 321, 444, 600, 756, 692, 315, 1221, 1, 15...</td>\n",
       "      <td>[CID005311048, CID005311048, CID005311048, CID...</td>\n",
       "    </tr>\n",
       "    <tr>\n",
       "      <th>2</th>\n",
       "      <td>B(C(CC(C)C)NC(=O)C(CC1=CC=CC=C1)NC(=O)C2=NC=CN...</td>\n",
       "      <td>C1=CC(=CC=C1C2C(C(=O)N2C3=CC=C(C=C3)F)CCC(C4=C...</td>\n",
       "      <td>TWOSIDES</td>\n",
       "      <td>[CID000093860, CID000093860, CID000093860, CID...</td>\n",
       "      <td>[216, 243, 153, 756, 315, 238, 600, 963, 464]</td>\n",
       "      <td>[CID000150311, CID000150311, CID000150311, CID...</td>\n",
       "    </tr>\n",
       "    <tr>\n",
       "      <th>3</th>\n",
       "      <td>B(C(CC(C)C)NC(=O)C(CC1=CC=CC=C1)NC(=O)C2=NC=CN...</td>\n",
       "      <td>C1C2CNCC1C3=CC4=NC=CN=C4C=C23</td>\n",
       "      <td>TWOSIDES</td>\n",
       "      <td>[CID000093860, CID000093860, CID000093860, CID...</td>\n",
       "      <td>[648, 85, 74, 50, 258]</td>\n",
       "      <td>[CID000170361, CID000170361, CID000170361, CID...</td>\n",
       "    </tr>\n",
       "    <tr>\n",
       "      <th>4</th>\n",
       "      <td>B(C(CC(C)C)NC(=O)C(CC1=CC=CC=C1)NC(=O)C2=NC=CN...</td>\n",
       "      <td>C1CC(=O)NC(=O)C1N2CC3=C(C2=O)C=CC=C3N</td>\n",
       "      <td>TWOSIDES</td>\n",
       "      <td>[CID000093860, CID000093860, CID000093860, CID...</td>\n",
       "      <td>[85, 321, 315, 37, 756, 50, 367]</td>\n",
       "      <td>[CID000216326, CID000216326, CID000216326, CID...</td>\n",
       "    </tr>\n",
       "  </tbody>\n",
       "</table>\n",
       "</div>"
      ],
      "text/plain": [
       "                                               Drug1  \\\n",
       "0  B(C(CC(C)C)NC(=O)C(CC1=CC=CC=C1)NC(=O)C2=NC=CN...   \n",
       "1  B(C(CC(C)C)NC(=O)C(CC1=CC=CC=C1)NC(=O)C2=NC=CN...   \n",
       "2  B(C(CC(C)C)NC(=O)C(CC1=CC=CC=C1)NC(=O)C2=NC=CN...   \n",
       "3  B(C(CC(C)C)NC(=O)C(CC1=CC=CC=C1)NC(=O)C2=NC=CN...   \n",
       "4  B(C(CC(C)C)NC(=O)C(CC1=CC=CC=C1)NC(=O)C2=NC=CN...   \n",
       "\n",
       "                                               Drug2   ds_name  \\\n",
       "0  C(C1C(C(C(C(O1)OC2(C(C(C(O2)OS(=O)(=O)O)OS(=O)...  TWOSIDES   \n",
       "1                                      C(N)(N)(Cl)Cl  TWOSIDES   \n",
       "2  C1=CC(=CC=C1C2C(C(=O)N2C3=CC=C(C=C3)F)CCC(C4=C...  TWOSIDES   \n",
       "3                      C1C2CNCC1C3=CC4=NC=CN=C4C=C23  TWOSIDES   \n",
       "4              C1CC(=O)NC(=O)C1N2CC3=C(C2=O)C=CC=C3N  TWOSIDES   \n",
       "\n",
       "                                            Drug1_ID  \\\n",
       "0  [CID000093860, CID000093860, CID000093860, CID...   \n",
       "1  [CID000093860, CID000093860, CID000093860, CID...   \n",
       "2  [CID000093860, CID000093860, CID000093860, CID...   \n",
       "3  [CID000093860, CID000093860, CID000093860, CID...   \n",
       "4  [CID000093860, CID000093860, CID000093860, CID...   \n",
       "\n",
       "                                                   Y  \\\n",
       "0  [85, 37, 153, 600, 315, 692, 433, 243, 74, 238...   \n",
       "1  [85, 321, 444, 600, 756, 692, 315, 1221, 1, 15...   \n",
       "2      [216, 243, 153, 756, 315, 238, 600, 963, 464]   \n",
       "3                             [648, 85, 74, 50, 258]   \n",
       "4                   [85, 321, 315, 37, 756, 50, 367]   \n",
       "\n",
       "                                            Drug2_ID  \n",
       "0  [CID006398525, CID006398525, CID006398525, CID...  \n",
       "1  [CID005311048, CID005311048, CID005311048, CID...  \n",
       "2  [CID000150311, CID000150311, CID000150311, CID...  \n",
       "3  [CID000170361, CID000170361, CID000170361, CID...  \n",
       "4  [CID000216326, CID000216326, CID000216326, CID...  "
      ]
     },
     "execution_count": 67,
     "metadata": {},
     "output_type": "execute_result"
    }
   ],
   "source": [
    "train_dataset.head()"
   ]
  },
  {
   "cell_type": "code",
   "execution_count": 68,
   "metadata": {},
   "outputs": [
    {
     "data": {
      "text/plain": [
       "((184736, 6),\n",
       " ds_name\n",
       " DrugBank    123570\n",
       " TWOSIDES     61166\n",
       " Name: count, dtype: int64)"
      ]
     },
     "execution_count": 68,
     "metadata": {},
     "output_type": "execute_result"
    }
   ],
   "source": [
    "train_dataset.shape, train_dataset[\"ds_name\"].value_counts()"
   ]
  },
  {
   "cell_type": "code",
   "execution_count": 69,
   "metadata": {},
   "outputs": [
    {
     "data": {
      "text/plain": [
       "<Axes: xlabel='Y'>"
      ]
     },
     "execution_count": 69,
     "metadata": {},
     "output_type": "execute_result"
    },
    {
     "data": {
      "image/png": "[encoded data removed]",
      "text/plain": [
       "<Figure size 640x480 with 1 Axes>"
      ]
     },
     "metadata": {},
     "output_type": "display_data"
    }
   ],
   "source": [
    "#draw a violin plot of the distributions of the len of the lists in \"Y\" column of train_dataset where ds_name = \"DrugBank\"\n",
    "sns.boxplot(x=train_dataset.loc[train_dataset[\"ds_name\"]==\"DrugBank\"][\"Y\"].apply(lambda x: len(x)))"
   ]
  },
  {
   "cell_type": "code",
   "execution_count": 70,
   "metadata": {},
   "outputs": [
    {
     "data": {
      "text/plain": [
       "<Axes: xlabel='Y'>"
      ]
     },
     "execution_count": 70,
     "metadata": {},
     "output_type": "execute_result"
    },
    {
     "data": {
      "image/png": "[encoded data removed]",
      "text/plain": [
       "<Figure size 640x480 with 1 Axes>"
      ]
     },
     "metadata": {},
     "output_type": "display_data"
    }
   ],
   "source": [
    "#draw a violin plot of the distributions of the len of the lists in \"Y\" column of train_dataset where ds_name = \"DrugBank\"\n",
    "sns.boxplot(x=train_dataset.loc[train_dataset[\"ds_name\"]==\"TWOSIDES\"][\"Y\"].apply(lambda x: len(x)))"
   ]
  },
  {
   "cell_type": "code",
   "execution_count": 71,
   "metadata": {},
   "outputs": [],
   "source": [
    "### Individual Data Analysis"
   ]
  },
  {
   "cell_type": "code",
   "execution_count": 72,
   "metadata": {},
   "outputs": [],
   "source": [
    "processed_dir = \"processed_data\"\n",
    "os.makedirs(processed_dir, exist_ok=True)\n",
    "train_dataset.to_csv(f\"{processed_dir}/train.csv\", index=False)\n",
    "valid_dataset.to_csv(f\"{processed_dir}/valid.csv\", index=False)\n",
    "test_dataset.to_csv(f\"{processed_dir}/test.csv\", index=False)\n",
    "\n",
    "with open(f\"{processed_dir}/config.pkl\", \"wb\") as f:\n",
    "    pickle.dump(config[\"metadata\"], f)\n"
   ]
  },
  {
   "cell_type": "code",
   "execution_count": null,
   "metadata": {},
   "outputs": [],
   "source": []
  }
 ],
 "metadata": {
  "kernelspec": {
   "display_name": "Python 3",
   "language": "python",
   "name": "python3"
  },
  "language_info": {
   "codemirror_mode": {
    "name": "ipython",
    "version": 3
   },
   "file_extension": ".py",
   "mimetype": "text/x-python",
   "name": "python",
   "nbconvert_exporter": "python",
   "pygments_lexer": "ipython3",
   "version": "3.11.10"
  }
 },
 "nbformat": 4,
 "nbformat_minor": 2
}
