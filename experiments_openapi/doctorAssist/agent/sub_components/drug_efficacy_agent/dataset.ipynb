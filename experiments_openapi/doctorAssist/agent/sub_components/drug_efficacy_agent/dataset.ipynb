{
 "cells": [
  {
   "cell_type": "code",
   "execution_count": 55,
   "metadata": {},
   "outputs": [],
   "source": [
    "from tdc.multi_pred import DDI\n",
    "from tdc.utils import get_label_map\n",
    "from tqdm import tqdm\n",
    "import pandas as pd\n",
    "import numpy as np\n",
    "import seaborn as sns\n",
    "import os\n",
    "import pickle"
   ]
  },
  {
   "cell_type": "code",
   "execution_count": 56,
   "metadata": {},
   "outputs": [
    {
     "name": "stderr",
     "output_type": "stream",
     "text": [
      "Found local copy...\n",
      "Loading...\n",
      "Done!\n",
      "Found local copy...\n",
      "Loading...\n",
      "Done!\n"
     ]
    }
   ],
   "source": [
    "config = {\n",
    "    \"dataset\":{\n",
    "        \"dataset_bank\":{\n",
    "            'DrugBank':DDI(name = 'DrugBank'),\n",
    "            'TWOSIDES':DDI(name = 'TWOSIDES')\n",
    "        },\n",
    "    },\n",
    "    \n",
    "    \"metadata\":{\n",
    "        \"sel_labels\":{\n",
    "        },\n",
    "        \n",
    "        \"label_map\":{  \n",
    "            'DrugBank':get_label_map(name = 'DrugBank', task = 'DDI'),\n",
    "            'TWOSIDES':get_label_map(name = 'TWOSIDES', task = 'DDI', name_column = 'Side Effect Name')\n",
    "        },\n",
    "    },\n",
    "    \n",
    "}"
   ]
  },
  {
   "cell_type": "markdown",
   "metadata": {},
   "source": [
    "### Dataset slits"
   ]
  },
  {
   "cell_type": "code",
   "execution_count": 57,
   "metadata": {},
   "outputs": [
    {
     "name": "stderr",
     "output_type": "stream",
     "text": [
      "  0%|          | 0/2 [00:00<?, ?it/s]"
     ]
    },
    {
     "name": "stdout",
     "output_type": "stream",
     "text": [
      "DrugBank : columns - Index(['Drug1_ID', 'Drug1', 'Drug2_ID', 'Drug2', 'Y', 'ds_name'], dtype='object'), shape - (134265, 6)\n"
     ]
    },
    {
     "name": "stderr",
     "output_type": "stream",
     "text": [
      "100%|██████████| 2/2 [00:00<00:00,  2.29it/s]"
     ]
    },
    {
     "name": "stdout",
     "output_type": "stream",
     "text": [
      "TWOSIDES : columns - Index(['Drug1_ID', 'Drug1', 'Drug2_ID', 'Drug2', 'Y', 'ds_name'], dtype='object'), shape - (3254609, 6)\n"
     ]
    },
    {
     "name": "stderr",
     "output_type": "stream",
     "text": [
      "\n"
     ]
    }
   ],
   "source": [
    "for n in tqdm(config[\"dataset\"][\"dataset_bank\"].keys()):\n",
    "    config[\"dataset\"][\"dataset_bank\"][n] = config[\"dataset\"][\"dataset_bank\"][n].get_split()\n",
    "    config[\"dataset\"][\"dataset_bank\"][n][\"train\"][\"ds_name\"] = n\n",
    "    config[\"dataset\"][\"dataset_bank\"][n][\"valid\"][\"ds_name\"] = n\n",
    "    config[\"dataset\"][\"dataset_bank\"][n][\"test\"][\"ds_name\"] = n\n",
    "    print(\"{} : columns - {}, shape - {}\".format(\n",
    "        n,\n",
    "        config[\"dataset\"][\"dataset_bank\"][n][\"train\"].columns, \n",
    "        config[\"dataset\"][\"dataset_bank\"][n][\"train\"].shape)\n",
    "          )\n",
    "    "
   ]
  },
  {
   "cell_type": "code",
   "execution_count": 58,
   "metadata": {},
   "outputs": [
    {
     "data": {
      "text/plain": [
       "(Index(['Drug1_ID', 'Drug1', 'Drug2_ID', 'Drug2', 'Y', 'ds_name'], dtype='object'),\n",
       " Index(['Drug1_ID', 'Drug1', 'Drug2_ID', 'Drug2', 'Y', 'ds_name'], dtype='object'))"
      ]
     },
     "execution_count": 58,
     "metadata": {},
     "output_type": "execute_result"
    }
   ],
   "source": [
    "config['dataset']['dataset_bank']['DrugBank'][\"train\"].columns, config['dataset']['dataset_bank']['TWOSIDES'][\"train\"].columns"
   ]
  },
  {
   "cell_type": "code",
   "execution_count": 59,
   "metadata": {},
   "outputs": [
    {
     "data": {
      "text/plain": [
       "(86, 1317)"
      ]
     },
     "execution_count": 59,
     "metadata": {},
     "output_type": "execute_result"
    }
   ],
   "source": [
    "config['metadata']['label_map']['DrugBank'].keys().__len__(), config['metadata']['label_map']['TWOSIDES'].keys().__len__()"
   ]
  },
  {
   "cell_type": "code",
   "execution_count": 60,
   "metadata": {},
   "outputs": [
    {
     "data": {
      "text/plain": [
       "dict_values(['#Drug1 may increase the photosensitizing activities of #Drug2.', '#Drug1 may increase the anticholinergic activities of #Drug2.', 'The bioavailability of #Drug2 can be decreased when combined with #Drug1.', 'The metabolism of #Drug2 can be increased when combined with #Drug1.', '#Drug1 may decrease the vasoconstricting activities of #Drug2.', '#Drug1 may increase the anticoagulant activities of #Drug2.', '#Drug1 may increase the ototoxic activities of #Drug2.', 'The therapeutic efficacy of #Drug2 can be increased when used in combination with #Drug1.', '#Drug1 may increase the hypoglycemic activities of #Drug2.', '#Drug1 may increase the antihypertensive activities of #Drug2.', 'The serum concentration of the active metabolites of #Drug2 can be reduced when #Drug2 is used in combination with #Drug1 resulting in a loss in efficacy.', '#Drug1 may decrease the anticoagulant activities of #Drug2.', 'The absorption of #Drug2 can be decreased when combined with #Drug1.', '#Drug1 may decrease the bronchodilatory activities of #Drug2.', '#Drug1 may increase the cardiotoxic activities of #Drug2.', '#Drug1 may increase the central nervous system depressant (CNS depressant) activities of #Drug2.', '#Drug1 may decrease the neuromuscular blocking activities of #Drug2.', '#Drug1 can cause an increase in the absorption of #Drug2 resulting in an increased serum concentration and potentially a worsening of adverse effects.', '#Drug1 may increase the vasoconstricting activities of #Drug2.', '#Drug1 may increase the QTc-prolonging activities of #Drug2.', '#Drug1 may increase the neuromuscular blocking activities of #Drug2.', '#Drug1 may increase the adverse neuromuscular activities of #Drug2.', '#Drug1 may increase the stimulatory activities of #Drug2.', '#Drug1 may increase the hypocalcemic activities of #Drug2.', '#Drug1 may increase the atrioventricular blocking (AV block) activities of #Drug2.', '#Drug1 may decrease the antiplatelet activities of #Drug2.', '#Drug1 may increase the neuroexcitatory activities of #Drug2.', '#Drug1 may increase the dermatologic adverse activities of #Drug2.', '#Drug1 may decrease the diuretic activities of #Drug2.', '#Drug1 may increase the orthostatic hypotensive activities of #Drug2.', 'The risk or severity of hypertension can be increased when #Drug2 is combined with #Drug1.', '#Drug1 may increase the sedative activities of #Drug2.', 'The risk or severity of QTc prolongation can be increased when #Drug1 is combined with #Drug2.', '#Drug1 may increase the immunosuppressive activities of #Drug2.', '#Drug1 may increase the neurotoxic activities of #Drug2.', '#Drug1 may increase the antipsychotic activities of #Drug2.', '#Drug1 may decrease the antihypertensive activities of #Drug2.', '#Drug1 may increase the vasodilatory activities of #Drug2.', '#Drug1 may increase the constipating activities of #Drug2.', '#Drug1 may increase the respiratory depressant activities of #Drug2.', '#Drug1 may increase the hypotensive and central nervous system depressant (CNS depressant) activities of #Drug2.', 'The risk or severity of hyperkalemia can be increased when #Drug1 is combined with #Drug2.', 'The protein binding of #Drug2 can be decreased when combined with #Drug1.', '#Drug1 may increase the central neurotoxic activities of #Drug2.', '#Drug1 may decrease effectiveness of #Drug2 as a diagnostic agent.', '#Drug1 may increase the bronchoconstrictory activities of #Drug2.', 'The metabolism of #Drug2 can be decreased when combined with #Drug1.', '#Drug1 may increase the myopathic rhabdomyolysis activities of #Drug2.', 'The risk or severity of adverse effects can be increased when #Drug1 is combined with #Drug2.', 'The risk or severity of heart failure can be increased when #Drug2 is combined with #Drug1.', '#Drug1 may increase the hypercalcemic activities of #Drug2.', '#Drug1 may decrease the analgesic activities of #Drug2.', '#Drug1 may increase the antiplatelet activities of #Drug2.', '#Drug1 may increase the bradycardic activities of #Drug2.', '#Drug1 may increase the hyponatremic activities of #Drug2.', 'The risk or severity of hypotension can be increased when #Drug1 is combined with #Drug2.', '#Drug1 may increase the nephrotoxic activities of #Drug2.', '#Drug1 may decrease the cardiotoxic activities of #Drug2.', '#Drug1 may increase the ulcerogenic activities of #Drug2.', '#Drug1 may increase the hypotensive activities of #Drug2.', '#Drug1 may decrease the stimulatory activities of #Drug2.', 'The bioavailability of #Drug2 can be increased when combined with #Drug1.', '#Drug1 may increase the myelosuppressive activities of #Drug2.', '#Drug1 may increase the serotonergic activities of #Drug2.', '#Drug1 may increase the excretion rate of #Drug2 which could result in a lower serum level and potentially a reduction in efficacy.', 'The risk or severity of bleeding can be increased when #Drug1 is combined with #Drug2.', '#Drug1 can cause a decrease in the absorption of #Drug2 resulting in a reduced serum concentration and potentially a decrease in efficacy.', '#Drug1 may increase the hyperkalemic activities of #Drug2.', '#Drug1 may increase the analgesic activities of #Drug2.', 'The therapeutic efficacy of #Drug2 can be decreased when used in combination with #Drug1.', '#Drug1 may increase the hypertensive activities of #Drug2.', '#Drug1 may decrease the excretion rate of #Drug2 which could result in a higher serum level.', 'The serum concentration of #Drug2 can be increased when it is combined with #Drug1.', '#Drug1 may increase the fluid retaining activities of #Drug2.', 'The serum concentration of #Drug2 can be decreased when it is combined with #Drug1.', '#Drug1 may decrease the sedative activities of #Drug2.', 'The serum concentration of the active metabolites of #Drug2 can be increased when #Drug2 is used in combination with #Drug1.', '#Drug1 may increase the hyperglycemic activities of #Drug2.', '#Drug1 may increase the central nervous system depressant (CNS depressant) and hypertensive activities of #Drug2.', '#Drug1 may increase the hepatotoxic activities of #Drug2.', '#Drug1 may increase the thrombogenic activities of #Drug2.', '#Drug1 may increase the arrhythmogenic activities of #Drug2.', '#Drug1 may increase the hypokalemic activities of #Drug2.', '#Drug1 may increase the vasopressor activities of #Drug2.', '#Drug1 may increase the tachycardic activities of #Drug2.', 'The risk of a hypersensitivity reaction to #Drug2 is increased when it is combined with #Drug1.'])"
      ]
     },
     "execution_count": 60,
     "metadata": {},
     "output_type": "execute_result"
    }
   ],
   "source": [
    "config['metadata']['label_map']['DrugBank'].values()"
   ]
  },
  {
   "cell_type": "code",
   "execution_count": 61,
   "metadata": {},
   "outputs": [
    {
     "data": {
      "text/plain": [
       "dict_values(['hypermagnesemia', 'retinopathy of prematurity', 'atelectasis', 'alkalosis', 'Back Ache', 'lung edema', 'agitated', 'abnormal movements', 'Acidosis', 'peliosis', 'rupture of spleen', 'Apnea', 'Drug hypersensitivity', 'flatulence', 'pain in throat', 'allergies', 'thrombocytopenia', 'bradycardia', 'lung infiltration', 'Bleeding', 'hypoglycaemia neonatal', 'Gastrointestinal Obstruction', 'hyperglycaemia', 'peritonitis', 'hypoglycaemia', 'abdominal distension', 'asystole', 'cerebral infarct', 'hypoxia', 'Difficulty breathing', 'decreased body temperature', 'adynamic ileus', 'sepsis', 'Hypomagnesaemia', 'neonatal respiratory distress syndrome', 'Acute Respiratory Distress Syndrome', 'lipoma', 'pelvic infection', 'appendectomy', 'flank pain', 'pneumothorax', 'appendicitis', 'Strabismus', 'Blood calcium decreased', 'respiratory failure', 'pulmonary hypertension', 'Hypercapnia', 'intestinal perforation', 'leucocytosis', 'Disorder Lung', 'hot flash', 'arterial pressure NOS decreased', 'metabolic acidosis', 'Bladder inflammation', 'ascites', 'patent ductus arteriosis', 'sinus tachycardia', 'stridor', 'arterial pressure NOS increased', 'Hypoventilation', 'edema', 'disease of liver', 'Aspartate Aminotransferase Increase', 'Cold extremities', 'facial flushing', 'anaphylactic reaction', 'eruption', 'acute pancreatitis', 'neumonia', 'adenocarcinoma', 'confusion', 'malnourished', 'haemorrhoids', 'still birth', 'anaemia', 'drug toxicity NOS', 'increased white blood cell count', 'encephalopathy', 'Anorexia', 'tremor', 'Hallucination', 'chronic obstructive airway disease', 'drowsiness', 'Head ache', 'back injury', 'erythema', 'Diplopia', 'enlarged spleen', 'narcolepsy', 'esophageal spasm', 'erosive gastritis', 'gastroenteritis viral', 'Lymphocytes decreased', 'Breast cancer', 'itch', 'haemolytic anaemia', 'upper gastrointestinal bleeding', 'icterus', 'gastroenteritis', 'optic disc edema', 'sleep disorder', 'septic shock', 'bladder retention', 'Aphonia', 'Pain', 'idiopathic thrombocytopenic purpura', 'pneumonia staphylococcal', 'alopecia', 'conjunctivitis', 'lobar pneumonia', 'glomerulonephritis', 'duodenal ulcer', 'deep vein thromboses', 'leucopenia', 'rhinorrhea', 'bursitis', 'bleeding Vaginal', 'Excoriation', 'Ekbom Syndrome', 'nephrocalcinosis', 'blurred vision', 'thrombotic microangiopathy', 'dizziness', 'pleurisy', 'sunburn', 'Hoarseness', 'Bleeding hemorrhoids', 'Fatigue', 'aspiration pneumonia', 'perirectal abscess', 'diarrhea', 'asthma', 'skin lesion', 'tinnitus', 'muscle spasm', 'fib', 'Candida Infection', 'Abnormal Gait', 'glossodynia', 'anal fissure', 'Infection Viral', 'cellulitis', 'allergic dermatitis', 'constipated', 'Clotting', 'muscle paresis', 'deafness', 'vocal cord paralysis', 'dry skin', 'ear discharge', 'eye pain', 'Leukaemia', 'myopia', 'Chronic Kidney Disease', 'acute kidney failure', 'retrocollis', 'cognitive disorder', 'Cholangitis', 'hypothyroid', 'dermatitides', 'Abnormal LFTs', 'dermatitis medicamentosa', 'acute brain syndrome', 'Deafness neurosensory', 'fungal disease', 'nasal sinus congestion', 'Near Syncope', 'erythema multiforme', 'haematoma', 'bleb', 'nasal congestion', 'amenorrhea', 'epistaxis', 'hepatitis', 'coated tongue', 'Neutropenia', 'wheeze', 'haemorrhage rectum', 'abdominal pain', 'chest pain', 'Mycobacterium tuberculosis infection', 'cholelithiasis', 'pyoderma', 'laryngeal neoplasia', 'Blood disorder', 'psychoses', 'aching muscles', 'abscess', 'loss of consciousness', 'attempted suicide', 'bad breath', 'Arthritis infective', 'loss of weight', 'nasopharyngitis', 'belching', 'Rhinitis', 'Colon Spastic', 'heart attack', 'hepatic neoplasia', 'azotaemia', 'nervous tension', 'muscle weakness', 'hypochloraemia', 'cataract', 'abdominal pain upper', 'insomnia', 'dyspepsia', 'asthenia', 'emesis', 'Embolism pulmonary', 'biliary tract disorder', 'colitis ischemic', 'Extremity pain', 'arteriosclerotic heart disease', 'Small intestinal obstruction', 'Paraesthesia', 'neoplasia', 'Fainting', 'blood sodium decreased', 'sneezing', 'Feeling unwell', 'hypokalaemia', 'lower GI bleeding', 'migraine', 'intervertebral disc disorder', 'osteoporosis', 'High blood pressure', 'road traffic accident', 'diverticulosis', 'Arthritis rheumatoid', 'Abnormal vision', 'arteriosclerosis', 'bulging', 'Osteoarthritis', 'pleural pain', 'acid reflux', 'fibromyalgia', 'breast pain', 'palpitation', 'herpes zoster', 'Breast cyst', 'myoglobinuria', 'osteomalacia', 'ischias', 'Aching joints', 'arthritis', 'abuse', 'colonic polyp', 'cholecystitis', 'Dyspnea exertional', 'Extrasystoles Ventricular', 'acne rosacea', 'Incontinence', 'gall bladder', 'diabetic acidosis', 'Diabetic Retinopathy', 'blepharitis', 'pyelonephritis', 'aptyalism', 'Blepharospasm', 'aneurysm', 'benign prostatic hyperplasia', 'wrist fracture', 'dislocation', 'Superficial thrombophlebitis', 'Decreased Libido', 'decubitus ulcer', 'kidney failure', 'meningitides', 'ild', 'prostatism', 'Atrioventricular block first degree', 'Cough', 'Vestibular disorder', 'panic attack', 'nightmare', 'wandering atrial pacemaker', 'Breast Lump', 'nocturia', 'spinning sensation', 'Diabetes', 'bronchitis', 'polyp', 'osteomyelitis', 'lung fibrosis', 'enlarged liver', 'laceration', 'coma', 'amyotrophy', 'cachectic', 'renal cyst', 'neuropathy peripheral', 'collagenvascular disease', 'Bacterial infection', 'angiitis', 'convulsion', 'iron deficiency anaemia', 'Cardiomyopathy', 'bronchial spasm', 'femur fracture', 'fascitis plantar', 'Cardiac decompensation', 'mucositis oral', 'joint swelling', 'hernia', 'glaucoma', 'mitral valve disease NOS', 'edema extremities', 'pulmonary mass', 'breast dysplasia', 'Phlebitis', 'lung neoplasms', 'balance disorder', 'bone marrow failure', 'deglutition disorder', 'adrenal insufficiency', 'sensory disturbance', 'polyneuropathy', 'Nephrolithiasis', 'dysarthria', 'Hypotension Orthostatic', 'Scoliosis', 'autonomic instability', 'rhabdomyolysis', 'renal colic', 'bundle branch block left', 'apoplexy', 'malabsorption', 'aphasia', 'Amnesia', 'body temperature increased', 'burning sensation', 'chill', 'phaeochromocytoma', 'Infection Urinary Tract', 'night sweat', 'keratitis sicca', 'dehydration', 'Ataxia', 'transient ischaemic attack', 'cerebral haemorrhage', 'Mod', 'elevated cholesterol', 'heart rate increased', 'eye swelling', 'psychosexual disorder', 'Anxiety', 'facial palsy', 'fat embolism', 'ureteral obstruction', 'disorder Renal', 'nephrosclerosis', 'delirium tremens', 'psoriatic arthritis', 'post traumatic stress disorder', 'laryngitis', 'angiopathy', 'flu', 'coeliac disease', 'adjustment disorder', 'carcinoid syndrome', 'nausea', 'dysphasia', 'drug withdrawal', 'Pleural Effusion', 'Sinusitis', 'Bilirubinaemia', 'amentia', 'cerebral atrophy', 'cervicalgia', 'hyperlipaemia', 'metabolic encephalopathy', 'Diabetic Nephropathy', 'encephalitis', 'Intervertebral Disc Herniation', 'Atherosclerosis', 'aortic regurgitation', 'Neuralgia', 'hemiplegia', 'pneumonia Klebsiella', 'emphysema', 'AFIB', 'Postherpetic Neuralgia', 'Eosinophil Count Increased', 'Neuritis', 'abnormal ECG', 'Bone Fracture Spontaneous', 'gingivitis', 'soft tissue infection', 'floaters', 'thyroid neoplasia', 'dental abscess', 'dental pain', 'aseptic necrosis bone', 'bruxism', 'retinal bleeding', 'gingival pain', 'bone inflammation', 'candidiasis of mouth', 'tooth disease', 'mouth pain', 'arthropathy', 'pericardial effusion', 'lung neoplasm malignant', 'infection', 'blindness', 'herpes simplex', 'blood in urine', 'Acute myeloblastic leukemia', 'abnormal EEG', 'gastric inflammation', 'Transfusion reaction', 'abortion spontaneous', 'urosepsis', 'eating disorder', 'schizophrenia', 'cardiac murmur', 'cardiac enlargement', 'proteinuria', 'increased platelet count', 'odynophagia', 'multiple sclerosis', 'intraocular inflammation', 'weight gain', 'Convulsions Grand Mal', 'Enuresis', 'bundle branch block right', 'Personality disorder', 'salivary gland inflammation', 'pregnancy induced hypertension', 'cervicitis', 'hernia hiatal', 'cervical dysplasia', 'adenitis', 'ecchymoses', 'tardive dyskinesia', 'blood pressure abnormal', 'muscle strain', 'uterine infection', 'Ejaculation Premature', 'excessive thirst', 'ear ache', 'elevated erythrocyte sedimentation rate', 'Blood Calcium Increased', 'joint stiffness', 'phobia', 'esophagitis', 'nephrotic syndrome', 'proctalgia', 'bone pain', 'contracture', 'proctitis', 'spondylitis', 'spondylosis', 'dyspareunia', 'hyperparathyroidism', 'sleep apnea', 'Raynauds phenomenon', 'wound dehiscence', 'portal vein thrombosis', 'head injury', 'Arachnoiditis', 'synovitis', 'hyperhidrosis', 'nystagmus', 'gastrointestinal bleed', 'apraxia', 'Rectal Tenesmus', 'amyloidosis', 'Drug addiction', 'prostatitis', 'femoral neck fracture', 'sleep walking', 'monoclonal gammopathy', 'bruise', 'Scar', 'cardiac disease', 'pain pelvic', 'hip fracture', 'difficulty in walking', 'panic disorder', 'atrial septal defect', 'Tendinitis', 'obstructive uropathy', 'Colpitis', 'Rhagades', 'bone spur', 'pancreatitis', 'allergic rhinitis', 'otitis media', 'intestinal functional disorder', 'faecal incontinence', 'carpal tunnel', 'haematochezia', 'ADH inappropriate', 'neuropathy', 'Chest infection', 'radiculopathy', 'dysphonia', 'myelopathy', 'black stools', 'dysuria', 'flashing lights', 'Electrolyte disorder', 'Decreased hearing', 'mitral valve prolapse', 'fatty liver', 'mouth bleeding', 'bipolar disorder', 'embolism', 'duodenitis', 'malignant melanoma', 'ear infection', 'sinus bradycardia', 'atrial ectopic beats', 'external ear infection', 'muscle inflammation', 'cervical vertebral fracture', 'hydronephrosis', 'dental caries', 'elevated prostate specific antigen', 'mouth ulcer', 'gastroduodenal ulcer', 'fistula', 'acute bronchitis', 'gynaecomastia', 'Hypophosphataemia', 'Excess potassium', 'esophageal ulcer', 'renal tubular acidosis', 'phlebothrombosis', 'dysaesthesia', 'goiter', 'metabolic alkalosis', 'Adenopathy', 'tympanic membrane perforation', 'Arrhythmia', 'Hepatic failure', 'hyperalimentation', 'Spinal fracture', 'Parkinson', 'movement disorder', 'macula lutea degeneration', 'musculoskeletal pain', 'psychosomatic disease', 'Cardiac ischemia', 'paranoia', 'retinal degeneration', 'chronic sinusitis', 'ulcer', 'rib fracture', 'rotator cuff syndrome', 'impetigo', 'fractured pelvis NOS', 'Infection Upper Respiratory', 'angioedema', 'sick sinus syndrome', 'hyperthyroidism', 'cardiac failure', 'atrioventricular block second degree', 'pharyngeal inflammation', 'adenoma', 'epilepsy', 'sinus arrest', 'angina', 'muscle disorder', 'bundle branch block', 'tachycardia ventricular', 'melanocytic naevus', 'cramp', 'atrial flutter', 'cardiovascular collapse', 'hypernatraemia', 'hive', 'MPD', 'syncope vasovagal', 'streptococcal infection', 'aspergillosis', 'Light sensitivity', 'enteritis', 'bone marrow transplant', 'SCLC', 'colitis', 'elevated triglycerides', 'Glucose intolerance', 'Multiple Myeloma', 'duodenal ulcer haemorrhage', 'CMV infection', 'hemiparesis', 'polymyositis', 'Bacteraemia', 'onychomycosis', 'carcinoma of the colon', 'traumatic arthropathy', 'myocarditis', 'cardiac valvulopathy', 'endocarditis', 'Atrioventricular block complete', 'ventricular fibrillation', 'gangrene', 'ischaemia', 'ADVERSE DRUG EFFECT', 'defaecation urgency', 'cirrhosis', 'trigeminal neuralgia', 'hordeolum', 'polyuria', 'periodontal disease', 'obesity', 'glucosuria', 'basal cell carcinoma', 'pulmonary arrest', 'haematemesis', 'granuloma', 'meningeal irritation', 'Salmonella', 'insulin dependent diabetes mellitus', 'failure to thrive', 'Cardiac tamponade', 'ankle fracture', 'hepatitis toxic', 'endocrine disorder', 'Sinus headache', 'renal abscess', 'diverticulitis', 'dermatitis exfoliative', 'gastric dilatation', 'distended bladder', 'pancreatitis relapsing', 'Thrombophlebitis', 'nasal septal perforation', 'shoulder pain', 'Abnormal Laboratory Findings', 'Polio', 'duodenal ulcer perforation', 'joint effusion', 'ventricular septal defect', 'gouty arthritis', 'Supraventricular tachycardia', 'respiratory alkalosis', 'haemorrhage intracranial', 'major depression', 'excessive sleepiness', 'lymphoma', 'substance abuse', 'animal bite', 'cerebral vascular disorder', 'dry eye', 'Ovarian Cyst', 'micturition urgency', 'Stress incontinence', 'hesitancy', 'bone fracture', 'nodule', 'cyst', 'Abdominal hernia', 'Scleroderma', 'Cor pulmonale', 'excessive salivation', 'right heart failure', 'subarachnoid haemorrhage', 'cancer', 'soft tissue injuries', 'colitis pseudomembranous', 'heavy menstrual period', 'premature menopause', 'umbilical hernia', 'psoriasis', 'contact dermatitis', 'blepharoptosis', 'Bleeding gums', 'epicondylitis', 'ingrowing nail', 'dermatitis seborrheic', 'candidiasis of vagina', 'Spinal Compression Fracture', 'palsies', 'petit mal', 'gout', 'cerebral ischaemia', 'eyelid diseases', 'gastric ulcer', 'periodontitis', 'Lyell', 'seborrhoeic keratosis', 'actinic keratosis', 'choking', 'dyshidrosis', 'aortic stenosis', 'coughing blood', 'radiation pneumonitis', 'Glossitis', 'bacterial pneumonia', 'alcohol consumption', 'squamous cell carcinoma of skin', 'pancreatic cancer', 'Tenosynovitis', 'liver abscess', 'myelodysplasia', 'rectal polyp', 'brain concussion', 'cutaneous ulcer', 'menometrorrhagia', 'face pain', 'atrioventricular block', 'breast enlargement', 'Eustachian tube disorder', 'macroglossia', 'flashbacks', 'acute sinusitis', 'Pelvic Inflammatory Disease', 'Altered Bowel Function', 'antinuclear antibody positive', 'galactorrhea', 'schizoaffective disorder', 'borderline personality disorder', 'injury of neck', 'Pharyngitis Streptococcal', 'Nephrogenic diabetes insipidus', 'hepatic necrosis', 'portal hypertension', 'Diabetic neuropathy', 'brain neoplasm', 'reflux esophagitis', 'Breakthrough bleeding', 'hair disease', 'Seroma', 'trigger finger', 'Interstitial nephritis', 'Nail disorder', 'allergic vasculitis', 'lichen planus', 'keratoacanthomas', 'milia', 'carotid artery stenosis', 'gastric polyps', 'hyperkeratosis', 'toxic shock', 'dermoid cyst', 'essential hypertension', 'hepatitis B', 'tetralogy of Fallot', 'congenital heart disease', 'hepatitis B surface antigen positive', 'colon neoplasm', 'cholecystectomies', 'Carcinoma of Prostate', 'orthopnea', 'renal mass', 'Breast disorder', 'disseminated lupus erythematosus', 'Onycholysis', 'breast tenderness', 'mixed connective tissue disease', 'breast discharge', 'Disorder Peripheral Vascular', 'limb malformation', 'Hyperprolactinaemia', 'meningocele', 'acute psychosis', 'ketoacidosis', 'sarcoidosis', 'Detached retina', 'eosinophilic pneumonia', 'Chest wall pain', 'tonsillar hypertrophy', 'acanthosis nigricans', 'hyperpigmentation', 'costochondritis', 'agoraphobia', 'cheilosis', 'Easy bruisability', 'OPTIC NEURITIS', 'eye injury', 'scotoma', 'eczema', 'tracheostomy', 'Muscle Rupture', 'bone sarcoma', 'neuroblastoma', 'mediastinal tumor', 'erysipelas', 'paraparesis', 'color blindness', 'hepatorenal syndrome', 'Hepatitis C', 'eye infection', 'EBV infection', 'Caesarean Section', 'agranulocytoses', 'petechia', 'hematoma subdural', 'glioma', 'pyoderma gangrenosum', 'benign intracranial hypertension', 'cerebral artery embolism', 'hydrocephalus', 'hypogammaglobulinaemia', 'Acne', 'malignant hypertension', 'acute otitis media', 'Post nasal drip', 'labyrinthitis', 'Nodule Skin', 'atrophy of skin', 'neck mass', 'tracheitis', 'adenomyosis', 'rheumatic heart disease', 'Vitamin D Deficiency', 'kidney pain', 'hyperuricaemia', 'splenectomy', 'atypical mycobacterial infection', 'parotitis', 'choreoathetosis', 'Disorder Retinal', 'pericarditis', 'cerumen impaction', 'vitiligo', 'paronychia', 'colostomy', 'Tooth Impacted', 'thyroid disease', 'aortic aneurysm', 'dermatomyositis', 'hyperaesthesia', 'als', 'cerebral palsy', 'spider angioma', 'bronchiectasis', 'encephalopathy hypertensive', 'retinal scar', 'aplasia pure red cell', 'anaemia hypochromic', 'furuncle', 'periostitis', 'birth defect', 'cerebellar ataxia', 'autonomic neuropathy', 'corneal disorder', 'polymyalgia rheumatica', 'diaphragmatic hernia', 'lymphedema', 'coronary artery bypass graft', 'pleural fibrosis', 'temporal arteritis', 'polyarthritis', 'phimosis', 'Lacrimal Disorder', 'fecal occult blood', 'cholecystitis acute', 'inflammatory bowel disease', 'tendon injury', 'Prinzmetal variant angina', 'hiccough', 'serum sickness', 'acquired immune deficiency syndrome', 'Anemia aplastic', 'brain abscess', 'synovial cyst', 'ectopic pregnancies', 'Papilloma', 'pneumonia primary atypical', 'retinopathy hypertensive', 'Ovarian cancer', 'lung adenocarcinoma', 'Gastric Cancer', 'tinea', 'varicose vein', 'pilonidal cyst', 'cystic acne', 'aphthous stomatitis', 'body tinea', 'familial adenomatous polyposis', 'intestinal ulcer', 'Cutaneous mycosis', 'coccidioidomycosis', 'humerus fracture', 'volvulus', 'Neuromuscular Disorder', 'vaginal discharge', 'Pneumocystis carinii infection', 'Keloid scar', 'primary biliary cirrhosis', 'left ventricular hypertrophy', 'colon polypectomy', 'anosmia', 'tetany', 'abnormal cervical smear', 'haemangioma', 'incisional hernia', 'abnormal mammogram', 'Arthritis bacterial', 'Splenic infarction', 'Hernia Inguinal', 'meningioma', 'Pneumocystis carinii pneumonia', 'phlebitis superficial', 'gallbladder polyp', 'peritoneal adhesions', 'hypovitaminosis', 'hepatic encephalopathy', 'Dyspnoea paroxysmal nocturnal', 'carotid bruit', 'vitamin B 12 deficiency', 'normal pressure hydrocephalus', 'paraplegia', 'Corneal dystrophy', 'Aseptic meningitis', 'Alcoholic intoxication', 'causalgia', 'Irritation Skin', 'Bradyarrhythmia', 'conversion disorder', 'epidural abscess', 'cholecystitis chronic', 'swollen scrotum', 'hay fever', 'myasthenia gravis', 'fibroids', 'superior vena cava syndrome', 'mediastinal disorder', 'bladder cancer', 'quadriplegia', 'albuminuria', 'Breast swelling', 'neoplasm prostate', 'alveolar proteinosis', 'Bone marrow fibrosis', 'histoplasmosis', 'telangiectases', 'Rheumatic fever', 'neurodermatitis', 'fibroadenoma of breast', 'ganglion', 'food allergy', 'urethritis', 'ovulation pain', 'bacterial vaginitis', 'hirsuitism', 'Sjogrens syndrome', 'vitreous detachment', 'Vitreous haemorrhage', 'venous insufficiency', 'nasal septum disorder', 'carcinoma of the cervix', 'Burns Second Degree', 'tension headache', 'night cramps', 'pigmentation disorder', 'keratitis', 'kidney transplant', 'diabetes insipidus', 'fracture nonunion', 'carbuncle', 'folliculitis', 'jaundice neonatal', 'empyema', 'cleft lip', 'Gastric ulcer perforated', 'platelet disorder', 'gallbladder perforation', 'Rhinitis Seasonal', 'allergic alveolitis', 'cutaneous candidiasis', 'chronic ulcerative colitis', 'Meningitis Viral', 'Anal fistula', 'esophageal cancer', 'JRA', 'hydrocele', 'iritis', 'chalazion', 'arterial insufficiency', 'neurogenic bladder', 'nasal polyp', 'uterine bleeding', 'Uterine polyp', 'musculoskeletal deformity', 'vascular anomaly', 'tonsillitis', 'hyperacusia', 'enterocolitis', 'motor retardation', 'cryptococcosis', 'Fatty stools', 'priapism', 'Whiplash Injury', 'epidural hematoma', 'Retinal artery occlusion', 'neuroma', 'chronic hepatitis', 'food intolerance', 'cluster headache', 'mycosis fungoides', 'connective tissue disease', 'macrocytosis', 'thyroiditis', 'Anisocoria', 'rectal discharge', 'Herpes ophthalmic', 'calculus ureteric', 'thyroid cyst', 'HIV disease', 'Endometrial Atrophy', 'hypopituitarism', 'Menstrual Disorder', 'dysphemia', 'oophorectomy', 'irregular menstrual cycle', 'infectious mononucleosis', 'bladder atony', 'methaemoglobinaemia', 'pancreatic pseudocyst', 'Benign Neoplasm', 'Cerebral thrombosis', 'retinal vein thrombosis', 'Lyme Disease', 'lung abscess', 'kidney neoplasm', 'diarrhea infectious', 'motion sickness', 'hypoaldosteronism', 'testicular swelling', 'pneumoconiosis', 'coronary angioplasty', 'Skin Striae', 'hyperchloremia', 'corneal ulcer', 'eye redness', 'hyperphosphatemia', 'panniculitis', 'status epilepticus', 'sacroiliitis', 'chondrocalcinosis pyrophosphate', 'Tracheobronchitis', 'pyuria', 'agnosia', 'fibrosing alveolitis', 'hypervitaminosis', 'Porphyria', 'intussusception', 'amaurosis fugax', 'leukoplakia of mouth', 'gestational diabetes', 'xanthoma', 'Penile pain', 'optic atrophy', 'breast inflammation', 'xerosis', 'postmenopausal bleeding', 'spinal cord injury', 'esophageal rupture', 'food poisoning', 'rectal prolapse', 'heat stroke', 'hypersplenism', 'conjunctivitis viral', 'alcohol abuse', 'multifocal leukoencephalopathy', 'eustachian tube obstruction', 'Mumps', 'Peyronies Disease', 'global amnesia', 'papillary necrosis', 'dacrocystitis', 'encephalitis viral', 'avascular necrosis', 'megacolon', 'Salivary Gland Calculus', 'Cholangitis sclerosing', 'ophthalmoplegia', 'haemarthrosis', 'osteochondrosis', 'epiglottitis', 'fasciitis', 'Breast abscess', 'Neurosis', 'foreign body in eye', 'myoma', 'Erythema nodosum', 'tinea pedis', 'hypertrichosis', 'tuberculin test positive', 'hypogonadism', 'brachial plexus injury', 'hydroureter', 'Collagen disease', 'mental retardation', 'Hepatitis A', 'testes pain', 'Salpingitis', 'colonic obstruction', 'disorders of lipid metabolism', 'esophageal stenosis', 'febrile convulsion', 'melanosis', 'regurgitation', 'gallbladder cancer', 'lymphangitis', 'parotid gland enlargement', 'epididymitis', 'Morphea', 'chicken pox', 'hemothorax', 'bronchiolitis', 'coccydynia', 'dysmenorrhea', 'periarteritis nodosa', 'bacterial endocarditis', 'Penile swelling', 'corneal abrasion', 'Pterygium', 'pigmentary retinopathy', 'Post thrombotic syndrome', 'night blindness', 'Diphtheria', 'glioblastoma multiforme', 'Endometrial hyperplasia', 'biliary cirrhosis', 'premature separation of placenta', 'episcleritis', 'Bunion', 'Astrocytoma', 'trisomy 21', 'sarcoma', 'heat rash', 'lymphocytosis', 'reflex sympathetic dystrophy', 'adrenal carcinoma', 'Legionella', 'pyloric stenosis', 'exophthalmos', 'pemphigus', 'Endometrial cancer', 'polycystic ovary disease', 'Viral Pharyngitis', 'Cystitis Interstitial', 'trichomoniasis', 'Retroperitoneal fibrosis', 'Lice Infestation', 'Bladder Neoplasm', 'tinea versicolor', 'cleft palate', 'viral pneumonia', 'hypomenorrhea', 'Polymenorrhea', 'asthenopia', 'lagophthalmos', 'prolactinoma', 'Endometritis', 'endometriosis', 'myelitis', 'anal pruritus', 'abortion missed', 'osteoma', 'peripheral nerve injury', 'PMs', 'myoclonic epilepsy', 'Oligomenorrhea', 'lactose intolerance', 'retinitis', 'giardiasis', 'ankylosing spondylitis', 'refraction disorder', 'angle closure glaucoma', 'breast neoplasm', 'acute glomerulonephritis', 'Viral rash NOS', 'gastric stasis', 'folate deficiency', 'iridocyclitis', 'acute febrile neutrophilic dermatosis', 'osteopetrosis', 'thyroid cancer', 'chronic active hepatitis', 'thyroidectomy', 'bulimia', 'arteritis', 'ichthyosis', 'hypermetropia', 'Corneal clouding', 'cryptorchidism', 'depigmentation', 'vulvovaginitis', 'orchitis', 'carcinoid tumour', 'Leriche syndrome', 'renal cancer', 'ocular hypertension', 'Lymphatic Disorders', 'hepatitis C antibody positive', 'Tympanic membrane disorder', 'tonsillectomy', 'Essential Thrombocythemia', 'adenoid hypertrophy', 'cervical polyp', 'varicocele', 'dandruff', 'vulval abscess', 'ectropion', 'syphilis', 'alcoholic cirrhosis', 'Vaginal prolapse', 'balanitis', 'vaginal dysplasia', 'bone neoplasm', 'Bicuspid Aortic Valve', 'carcinoma', 'parapsoriasis', 'pityriasis', 'Intertrigo', 'anogenital warts', 'salivary gland enlargement', 'dyslexia', 'esophageal perforation', 'dermatophytosis', 'pneumonectomy', 'Dermatitis diaper', 'hypercalcinuria', 'thyroid adenoma', 'eclampsia', 'toxoplasmosis', 'exploratory laparotomy', 'amblyopia', 'Cryptosporidiosis', 'infestation', 'hyperamylasaemia', 'bacterial conjunctivitis', 'high risk pregnancy', 'leukoplakia', 'constrictive pericarditis', 'molluscum contagiosum', 'cavernous sinus thrombosis', 'Seasonal Affective Disorder', 'brachial neuritis', 'Cystic Fibrosis', 'tinea cruris', 'dwarfism', 'chondrodystrophy', 'hemoglobinuria', 'vascular headache', 'hypoparathyroidism', 'entropion', 'transurethral resection of the prostate', 'faecal impaction', 'decreased lacrimation', 'hematospermia', 'trifascicular block', 'meibomianitis', 'Pertussis', 'Osteogenesis Imperfecta', 'scleritis', 'renovascular hypertension', 'acute intermittent porphyria', 'oral neoplasm', 'IgA nephropathy', 'ephelides', 'testicular atrophy', 'vitamin B deficiency', 'HIV positive', 'vulvitis', 'mast cell disease', 'pyogenic granuloma', 'Haemophilia', 'rhabdomyosarcoma', 'choriocarcinoma', 'Oily Skin', 'encopresis', 'Tinea Capitis', 'hypospadias', 'eosinophilic pneumonia acute', 'infertility', 'genital herpes', 'orchiectomy', 'cataplexy', 'CYSTO', 'familial hypercholesterolemia', 'tetanus', 'parasitic infection intestinal', 'hemophilia B', 'allergic bronchitis', 'gonorrhea', 'Myringitis', 'otosclerosis', 'erythremia', 'Masculinization', 'penile discharge', 'hypochondriasis', 'renal agenesis', 'Typhoid', 'chorioretinitis', 'breast malformation', 'neurofibromatosis', 'rickets', 'supernumerary nipple', 'skin abrasion', 'cervical stenosis', 'urogenital abnormalities', 'traumatic amputation', 'sexually transmitted diseases', 'Herxheimer reaction', 'Vasomotor Rhinitis', 'corneal degeneration', 'corticosteroid therapy', 'Acromegaly', 'anthrax', 'septic abortion', 'anovulatory', 'bladder diverticulum', 'Rubella', 'splinter', 'hypogonadotropic hypogonadism', 'chloasma', 'estrogen replacement', 'rabies'])"
      ]
     },
     "execution_count": 61,
     "metadata": {},
     "output_type": "execute_result"
    }
   ],
   "source": [
    "config['metadata']['label_map']['TWOSIDES'].values()"
   ]
  },
  {
   "cell_type": "markdown",
   "metadata": {},
   "source": [
    "Since these labels suggest that 'TWOSIDES' denotes whether a external side effect exist while 'DrugBank' denotes the existance of a effect on the drug with the current medication both will be considered as seperate models"
   ]
  },
  {
   "cell_type": "code",
   "execution_count": 62,
   "metadata": {},
   "outputs": [
    {
     "name": "stdout",
     "output_type": "stream",
     "text": [
      "(18,) 0.9212974341786765 123698.0 673.0\n"
     ]
    },
    {
     "data": {
      "text/plain": [
       "<Axes: xlabel='Y'>"
      ]
     },
     "execution_count": 62,
     "metadata": {},
     "output_type": "execute_result"
    },
    {
     "data": {
      "image/png": "[encoded data removed]",
      "text/plain": [
       "<Figure size 640x480 with 1 Axes>"
      ]
     },
     "metadata": {},
     "output_type": "display_data"
    }
   ],
   "source": [
    "label_dist = config['dataset']['dataset_bank']['DrugBank'][\"train\"][\"Y\"].value_counts().sort_values(ascending=False)\n",
    "total_data = label_dist.sum()\n",
    "label_dist = label_dist/total_data\n",
    "label_dist = label_dist[label_dist>0.005]\n",
    "print(label_dist.shape, label_dist.sum(), label_dist.sum()*total_data, label_dist.min()*total_data)\n",
    "config[\"metadata\"][\"sel_labels\"][\"DrugBank\"] = label_dist.index.tolist()\n",
    "#bargraph of label distribution\n",
    "sns.barplot(x=label_dist.index, y=label_dist.values)"
   ]
  },
  {
   "cell_type": "code",
   "execution_count": 63,
   "metadata": {},
   "outputs": [
    {
     "name": "stdout",
     "output_type": "stream",
     "text": [
      "(26,) 0.12309896519059585 400638.99999999994 13062.0\n"
     ]
    },
    {
     "data": {
      "text/plain": [
       "<Axes: xlabel='Y'>"
      ]
     },
     "execution_count": 63,
     "metadata": {},
     "output_type": "execute_result"
    },
    {
     "data": {
      "image/png": "[encoded data removed]",
      "text/plain": [
       "<Figure size 640x480 with 1 Axes>"
      ]
     },
     "metadata": {},
     "output_type": "display_data"
    }
   ],
   "source": [
    "label_dist = config['dataset']['dataset_bank']['TWOSIDES'][\"train\"][\"Y\"].value_counts().sort_values(ascending=False)\n",
    "total_data = label_dist.sum()\n",
    "label_dist = label_dist/total_data\n",
    "label_dist = label_dist[label_dist>0.004]\n",
    "print(label_dist.shape, label_dist.sum(), label_dist.sum()*total_data, label_dist.min()*total_data)\n",
    "config[\"metadata\"][\"sel_labels\"][\"TWOSIDES\"] = label_dist.index.tolist()\n",
    "#bargraph of label distribution\n",
    "sns.barplot(x=label_dist.index, y=label_dist.values)"
   ]
  },
  {
   "cell_type": "code",
   "execution_count": 64,
   "metadata": {},
   "outputs": [],
   "source": [
    "config[\"dataset\"][\"dataset_bank\"][\"DrugBank\"][\"train\"] = config[\"dataset\"][\"dataset_bank\"][\"DrugBank\"][\"train\"].loc[config[\"dataset\"][\"dataset_bank\"][\"DrugBank\"][\"train\"][\"Y\"].isin(config[\"metadata\"][\"sel_labels\"][\"DrugBank\"])]\n",
    "config[\"dataset\"][\"dataset_bank\"][\"DrugBank\"][\"valid\"] = config[\"dataset\"][\"dataset_bank\"][\"DrugBank\"][\"valid\"].loc[config[\"dataset\"][\"dataset_bank\"][\"DrugBank\"][\"valid\"][\"Y\"].isin(config[\"metadata\"][\"sel_labels\"][\"DrugBank\"])]\n",
    "config[\"dataset\"][\"dataset_bank\"][\"DrugBank\"][\"test\"] = config[\"dataset\"][\"dataset_bank\"][\"DrugBank\"][\"test\"].loc[config[\"dataset\"][\"dataset_bank\"][\"DrugBank\"][\"test\"][\"Y\"].isin(config[\"metadata\"][\"sel_labels\"][\"DrugBank\"])]\n",
    "\n",
    "config[\"dataset\"][\"dataset_bank\"][\"TWOSIDES\"][\"train\"] = config[\"dataset\"][\"dataset_bank\"][\"TWOSIDES\"][\"train\"].loc[config[\"dataset\"][\"dataset_bank\"][\"TWOSIDES\"][\"train\"][\"Y\"].isin(config[\"metadata\"][\"sel_labels\"][\"TWOSIDES\"])]\n",
    "config[\"dataset\"][\"dataset_bank\"][\"TWOSIDES\"][\"valid\"] = config[\"dataset\"][\"dataset_bank\"][\"TWOSIDES\"][\"valid\"].loc[config[\"dataset\"][\"dataset_bank\"][\"TWOSIDES\"][\"valid\"][\"Y\"].isin(config[\"metadata\"][\"sel_labels\"][\"TWOSIDES\"])]\n",
    "config[\"dataset\"][\"dataset_bank\"][\"TWOSIDES\"][\"test\"] = config[\"dataset\"][\"dataset_bank\"][\"TWOSIDES\"][\"test\"].loc[config[\"dataset\"][\"dataset_bank\"][\"TWOSIDES\"][\"test\"][\"Y\"].isin(config[\"metadata\"][\"sel_labels\"][\"TWOSIDES\"])]"
   ]
  },
  {
   "cell_type": "code",
   "execution_count": 65,
   "metadata": {},
   "outputs": [
    {
     "name": "stderr",
     "output_type": "stream",
     "text": [
      "100%|██████████| 2/2 [00:00<00:00, 53430.62it/s]\n",
      "100%|██████████| 2/2 [00:00<00:00, 76959.71it/s]\n",
      "100%|██████████| 2/2 [00:00<00:00, 74235.47it/s]\n"
     ]
    }
   ],
   "source": [
    "train_dataset = pd.concat([d[\"train\"] for d in tqdm(config[\"dataset\"][\"dataset_bank\"].values())])\n",
    "valid_dataset = pd.concat([d[\"valid\"] for d in tqdm(config[\"dataset\"][\"dataset_bank\"].values())])\n",
    "test_dataset = pd.concat([d[\"test\"] for d in tqdm(config[\"dataset\"][\"dataset_bank\"].values())])"
   ]
  },
  {
   "cell_type": "code",
   "execution_count": 66,
   "metadata": {},
   "outputs": [],
   "source": [
    "train_dataset = train_dataset.groupby([\"Drug1\", \"Drug2\", \"ds_name\"]).agg({\n",
    "    'Drug1_ID': list,\n",
    "    'Y': list,\n",
    "    'Drug2_ID': list\n",
    "}).reset_index()\n",
    "\n",
    "valid_dataset = valid_dataset.groupby([\"Drug1\", \"Drug2\", \"ds_name\"]).agg({\n",
    "    'Drug1_ID': list,\n",
    "    'Y': list,\n",
    "    'Drug2_ID': list\n",
    "}).reset_index()\n",
    "\n",
    "test_dataset = test_dataset.groupby([\"Drug1\", \"Drug2\", \"ds_name\"]).agg({\n",
    "    'Drug1_ID': list,\n",
    "    'Y': list,\n",
    "    'Drug2_ID': list\n",
    "}).reset_index()"
   ]
  },
  {
   "cell_type": "code",
   "execution_count": 67,
   "metadata": {},
   "outputs": [
    {
     "data": {
      "text/html": [
       "<div>\n",
       "<style scoped>\n",
       "    .dataframe tbody tr th:only-of-type {\n",
       "        vertical-align: middle;\n",
       "    }\n",
       "\n",
       "    .dataframe tbody tr th {\n",
       "        vertical-align: top;\n",
       "    }\n",
       "\n",
       "    .dataframe thead th {\n",
       "        text-align: right;\n",
       "    }\n",
       "</style>\n",
       "<table border=\"1\" class=\"dataframe\">\n",
       "  <thead>\n",
       "    <tr style=\"text-align: right;\">\n",
       "      <th></th>\n",
       "      <th>Drug1</th>\n",
       "      <th>Drug2</th>\n",
       "      <th>ds_name</th>\n",
       "      <th>Drug1_ID</th>\n",
       "      <th>Y</th>\n",
       "      <th>Drug2_ID</th>\n",
       "    </tr>\n",
       "  </thead>\n",
       "  <tbody>\n",
       "    <tr>\n",
       "      <th>0</th>\n",
       "      <td>B(C(CC(C)C)NC(=O)C(CC1=CC=CC=C1)NC(=O)C2=NC=CN...</td>\n",
       "      <td>C(C1C(C(C(C(O1)OC2(C(C(C(O2)OS(=O)(=O)O)OS(=O)...</td>\n",
       "      <td>TWOSIDES</td>\n",
       "      <td>[CID000093860, CID000093860, CID000093860, CID...</td>\n",
       "      <td>[85, 37, 153, 600, 315, 692, 433, 243, 74, 238...</td>\n",
       "      <td>[CID006398525, CID006398525, CID006398525, CID...</td>\n",
       "    </tr>\n",
       "    <tr>\n",
       "      <th>1</th>\n",
       "      <td>B(C(CC(C)C)NC(=O)C(CC1=CC=CC=C1)NC(=O)C2=NC=CN...</td>\n",
       "      <td>C(N)(N)(Cl)Cl</td>\n",
       "      <td>TWOSIDES</td>\n",
       "      <td>[CID000093860, CID000093860, CID000093860, CID...</td>\n",
       "      <td>[85, 321, 444, 600, 756, 692, 315, 1221, 1, 15...</td>\n",
       "      <td>[CID005311048, CID005311048, CID005311048, CID...</td>\n",
       "    </tr>\n",
       "    <tr>\n",
       "      <th>2</th>\n",
       "      <td>B(C(CC(C)C)NC(=O)C(CC1=CC=CC=C1)NC(=O)C2=NC=CN...</td>\n",
       "      <td>C1=CC(=CC=C1C2C(C(=O)N2C3=CC=C(C=C3)F)CCC(C4=C...</td>\n",
       "      <td>TWOSIDES</td>\n",
       "      <td>[CID000093860, CID000093860, CID000093860, CID...</td>\n",
       "      <td>[216, 243, 153, 756, 315, 238, 600, 963, 464]</td>\n",
       "      <td>[CID000150311, CID000150311, CID000150311, CID...</td>\n",
       "    </tr>\n",
       "    <tr>\n",
       "      <th>3</th>\n",
       "      <td>B(C(CC(C)C)NC(=O)C(CC1=CC=CC=C1)NC(=O)C2=NC=CN...</td>\n",
       "      <td>C1C2CNCC1C3=CC4=NC=CN=C4C=C23</td>\n",
       "      <td>TWOSIDES</td>\n",
       "      <td>[CID000093860, CID000093860, CID000093860, CID...</td>\n",
       "      <td>[648, 85, 74, 50, 258]</td>\n",
       "      <td>[CID000170361, CID000170361, CID000170361, CID...</td>\n",
       "    </tr>\n",
       "    <tr>\n",
       "      <th>4</th>\n",
       "      <td>B(C(CC(C)C)NC(=O)C(CC1=CC=CC=C1)NC(=O)C2=NC=CN...</td>\n",
       "      <td>C1CC(=O)NC(=O)C1N2CC3=C(C2=O)C=CC=C3N</td>\n",
       "      <td>TWOSIDES</td>\n",
       "      <td>[CID000093860, CID000093860, CID000093860, CID...</td>\n",
       "      <td>[85, 321, 315, 37, 756, 50, 367]</td>\n",
       "      <td>[CID000216326, CID000216326, CID000216326, CID...</td>\n",
       "    </tr>\n",
       "  </tbody>\n",
       "</table>\n",
       "</div>"
      ],
      "text/plain": [
       "                                               Drug1  \\\n",
       "0  B(C(CC(C)C)NC(=O)C(CC1=CC=CC=C1)NC(=O)C2=NC=CN...   \n",
       "1  B(C(CC(C)C)NC(=O)C(CC1=CC=CC=C1)NC(=O)C2=NC=CN...   \n",
       "2  B(C(CC(C)C)NC(=O)C(CC1=CC=CC=C1)NC(=O)C2=NC=CN...   \n",
       "3  B(C(CC(C)C)NC(=O)C(CC1=CC=CC=C1)NC(=O)C2=NC=CN...   \n",
       "4  B(C(CC(C)C)NC(=O)C(CC1=CC=CC=C1)NC(=O)C2=NC=CN...   \n",
       "\n",
       "                                               Drug2   ds_name  \\\n",
       "0  C(C1C(C(C(C(O1)OC2(C(C(C(O2)OS(=O)(=O)O)OS(=O)...  TWOSIDES   \n",
       "1                                      C(N)(N)(Cl)Cl  TWOSIDES   \n",
       "2  C1=CC(=CC=C1C2C(C(=O)N2C3=CC=C(C=C3)F)CCC(C4=C...  TWOSIDES   \n",
       "3                      C1C2CNCC1C3=CC4=NC=CN=C4C=C23  TWOSIDES   \n",
       "4              C1CC(=O)NC(=O)C1N2CC3=C(C2=O)C=CC=C3N  TWOSIDES   \n",
       "\n",
       "                                            Drug1_ID  \\\n",
       "0  [CID000093860, CID000093860, CID000093860, CID...   \n",
       "1  [CID000093860, CID000093860, CID000093860, CID...   \n",
       "2  [CID000093860, CID000093860, CID000093860, CID...   \n",
       "3  [CID000093860, CID000093860, CID000093860, CID...   \n",
       "4  [CID000093860, CID000093860, CID000093860, CID...   \n",
       "\n",
       "                                                   Y  \\\n",
       "0  [85, 37, 153, 600, 315, 692, 433, 243, 74, 238...   \n",
       "1  [85, 321, 444, 600, 756, 692, 315, 1221, 1, 15...   \n",
       "2      [216, 243, 153, 756, 315, 238, 600, 963, 464]   \n",
       "3                             [648, 85, 74, 50, 258]   \n",
       "4                   [85, 321, 315, 37, 756, 50, 367]   \n",
       "\n",
       "                                            Drug2_ID  \n",
       "0  [CID006398525, CID006398525, CID006398525, CID...  \n",
       "1  [CID005311048, CID005311048, CID005311048, CID...  \n",
       "2  [CID000150311, CID000150311, CID000150311, CID...  \n",
       "3  [CID000170361, CID000170361, CID000170361, CID...  \n",
       "4  [CID000216326, CID000216326, CID000216326, CID...  "
      ]
     },
     "execution_count": 67,
     "metadata": {},
     "output_type": "execute_result"
    }
   ],
   "source": [
    "train_dataset.head()"
   ]
  },
  {
   "cell_type": "code",
   "execution_count": 68,
   "metadata": {},
   "outputs": [
    {
     "data": {
      "text/plain": [
       "((184736, 6),\n",
       " ds_name\n",
       " DrugBank    123570\n",
       " TWOSIDES     61166\n",
       " Name: count, dtype: int64)"
      ]
     },
     "execution_count": 68,
     "metadata": {},
     "output_type": "execute_result"
    }
   ],
   "source": [
    "train_dataset.shape, train_dataset[\"ds_name\"].value_counts()"
   ]
  },
  {
   "cell_type": "code",
   "execution_count": 69,
   "metadata": {},
   "outputs": [
    {
     "data": {
      "text/plain": [
       "<Axes: xlabel='Y'>"
      ]
     },
     "execution_count": 69,
     "metadata": {},
     "output_type": "execute_result"
    },
    {
     "data": {
      "image/png": "[encoded data removed]",
      "text/plain": [
       "<Figure size 640x480 with 1 Axes>"
      ]
     },
     "metadata": {},
     "output_type": "display_data"
    }
   ],
   "source": [
    "#draw a violin plot of the distributions of the len of the lists in \"Y\" column of train_dataset where ds_name = \"DrugBank\"\n",
    "sns.boxplot(x=train_dataset.loc[train_dataset[\"ds_name\"]==\"DrugBank\"][\"Y\"].apply(lambda x: len(x)))"
   ]
  },
  {
   "cell_type": "code",
   "execution_count": 70,
   "metadata": {},
   "outputs": [
    {
     "data": {
      "text/plain": [
       "<Axes: xlabel='Y'>"
      ]
     },
     "execution_count": 70,
     "metadata": {},
     "output_type": "execute_result"
    },
    {
     "data": {
      "image/png": "[encoded data removed]",
      "text/plain": [
       "<Figure size 640x480 with 1 Axes>"
      ]
     },
     "metadata": {},
     "output_type": "display_data"
    }
   ],
   "source": [
    "#draw a violin plot of the distributions of the len of the lists in \"Y\" column of train_dataset where ds_name = \"DrugBank\"\n",
    "sns.boxplot(x=train_dataset.loc[train_dataset[\"ds_name\"]==\"TWOSIDES\"][\"Y\"].apply(lambda x: len(x)))"
   ]
  },
  {
   "cell_type": "code",
   "execution_count": 71,
   "metadata": {},
   "outputs": [],
   "source": [
    "### Individual Data Analysis"
   ]
  },
  {
   "cell_type": "code",
   "execution_count": 72,
   "metadata": {},
   "outputs": [],
   "source": [
    "processed_dir = \"processed_data\"\n",
    "os.makedirs(processed_dir, exist_ok=True)\n",
    "train_dataset.to_csv(f\"{processed_dir}/train.csv\", index=False)\n",
    "valid_dataset.to_csv(f\"{processed_dir}/valid.csv\", index=False)\n",
    "test_dataset.to_csv(f\"{processed_dir}/test.csv\", index=False)\n",
    "\n",
    "with open(f\"{processed_dir}/config.pkl\", \"wb\") as f:\n",
    "    pickle.dump(config[\"metadata\"], f)\n"
   ]
  },
  {
   "cell_type": "code",
   "execution_count": null,
   "metadata": {},
   "outputs": [],
   "source": []
  }
 ],
 "metadata": {
  "kernelspec": {
   "display_name": "Python 3",
   "language": "python",
   "name": "python3"
  },
  "language_info": {
   "codemirror_mode": {
    "name": "ipython",
    "version": 3
   },
   "file_extension": ".py",
   "mimetype": "text/x-python",
   "name": "python",
   "nbconvert_exporter": "python",
   "pygments_lexer": "ipython3",
   "version": "3.11.10"
  }
 },
 "nbformat": 4,
 "nbformat_minor": 2
}
