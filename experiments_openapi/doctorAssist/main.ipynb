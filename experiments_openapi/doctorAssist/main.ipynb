{
 "cells": [
  {
   "cell_type": "code",
   "execution_count": 4,
   "metadata": {},
   "outputs": [
    {
     "name": "stdout",
     "output_type": "stream",
     "text": [
      "/home/desild/Research/Tx-LLM-A-Large-Language-Model-for-Therapeutics/experiments_openapi/doctorAssist is already in the Python path.\n"
     ]
    }
   ],
   "source": [
    "import os, sys\n",
    "import warnings\n",
    "warnings.filterwarnings(\"ignore\")\n",
    "\n",
    "os.environ[\"CUDA_VISIBLE_DEVICES\"] = \"2\"\n",
    "\n",
    "def add_current_directory_to_path():\n",
    "    current_directory = os.getcwd()\n",
    "    if current_directory not in sys.path:\n",
    "        sys.path.append(current_directory)\n",
    "        print(f\"Added {current_directory} to Python path.\")\n",
    "    else:\n",
    "        print(f\"{current_directory} is already in the Python path.\")\n",
    "        \n",
    "def write_to_file(file_path, content):\n",
    "    with open(file_path, \"w\") as f:\n",
    "        f.write(content)\n",
    "        print(f\"Written to {file_path}\")\n",
    "        \n",
    "add_current_directory_to_path()\n",
    "\n",
    "config = {\n",
    "    \"device\": \"cuda:3\",\n",
    "    }"
   ]
  },
  {
   "cell_type": "code",
   "execution_count": 5,
   "metadata": {},
   "outputs": [],
   "source": [
    "\n",
    "default_prompt = \"\"\"\n",
    "Is Warfarin an effective and safe treatment option for a patient experiencing Atrial Fibrillation, considering its potential benefits and risks in managing their condition?\n",
    "\n",
    "Patient Profile:\n",
    "Age: 70\n",
    "Current Diseases:\n",
    "Type 2 Diabetes\n",
    "Chronic Kidney Disease (Stage 3)\n",
    "Current Medications:\n",
    "Metformin\n",
    "Amlodipine\n",
    "\n",
    "\"\"\""
   ]
  },
  {
   "cell_type": "code",
   "execution_count": 6,
   "metadata": {},
   "outputs": [
    {
     "name": "stderr",
     "output_type": "stream",
     "text": [
      "Some weights of EsmForSequenceClassification were not initialized from the model checkpoint at facebook/esm2_t6_8M_UR50D and are newly initialized: ['classifier.dense.bias', 'classifier.dense.weight', 'classifier.out_proj.bias', 'classifier.out_proj.weight']\n",
      "You should probably TRAIN this model on a down-stream task to be able to use it for predictions and inference.\n",
      "Some weights of EsmForSequenceClassification were not initialized from the model checkpoint at facebook/esm2_t6_8M_UR50D and are newly initialized: ['classifier.dense.bias', 'classifier.dense.weight', 'classifier.out_proj.bias', 'classifier.out_proj.weight']\n",
      "You should probably TRAIN this model on a down-stream task to be able to use it for predictions and inference.\n"
     ]
    },
    {
     "name": "stdout",
     "output_type": "stream",
     "text": [
      "Similar Name: atrial fibrillation -> atrial fibrillation, levenshtein distance: 0\n"
     ]
    },
    {
     "name": "stderr",
     "output_type": "stream",
     "text": [
      "Some weights of EsmForSequenceClassification were not initialized from the model checkpoint at facebook/esm2_t6_8M_UR50D and are newly initialized: ['classifier.dense.bias', 'classifier.dense.weight', 'classifier.out_proj.bias', 'classifier.out_proj.weight']\n",
      "You should probably TRAIN this model on a down-stream task to be able to use it for predictions and inference.\n"
     ]
    },
    {
     "name": "stdout",
     "output_type": "stream",
     "text": [
      "Written to results.txt\n"
     ]
    }
   ],
   "source": [
    "from agent.planner_agent import Planner, DecompositionAgent\n",
    "\n",
    "planner = Planner(config=config)\n",
    "\n",
    "results = planner.process(default_prompt)\n",
    "write_to_file(\"results.txt\", \"%prompt% \\n {} \\n\\n%Answer% \\n {}\".format(default_prompt, results))"
   ]
  },
  {
   "cell_type": "code",
   "execution_count": null,
   "metadata": {},
   "outputs": [],
   "source": []
  }
 ],
 "metadata": {
  "kernelspec": {
   "display_name": "Python 3",
   "language": "python",
   "name": "python3"
  },
  "language_info": {
   "codemirror_mode": {
    "name": "ipython",
    "version": 3
   },
   "file_extension": ".py",
   "mimetype": "text/x-python",
   "name": "python",
   "nbconvert_exporter": "python",
   "pygments_lexer": "ipython3",
   "version": "3.11.10"
  }
 },
 "nbformat": 4,
 "nbformat_minor": 2
}
