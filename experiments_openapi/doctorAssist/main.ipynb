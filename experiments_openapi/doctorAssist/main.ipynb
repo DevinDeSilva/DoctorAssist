{
 "cells": [
  {
   "cell_type": "code",
   "execution_count": 1,
   "metadata": {},
   "outputs": [],
   "source": [
    "\n",
    "default_prompt = \"\"\"\n",
    "The patient is experiencing osteoarthritis will the use of Ibuprofen be effictive against him: \n",
    "\n",
    "Patient Profile:\n",
    "    Age: 56\n",
    "\n",
    "    Current Diseases:\n",
    "        Type 2 Diabetes\n",
    "        Hypertension\n",
    "        Chronic Kidney Disease (Stage 2) \n",
    "        \n",
    "    Current Medications:\n",
    "        Metformin (for diabetes)\n",
    "        Lisinopril (for hypertension)\n",
    "        Atorvastatin (for high cholesterol)\n",
    "\"\"\""
   ]
  },
  {
   "cell_type": "code",
   "execution_count": 2,
   "metadata": {},
   "outputs": [],
   "source": [
    "\n",
    "template_prompt = \"\"\"\n",
    "The patient is experiencing ['disease'] will the use of ['drug'] be effictive against him: \n",
    "\n",
    "Patient Profile:\n",
    "    Age: ['age']\n",
    "\n",
    "    Current Diseases:\n",
    "        [['list of diseases']] \n",
    "        \n",
    "    Current Medications:\n",
    "        [['list of medication']] \n",
    "\"\"\""
   ]
  },
  {
   "cell_type": "code",
   "execution_count": 3,
   "metadata": {},
   "outputs": [],
   "source": [
    "config = {\n",
    "    \"agent\":{\n",
    "        \"toxicity\":{\n",
    "            \"type\": \"function\",\n",
    "            \"function\": {\n",
    "                \"name\": \"toxicity_agent\",\n",
    "                \"description\": \"To understand the safety of the drug, including toxicity and side effects, consult the Safety Agent for safety information. Given drug name, return the safety information of the drug, e.g. drug introduction, toxicity and side effects etc.\",\n",
    "                \"parameters\": {\n",
    "                    \"type\": \"object\",\n",
    "                    \"properties\": {\n",
    "                        \"drug_name\": {\n",
    "                            \"type\": \"string\",\n",
    "                            \"description\": \"The drug name\",\n",
    "                       }\n",
    "                    },\n",
    "                    \"required\": [\"drug_name\"],\n",
    "                },\n",
    "            }\n",
    "        },\n",
    "        \n",
    "        \"efficacy\":{\n",
    "            \"type\": \"function\",\n",
    "            \"function\": {\n",
    "                \"name\": \"efficacy_agent\",\n",
    "                \"description\": \"To assess the drug's efficacy against the diseases, ask the Efficacy Agent for information regarding the drug's effectiveness on the disease. Given drug name and disease name, return the drug introduction, disease introduction, and the path between drug and disease in the hetionet knowledge graph etc.\",\n",
    "                \"parameters\": {\n",
    "                    \"type\": \"object\",\n",
    "                    \"properties\": {\n",
    "                        \"drug_name\": {\n",
    "                            \"type\": \"string\",\n",
    "                            \"description\": \"The drug name\",\n",
    "                        },\n",
    "                        \"disease_name\": {\n",
    "                            \"type\": \"string\",\n",
    "                            \"description\": \"The disease name\",\n",
    "                        }\n",
    "                    },\n",
    "                    \"required\": [\"drug_name\", \"disease_name\"],\n",
    "                },\n",
    "            }\n",
    "        },\n",
    "        \n",
    "        \n",
    "        \"drug_disease_agent\":{\n",
    "            \"type\": \"function\",\n",
    "            \"function\": {\n",
    "                \"name\": \"drug_disease_agent\",\n",
    "                \"description\": \"To understand the negative effects of the drug with the Current Diseases that is stated in Patient Profile\",\n",
    "                \"parameters\": {\n",
    "                    \"type\": \"object\",\n",
    "                    \"properties\": {\n",
    "                        \"drug_name\": {\n",
    "                            \"type\": \"string\",\n",
    "                            \"description\": \"The drug name\",\n",
    "                        },\n",
    "                        \n",
    "                        \"current_diseases\": {\n",
    "                            \"type\": \"string\",\n",
    "                            \"description\": \"The current diseases the person has\",\n",
    "                        }\n",
    "                    },\n",
    "                    \"required\": [\"drug_name\", \"current_diseases\"],\n",
    "                },\n",
    "            }\n",
    "        },\n",
    "        \n",
    "        \"drug_medication_agent\":{\n",
    "            \"type\": \"function\",\n",
    "            \"function\": {\n",
    "                \"name\": \"drug_medication_agent\",\n",
    "                \"description\": \"To understand the negative effects of the drug with the Current Medications that is stated in Patient Profile\",\n",
    "                \"parameters\": {\n",
    "                    \"type\": \"object\",\n",
    "                    \"properties\": {\n",
    "                        \"drug_name\": {\n",
    "                            \"type\": \"string\",\n",
    "                            \"description\": \"The drug name\",\n",
    "                        },\n",
    "                        \n",
    "                        \"current_medications\": {\n",
    "                            \"type\": \"string\",\n",
    "                            \"description\": \"The current prescribed medication\",\n",
    "                        }\n",
    "                    },\n",
    "                    \"required\": [\"drug_name\", \"current_medications\"],\n",
    "                },\n",
    "            }\n",
    "        },\n",
    "        \n",
    "        }\n",
    "    \n",
    "    }"
   ]
  },
  {
   "cell_type": "code",
   "execution_count": 4,
   "metadata": {},
   "outputs": [],
   "source": [
    "import sys\n",
    "import os\n",
    "\n",
    "\n",
    "def add_current_directory_to_path():\n",
    "    current_directory = os.getcwd()\n",
    "    if current_directory not in sys.path:\n",
    "        sys.path.append(current_directory)\n",
    "        print(f\"Added {current_directory} to Python path.\")\n",
    "    else:\n",
    "        print(f\"{current_directory} is already in the Python path.\")"
   ]
  },
  {
   "cell_type": "code",
   "execution_count": 5,
   "metadata": {},
   "outputs": [
    {
     "name": "stdout",
     "output_type": "stream",
     "text": [
      "Added /home/desild/Research/Tx-LLM-A-Large-Language-Model-for-Therapeutics/experiments_openapi/doctorAssist to Python path.\n"
     ]
    }
   ],
   "source": [
    "add_current_directory_to_path()"
   ]
  },
  {
   "cell_type": "code",
   "execution_count": null,
   "metadata": {},
   "outputs": [
    {
     "name": "stdout",
     "output_type": "stream",
     "text": [
      "[Action] Function calling...\n",
      "[Action] Function calling...\n",
      "[Action] Function calling...\n",
      "[Action] Function calling...\n"
     ]
    }
   ],
   "source": [
    "from agent.planner import Planner, DecompositionAgent\n",
    "\n",
    "decom = DecompositionAgent(\n",
    "    config=config,\n",
    "    )\n",
    "\n",
    "sub_problems = decom.process(default_prompt) \n",
    "\n",
    "planner = Planner(config=config)\n",
    "\n",
    "results = planner.process(sub_problems, default_prompt)"
   ]
  },
  {
   "cell_type": "code",
   "execution_count": 7,
   "metadata": {},
   "outputs": [
    {
     "name": "stdout",
     "output_type": "stream",
     "text": [
      "To analyze the user's problem regarding the effectiveness of Ibuprofen for a patient with osteoarthritis, we need to consider several factors based on the patient profile and the sub-solutions already calculated.\n",
      "\n",
      "1. **Efficacy of Ibuprofen**: The subproblem indicates an overall efficacy of 0.4276, which suggests that there is a moderate chance that Ibuprofen can effectively alleviate symptoms of osteoarthritis. However, this isn't particularly high, implying some limitations in its effectiveness for this specific patient.\n",
      "\n",
      "2. **Toxicity**: A toxicity score of 0.5479 indicates a moderate likelihood of adverse effects from Ibuprofen. Given that the patient has additional health concerns (specifically chronic kidney disease), the risk of worsening kidney function or other toxicities could be a significant concern.\n",
      "\n",
      "3. **Interaction with Osteoarthritis**: The score of 0.0882 indicates that Ibuprofen does not target the mechanisms of osteoarthritis effectively. This suggests that there might be better-suited alternatives available for this condition.\n",
      "\n",
      "4. **Drug-Medication Interaction**: With a score of 0.3064, this suggests that there’s a substantial probability of interaction between Ibuprofen and the patient’s current medications (like Metformin and Lisinopril) that could lead to adverse effects or decreased effectiveness of either the Ibuprofen or the current medications.\n",
      "\n",
      "Based on these analyses, the probability of Ibuprofen being effective against the patient's osteoarthritis while keeping the risks and interactions in check is not favorable.\n",
      "\n",
      "Thus, the final result is that while there is some probability that Ibuprofen could work, given the patient's health profile and the risk factors involved, it is not advisable.\n",
      "\n",
      "The overall assessment leads to the conclusion: The probability of the drug being effective against osteoarthritis with manageable adverse effects to the patient is quite low.<final_result>0.20</final_result>.\n"
     ]
    }
   ],
   "source": [
    "print(results)"
   ]
  },
  {
   "cell_type": "code",
   "execution_count": null,
   "metadata": {},
   "outputs": [],
   "source": []
  }
 ],
 "metadata": {
  "kernelspec": {
   "display_name": "Python 3",
   "language": "python",
   "name": "python3"
  },
  "language_info": {
   "codemirror_mode": {
    "name": "ipython",
    "version": 3
   },
   "file_extension": ".py",
   "mimetype": "text/x-python",
   "name": "python",
   "nbconvert_exporter": "python",
   "pygments_lexer": "ipython3",
   "version": "3.11.10"
  }
 },
 "nbformat": 4,
 "nbformat_minor": 2
}
