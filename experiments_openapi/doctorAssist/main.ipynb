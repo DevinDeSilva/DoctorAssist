{
 "cells": [
  {
   "cell_type": "code",
   "execution_count": 15,
   "metadata": {},
   "outputs": [],
   "source": [
    "\n",
    "default_prompt = \"\"\"\n",
    "The patient is experiencing osteoarthritis will the use of Ibuprofen be effictive against him: \n",
    "\n",
    "Patient Profile:\n",
    "    Age: 56\n",
    "\n",
    "    Current Diseases:\n",
    "        Type 2 Diabetes\n",
    "        Hypertension\n",
    "        Chronic Kidney Disease (Stage 2) \n",
    "        \n",
    "    Current Medications:\n",
    "        Metformin (for diabetes)\n",
    "        Lisinopril (for hypertension)\n",
    "        Atorvastatin (for high cholesterol)\n",
    "\"\"\""
   ]
  },
  {
   "cell_type": "code",
   "execution_count": 16,
   "metadata": {},
   "outputs": [],
   "source": [
    "\n",
    "template_prompt = \"\"\"\n",
    "The patient is experiencing ['disease'] will the use of ['drug'] be effictive against him: \n",
    "\n",
    "Patient Profile:\n",
    "    Age: ['age']\n",
    "\n",
    "    Current Diseases:\n",
    "        [['list of diseases']] \n",
    "        \n",
    "    Current Medications:\n",
    "        [['list of medication']] \n",
    "\"\"\""
   ]
  },
  {
   "cell_type": "code",
   "execution_count": 17,
   "metadata": {},
   "outputs": [],
   "source": [
    "config = {\n",
    "    \"agent\":{\n",
    "#        \"toxicity\":{\n",
    "#            \"type\": \"function\",\n",
    "#            \"function\": {\n",
    "#                \"name\": \"toxicity_agent\",\n",
    "#                \"description\": \"To understand the safety of the drug, including toxicity and side effects, consult the Safety Agent for safety information. Given drug name, return the safety information of the drug, e.g. drug introduction, toxicity and side effects etc.\",\n",
    "#                \"parameters\": {\n",
    "#                    \"type\": \"object\",\n",
    "#                    \"properties\": {\n",
    "#                        \"drug_name\": {\n",
    "#                            \"type\": \"string\",\n",
    "#                            \"description\": \"The drug name\",\n",
    "#                       }\n",
    "#                    },\n",
    "#                    \"required\": [\"drug_name\"],\n",
    "#                },\n",
    "#            }\n",
    "#        },\n",
    "        \n",
    "        \"efficacy\":{\n",
    "            \"type\": \"function\",\n",
    "            \"function\": {\n",
    "                \"name\": \"efficacy_agent\",\n",
    "                \"description\": \"To assess the drug's efficacy against the diseases, ask the Efficacy Agent for information regarding the drug's effectiveness on the disease. Given drug name and disease name, return the drug introduction, disease introduction, and the path between drug and disease in the hetionet knowledge graph etc.\",\n",
    "                \"parameters\": {\n",
    "                    \"type\": \"object\",\n",
    "                    \"properties\": {\n",
    "                        \"drug_name\": {\n",
    "                            \"type\": \"string\",\n",
    "                            \"description\": \"The drug name\",\n",
    "                        },\n",
    "                        \"disease_name\": {\n",
    "                            \"type\": \"string\",\n",
    "                            \"description\": \"The disease name\",\n",
    "                        }\n",
    "                    },\n",
    "                    \"required\": [\"drug_name\", \"disease_name\"],\n",
    "                },\n",
    "            }\n",
    "        },\n",
    "        \n",
    "        \n",
    "#        \"interaction\":{\n",
    "#            \"type\": \"function\",\n",
    "#            \"function\": {\n",
    "#                \"name\": \"interaction_agent\",\n",
    "#                \"description\": \"To understand the interation of the drug with the drugs that the patient is aready taking \",\n",
    "#                \"parameters\": {\n",
    "#                    \"type\": \"object\",\n",
    "#                    \"properties\": {\n",
    "#                        \"drug_name\": {\n",
    "#                            \"type\": \"string\",\n",
    "#                            \"description\": \"The drug name\",\n",
    "#                        }\n",
    "#                    },\n",
    "#                    \"required\": [\"drug_name\"],\n",
    "#                },\n",
    "#            }\n",
    "#        },\n",
    "        \n",
    "        }\n",
    "    \n",
    "    }"
   ]
  },
  {
   "cell_type": "code",
   "execution_count": 18,
   "metadata": {},
   "outputs": [],
   "source": [
    "import sys\n",
    "import os\n",
    "\n",
    "\n",
    "def add_current_directory_to_path():\n",
    "    current_directory = os.getcwd()\n",
    "    if current_directory not in sys.path:\n",
    "        sys.path.append(current_directory)\n",
    "        print(f\"Added {current_directory} to Python path.\")\n",
    "    else:\n",
    "        print(f\"{current_directory} is already in the Python path.\")"
   ]
  },
  {
   "cell_type": "code",
   "execution_count": 19,
   "metadata": {},
   "outputs": [
    {
     "name": "stdout",
     "output_type": "stream",
     "text": [
      "/home/desild/Research/Tx-LLM-A-Large-Language-Model-for-Therapeutics/experiments_openapi/doctorAssist is already in the Python path.\n"
     ]
    }
   ],
   "source": [
    "add_current_directory_to_path()"
   ]
  },
  {
   "cell_type": "code",
   "execution_count": 20,
   "metadata": {},
   "outputs": [],
   "source": [
    "from agent.planner import Planner\n",
    "\n",
    "planner = Planner(\n",
    "    agent_tools=[config[\"agent\"][\"efficacy\"]],\n",
    "    config=config,\n",
    "    )"
   ]
  },
  {
   "cell_type": "code",
   "execution_count": 21,
   "metadata": {},
   "outputs": [],
   "source": [
    "results = planner.process(default_prompt)"
   ]
  },
  {
   "cell_type": "code",
   "execution_count": 23,
   "metadata": {},
   "outputs": [
    {
     "data": {
      "text/plain": [
       "[Choice(finish_reason='stop', index=0, logprobs=None, message=ChatCompletionMessage(content=\"To assess whether Ibuprofen will be effective against osteoarthritis for this patient, we can break down the problem into the following subproblems:\\n\\n1. **Evaluate Drug Efficacy**: Determine the efficacy of Ibuprofen specifically for osteoarthritis.\\n   - Utilize the efficacy agent tool to gather information on how effective Ibuprofen is in treating osteoarthritis.\\n\\n2. **Assess Interaction with Current Diseases**: Examine how Ibuprofen interacts with the patient's existing conditions, particularly focusing on:\\n   - Effects on Chronic Kidney Disease (Stage 2), as NSAIDs like Ibuprofen can potentially exacerbate kidney issues.\\n   - Any impact on Type 2 Diabetes and Hypertension.\\n\\n3. **Review Current Medications**: Analyze potential interactions between Ibuprofen and the patient's current medications (Metformin, Lisinopril, Atorvastatin).\\n   - Identify if there are any known interactions that could lead to adverse effects or diminished efficacy.\\n\\n4. **Consider Patient Demographics**: Evaluate whether the patient's age (56 years) influences the decision to use Ibuprofen for treating osteoarthritis.\\n   - Investigate any age-related considerations that could impact the safety or effectiveness of Ibuprofen.\\n\\n5. **Monitor for Side Effects**: Determine common side effects of Ibuprofen that could be problematic for a patient with this profile.\\n   - Assess risks particularly related to the patient's chronic conditions and current medications.\\n\\nEach of these subproblems can be addressed individually to obtain a comprehensive understanding of the appropriateness of Ibuprofen for this patient experiencing osteoarthritis.\", refusal=None, role='assistant', audio=None, function_call=None, tool_calls=None))]"
      ]
     },
     "execution_count": 23,
     "metadata": {},
     "output_type": "execute_result"
    }
   ],
   "source": [
    "results.choices"
   ]
  },
  {
   "cell_type": "code",
   "execution_count": 26,
   "metadata": {},
   "outputs": [
    {
     "name": "stdout",
     "output_type": "stream",
     "text": [
      "To assess whether Ibuprofen will be effective against osteoarthritis for this patient, we can break down the problem into the following subproblems:\n",
      "\n",
      "1. **Evaluate Drug Efficacy**: Determine the efficacy of Ibuprofen specifically for osteoarthritis.\n",
      "   - Utilize the efficacy agent tool to gather information on how effective Ibuprofen is in treating osteoarthritis.\n",
      "\n",
      "2. **Assess Interaction with Current Diseases**: Examine how Ibuprofen interacts with the patient's existing conditions, particularly focusing on:\n",
      "   - Effects on Chronic Kidney Disease (Stage 2), as NSAIDs like Ibuprofen can potentially exacerbate kidney issues.\n",
      "   - Any impact on Type 2 Diabetes and Hypertension.\n",
      "\n",
      "3. **Review Current Medications**: Analyze potential interactions between Ibuprofen and the patient's current medications (Metformin, Lisinopril, Atorvastatin).\n",
      "   - Identify if there are any known interactions that could lead to adverse effects or diminished efficacy.\n",
      "\n",
      "4. **Consider Patient Demographics**: Evaluate whether the patient's age (56 years) influences the decision to use Ibuprofen for treating osteoarthritis.\n",
      "   - Investigate any age-related considerations that could impact the safety or effectiveness of Ibuprofen.\n",
      "\n",
      "5. **Monitor for Side Effects**: Determine common side effects of Ibuprofen that could be problematic for a patient with this profile.\n",
      "   - Assess risks particularly related to the patient's chronic conditions and current medications.\n",
      "\n",
      "Each of these subproblems can be addressed individually to obtain a comprehensive understanding of the appropriateness of Ibuprofen for this patient experiencing osteoarthritis.\n"
     ]
    }
   ],
   "source": [
    "for choice in results.choices:\n",
    "    print(choice.message.content)"
   ]
  },
  {
   "cell_type": "code",
   "execution_count": null,
   "metadata": {},
   "outputs": [],
   "source": []
  }
 ],
 "metadata": {
  "kernelspec": {
   "display_name": "Python 3",
   "language": "python",
   "name": "python3"
  },
  "language_info": {
   "codemirror_mode": {
    "name": "ipython",
    "version": 3
   },
   "file_extension": ".py",
   "mimetype": "text/x-python",
   "name": "python",
   "nbconvert_exporter": "python",
   "pygments_lexer": "ipython3",
   "version": "3.11.10"
  }
 },
 "nbformat": 4,
 "nbformat_minor": 2
}
