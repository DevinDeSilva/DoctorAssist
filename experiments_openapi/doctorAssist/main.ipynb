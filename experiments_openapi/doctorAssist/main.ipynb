{
 "cells": [
  {
   "cell_type": "code",
   "execution_count": 1,
   "metadata": {},
   "outputs": [],
   "source": [
    "\n",
    "default_prompt = \"\"\"\n",
    "The patient is experiencing osteoarthritis will the use of Ibuprofen be effictive against him: \n",
    "\n",
    "Patient Profile:\n",
    "    Age: 56\n",
    "\n",
    "    Current Diseases:\n",
    "        Type 2 Diabetes\n",
    "        Hypertension\n",
    "        Chronic Kidney Disease (Stage 2) \n",
    "        \n",
    "    Current Medications:\n",
    "        Metformin (for diabetes)\n",
    "        Lisinopril (for hypertension)\n",
    "        Atorvastatin (for high cholesterol)\n",
    "\"\"\""
   ]
  },
  {
   "cell_type": "code",
   "execution_count": 2,
   "metadata": {},
   "outputs": [],
   "source": [
    "\n",
    "template_prompt = \"\"\"\n",
    "The patient is experiencing ['disease'] will the use of ['drug'] be effictive against him: \n",
    "\n",
    "Patient Profile:\n",
    "    Age: ['age']\n",
    "\n",
    "    Current Diseases:\n",
    "        [['list of diseases']] \n",
    "        \n",
    "    Current Medications:\n",
    "        [['list of medication']] \n",
    "\"\"\""
   ]
  },
  {
   "cell_type": "code",
   "execution_count": 3,
   "metadata": {},
   "outputs": [],
   "source": [
    "config = {\n",
    "    \"agent\":{\n",
    "        \"toxicity\":{\n",
    "            \"type\": \"function\",\n",
    "            \"function\": {\n",
    "                \"name\": \"toxicity_agent\",\n",
    "                \"description\": \"To understand the safety of the drug, including toxicity and side effects, consult the Safety Agent for safety information. Given drug name, return the safety information of the drug, e.g. drug introduction, toxicity and side effects etc.\",\n",
    "                \"parameters\": {\n",
    "                    \"type\": \"object\",\n",
    "                    \"properties\": {\n",
    "                        \"drug_name\": {\n",
    "                            \"type\": \"string\",\n",
    "                            \"description\": \"The drug name\",\n",
    "                       }\n",
    "                    },\n",
    "                    \"required\": [\"drug_name\"],\n",
    "                },\n",
    "            }\n",
    "        },\n",
    "        \n",
    "        \"efficacy\":{\n",
    "            \"type\": \"function\",\n",
    "            \"function\": {\n",
    "                \"name\": \"efficacy_agent\",\n",
    "                \"description\": \"To assess the drug's efficacy against the diseases, ask the Efficacy Agent for information regarding the drug's effectiveness on the disease. Given drug name and disease name, return the drug introduction, disease introduction, and the path between drug and disease in the hetionet knowledge graph etc.\",\n",
    "                \"parameters\": {\n",
    "                    \"type\": \"object\",\n",
    "                    \"properties\": {\n",
    "                        \"drug_name\": {\n",
    "                            \"type\": \"string\",\n",
    "                            \"description\": \"The drug name\",\n",
    "                        },\n",
    "                        \"disease_name\": {\n",
    "                            \"type\": \"string\",\n",
    "                            \"description\": \"The disease name\",\n",
    "                        }\n",
    "                    },\n",
    "                    \"required\": [\"drug_name\", \"disease_name\"],\n",
    "                },\n",
    "            }\n",
    "        },\n",
    "        \n",
    "        \n",
    "        \"drug_disease_agent\":{\n",
    "            \"type\": \"function\",\n",
    "            \"function\": {\n",
    "                \"name\": \"drug_disease_agent\",\n",
    "                \"description\": \"To understand the negative effects of the drug with the Current Diseases that is stated in Patient Profile\",\n",
    "                \"parameters\": {\n",
    "                    \"type\": \"object\",\n",
    "                    \"properties\": {\n",
    "                        \"drug_name\": {\n",
    "                            \"type\": \"string\",\n",
    "                            \"description\": \"The drug name\",\n",
    "                        },\n",
    "                        \n",
    "                        \"current_diseases\": {\n",
    "                            \"type\": \"string\",\n",
    "                            \"description\": \"The current diseases the person has\",\n",
    "                        }\n",
    "                    },\n",
    "                    \"required\": [\"drug_name\", \"current_diseases\"],\n",
    "                },\n",
    "            }\n",
    "        },\n",
    "        \n",
    "        \"drug_medication_agent\":{\n",
    "            \"type\": \"function\",\n",
    "            \"function\": {\n",
    "                \"name\": \"drug_medication_agent\",\n",
    "                \"description\": \"To understand the negative effects of the drug with the Current Medications that is stated in Patient Profile\",\n",
    "                \"parameters\": {\n",
    "                    \"type\": \"object\",\n",
    "                    \"properties\": {\n",
    "                        \"drug_name\": {\n",
    "                            \"type\": \"string\",\n",
    "                            \"description\": \"The drug name\",\n",
    "                        },\n",
    "                        \n",
    "                        \"current_medications\": {\n",
    "                            \"type\": \"string\",\n",
    "                            \"description\": \"The current prescribed medication\",\n",
    "                        }\n",
    "                    },\n",
    "                    \"required\": [\"drug_name\", \"current_medications\"],\n",
    "                },\n",
    "            }\n",
    "        },\n",
    "        \n",
    "        }\n",
    "    \n",
    "    }"
   ]
  },
  {
   "cell_type": "code",
   "execution_count": 4,
   "metadata": {},
   "outputs": [],
   "source": [
    "import sys\n",
    "import os\n",
    "\n",
    "\n",
    "def add_current_directory_to_path():\n",
    "    current_directory = os.getcwd()\n",
    "    if current_directory not in sys.path:\n",
    "        sys.path.append(current_directory)\n",
    "        print(f\"Added {current_directory} to Python path.\")\n",
    "    else:\n",
    "        print(f\"{current_directory} is already in the Python path.\")"
   ]
  },
  {
   "cell_type": "code",
   "execution_count": 5,
   "metadata": {},
   "outputs": [
    {
     "name": "stdout",
     "output_type": "stream",
     "text": [
      "Added /home/desild/Research/Tx-LLM-A-Large-Language-Model-for-Therapeutics/experiments_openapi/doctorAssist to Python path.\n"
     ]
    }
   ],
   "source": [
    "add_current_directory_to_path()"
   ]
  },
  {
   "cell_type": "code",
   "execution_count": 6,
   "metadata": {},
   "outputs": [
    {
     "ename": "TypeError",
     "evalue": "Planner.__init__() got an unexpected keyword argument 'agent_tools'",
     "output_type": "error",
     "traceback": [
      "\u001b[0;31m---------------------------------------------------------------------------\u001b[0m",
      "\u001b[0;31mTypeError\u001b[0m                                 Traceback (most recent call last)",
      "Cell \u001b[0;32mIn[6], line 3\u001b[0m\n\u001b[1;32m      1\u001b[0m \u001b[38;5;28;01mfrom\u001b[39;00m \u001b[38;5;21;01magent\u001b[39;00m\u001b[38;5;21;01m.\u001b[39;00m\u001b[38;5;21;01mplanner\u001b[39;00m \u001b[38;5;28;01mimport\u001b[39;00m Planner\n\u001b[0;32m----> 3\u001b[0m planner \u001b[38;5;241m=\u001b[39m \u001b[43mPlanner\u001b[49m\u001b[43m(\u001b[49m\n\u001b[1;32m      4\u001b[0m \u001b[43m    \u001b[49m\u001b[43magent_tools\u001b[49m\u001b[38;5;241;43m=\u001b[39;49m\u001b[43m[\u001b[49m\n\u001b[1;32m      5\u001b[0m \u001b[43m        \u001b[49m\u001b[43mconfig\u001b[49m\u001b[43m[\u001b[49m\u001b[38;5;124;43m\"\u001b[39;49m\u001b[38;5;124;43magent\u001b[39;49m\u001b[38;5;124;43m\"\u001b[39;49m\u001b[43m]\u001b[49m\u001b[43m[\u001b[49m\u001b[38;5;124;43m\"\u001b[39;49m\u001b[38;5;124;43mefficacy\u001b[39;49m\u001b[38;5;124;43m\"\u001b[39;49m\u001b[43m]\u001b[49m\u001b[43m,\u001b[49m\u001b[43m \u001b[49m\n\u001b[1;32m      6\u001b[0m \u001b[43m        \u001b[49m\u001b[43mconfig\u001b[49m\u001b[43m[\u001b[49m\u001b[38;5;124;43m\"\u001b[39;49m\u001b[38;5;124;43magent\u001b[39;49m\u001b[38;5;124;43m\"\u001b[39;49m\u001b[43m]\u001b[49m\u001b[43m[\u001b[49m\u001b[38;5;124;43m\"\u001b[39;49m\u001b[38;5;124;43mtoxicity\u001b[39;49m\u001b[38;5;124;43m\"\u001b[39;49m\u001b[43m]\u001b[49m\u001b[43m,\u001b[49m\u001b[43m \u001b[49m\n\u001b[1;32m      7\u001b[0m \u001b[43m        \u001b[49m\u001b[43mconfig\u001b[49m\u001b[43m[\u001b[49m\u001b[38;5;124;43m\"\u001b[39;49m\u001b[38;5;124;43magent\u001b[39;49m\u001b[38;5;124;43m\"\u001b[39;49m\u001b[43m]\u001b[49m\u001b[43m[\u001b[49m\u001b[38;5;124;43m\"\u001b[39;49m\u001b[38;5;124;43mdrug_disease_agent\u001b[39;49m\u001b[38;5;124;43m\"\u001b[39;49m\u001b[43m]\u001b[49m\u001b[43m,\u001b[49m\n\u001b[1;32m      8\u001b[0m \u001b[43m        \u001b[49m\u001b[43mconfig\u001b[49m\u001b[43m[\u001b[49m\u001b[38;5;124;43m\"\u001b[39;49m\u001b[38;5;124;43magent\u001b[39;49m\u001b[38;5;124;43m\"\u001b[39;49m\u001b[43m]\u001b[49m\u001b[43m[\u001b[49m\u001b[38;5;124;43m\"\u001b[39;49m\u001b[38;5;124;43mdrug_medication_agent\u001b[39;49m\u001b[38;5;124;43m\"\u001b[39;49m\u001b[43m]\u001b[49m\u001b[43m]\u001b[49m\u001b[43m,\u001b[49m\n\u001b[1;32m      9\u001b[0m \u001b[43m    \u001b[49m\u001b[43mconfig\u001b[49m\u001b[38;5;241;43m=\u001b[39;49m\u001b[43mconfig\u001b[49m\u001b[43m,\u001b[49m\n\u001b[1;32m     10\u001b[0m \u001b[43m    \u001b[49m\u001b[43m)\u001b[49m\n",
      "\u001b[0;31mTypeError\u001b[0m: Planner.__init__() got an unexpected keyword argument 'agent_tools'"
     ]
    }
   ],
   "source": [
    "from agent.planner import Planner\n",
    "\n",
    "planner = Planner(\n",
    "    agent_tools=[\n",
    "        config[\"agent\"][\"efficacy\"], \n",
    "        config[\"agent\"][\"toxicity\"], \n",
    "        config[\"agent\"][\"drug_disease_agent\"],\n",
    "        config[\"agent\"][\"drug_medication_agent\"]],\n",
    "    config=config,\n",
    "    )"
   ]
  },
  {
   "cell_type": "code",
   "execution_count": null,
   "metadata": {},
   "outputs": [],
   "source": [
    "results = planner.process(default_prompt)"
   ]
  },
  {
   "cell_type": "code",
   "execution_count": null,
   "metadata": {},
   "outputs": [
    {
     "data": {
      "text/plain": [
       "[\"To evaluate the efficacy of Ibuprofen against osteoarthritis, it is essential to request information from the Efficacy Agent regarding Ibuprofen's effectiveness in treating osteoarthritis.\",\n",
       " 'To understand the safety of Ibuprofen, including potential toxicity and side effects, we need to consult the Toxicity Agent for safety information about Ibuprofen.',\n",
       " 'Ask the Drug-Disease Agent to assess whether Ibuprofen has any adverse effects on the Current Diseases that the patient has stated in the Patient Profile, specifically Type 2 Diabetes, Hypertension, and Chronic Kidney Disease (Stage 2).',\n",
       " 'Ask the Drug-Medication Agent to evaluate whether Ibuprofen has any adverse interactions with the Current Medications the patient is taking, including Metformin, Lisinopril, and Atorvastatin.']"
      ]
     },
     "execution_count": 8,
     "metadata": {},
     "output_type": "execute_result"
    }
   ],
   "source": [
    "results  #.choices"
   ]
  },
  {
   "cell_type": "code",
   "execution_count": null,
   "metadata": {},
   "outputs": [],
   "source": [
    "#for choice in results.choices:\n",
    "#    print(choice.message.content)"
   ]
  },
  {
   "cell_type": "code",
   "execution_count": null,
   "metadata": {},
   "outputs": [],
   "source": [
    "clinicalAgent = clinical_agent.ClinicalAgent(user_problem, depth=1)"
   ]
  }
 ],
 "metadata": {
  "kernelspec": {
   "display_name": "Python 3",
   "language": "python",
   "name": "python3"
  },
  "language_info": {
   "codemirror_mode": {
    "name": "ipython",
    "version": 3
   },
   "file_extension": ".py",
   "mimetype": "text/x-python",
   "name": "python",
   "nbconvert_exporter": "python",
   "pygments_lexer": "ipython3",
   "version": "3.11.10"
  }
 },
 "nbformat": 4,
 "nbformat_minor": 2
}
