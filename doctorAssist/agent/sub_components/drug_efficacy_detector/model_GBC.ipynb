{
 "cells": [
  {
   "cell_type": "code",
   "execution_count": 1,
   "metadata": {},
   "outputs": [
    {
     "name": "stderr",
     "output_type": "stream",
     "text": [
      "/tmp/ipykernel_3447928/3352359748.py:12: TqdmExperimentalWarning: Using `tqdm.autonotebook.tqdm` in notebook mode. Use `tqdm.tqdm` instead to force console mode (e.g. in jupyter console)\n",
      "  from tqdm.autonotebook import tqdm\n"
     ]
    }
   ],
   "source": [
    "import os\n",
    "\n",
    "os.environ[\"CUDA_VISIBLE_DEVICES\"]=\"7\"\n",
    "\n",
    "\n",
    "import random\n",
    "import numpy as np\n",
    "import seaborn as sns\n",
    "import pickle\n",
    "import matplotlib\n",
    "from matplotlib import pyplot as plt\n",
    "from tqdm.autonotebook import tqdm\n",
    "\n",
    "import torch\n",
    "import swifter\n",
    "from torch import nn, Tensor\n",
    "from torch.autograd import Variable\n",
    "import pandas as pd\n",
    "from torch.nn import functional as F\n",
    "from torch.nn.modules import MultiheadAttention, Linear, Dropout, BatchNorm1d, TransformerEncoderLayer\n",
    "from torch.utils.data import Dataset, DataLoader\n",
    "from sklearn.preprocessing import KBinsDiscretizer\n",
    "from torch.optim import Adam, lr_scheduler\n",
    "from torch.nn import BCEWithLogitsLoss\n",
    "from torchinfo import summary\n",
    "from sklearn import metrics\n",
    "from sklearn.preprocessing import OneHotEncoder\n",
    "\n",
    "from transformers import AutoTokenizer\n",
    "from transformers import AutoModelForSequenceClassification\n",
    "\n",
    "from mlflow import MlflowClient\n",
    "import mlflow"
   ]
  },
  {
   "cell_type": "code",
   "execution_count": 2,
   "metadata": {},
   "outputs": [],
   "source": [
    "import warnings\n",
    "\n",
    "warnings.filterwarnings('ignore')"
   ]
  },
  {
   "cell_type": "code",
   "execution_count": 3,
   "metadata": {},
   "outputs": [],
   "source": [
    "class MLFlowLogger:\n",
    "    def __init__(self,exp_name,\n",
    "                 config:dict,\n",
    "                 tracking_url:str = \"http://127.0.0.1:5000\",\n",
    "                 ) -> None:\n",
    "        \n",
    "        self.client = MlflowClient(tracking_uri=tracking_url)\n",
    "        self._experiment = mlflow.set_experiment(\n",
    "            exp_name\n",
    "        )\n",
    "        \n",
    "        with mlflow.start_run() as run:\n",
    "            self.run_info = run.info\n",
    "        \n",
    "        self.track_params(config=config)\n",
    "        \n",
    "    \n",
    "    def track_params(self, config:dict):\n",
    "        params = MLFlowLogger.unnest_dictionary(config)\n",
    "        \n",
    "        with mlflow.start_run(run_id=self.run_info.run_id) as run:\n",
    "            if not self.run_info:\n",
    "                self.run_info = run.info\n",
    "            \n",
    "            mlflow.log_params(params)\n",
    "        \n",
    "        \n",
    "    def track_metrics(self, metrics:dict):\n",
    "        params = MLFlowLogger.unnest_dictionary(metrics)\n",
    "        \n",
    "        with mlflow.start_run(run_id=self.run_info.run_id) as run:\n",
    "            if not self.run_info:\n",
    "                self.run_info = run.info\n",
    "            \n",
    "            mlflow.log_metrics(metrics)\n",
    "        \n",
    "    \n",
    "    @staticmethod\n",
    "    def unnest_dictionary(d:dict, level:str=None, unnested_dict:dict = {}) -> dict:\n",
    "        for k, v in d.items():\n",
    "            if level:\n",
    "                next_level=f\"{level}_{k}\"\n",
    "            else:\n",
    "                next_level = k\n",
    "                \n",
    "            if not isinstance(v,dict):\n",
    "                #print(level,k)\n",
    "                unnested_dict[next_level] = v\n",
    "            else:\n",
    "                #print(d,level,k,v,2)\n",
    "                MLFlowLogger.unnest_dictionary(v, next_level, unnested_dict)\n",
    "                \n",
    "        return unnested_dict"
   ]
  },
  {
   "cell_type": "code",
   "execution_count": 4,
   "metadata": {},
   "outputs": [],
   "source": [
    "#config of run\n",
    "\n",
    "config = {\n",
    "    \"dataset\":{\n",
    "        \"name\":'Drug_Drug_interaction_agent',\n",
    "        \"encoding\":\"proteinbert\",\n",
    "        \"data_loc\": \"processed_data\",\n",
    "        'model_checkpoint': \"facebook/esm2_t6_8M_UR50D\",\n",
    "    },\n",
    "    \"model\":{\n",
    "        \"max_length_tokens\": 300,\n",
    "        'input_dim_Drug': 320,\n",
    "        'input_dim_Target': 320,\n",
    "        'n_Drug_channels': 320,\n",
    "        'n_Target_channels': 320,\n",
    "        'hidden_dim_Drug': 256,\n",
    "        'hidden_dim_Target': 256,\n",
    "        'result_folder': './result/',\n",
    "        },\n",
    "    \n",
    "    \"optimizer\":{\n",
    "        'LR': 0.01,\n",
    "        \"weight_decay\":1e-5\n",
    "    },\n",
    "    'batch_size': 128,\n",
    "    'train_epoch': 20,\n",
    "    \"device\": \"cuda\",\n",
    "    \"seed\": 49\n",
    "}\n",
    "\n",
    "#set seeds\n",
    "np.random.seed(config[\"seed\"])\n",
    "torch.manual_seed(config[\"seed\"])\n",
    "random.seed(config[\"seed\"])\n",
    "\n",
    "#device\n",
    "if config['device'] == 'cpu':\n",
    "    device = \"cpu\"\n",
    "else:\n",
    "    device = torch.device(\"cuda:0\" if torch.cuda.is_available() else \"cpu\")\n",
    "\n",
    "#mlflow\n",
    "run_tracker = MLFlowLogger(\n",
    "    f\"{config['dataset']['name']}_{config['dataset']['encoding']}\",\n",
    "    config)"
   ]
  },
  {
   "cell_type": "code",
   "execution_count": 5,
   "metadata": {},
   "outputs": [
    {
     "name": "stderr",
     "output_type": "stream",
     "text": [
      "Some weights of EsmForSequenceClassification were not initialized from the model checkpoint at facebook/esm2_t6_8M_UR50D and are newly initialized: ['classifier.dense.bias', 'classifier.dense.weight', 'classifier.out_proj.bias', 'classifier.out_proj.weight']\n",
      "You should probably TRAIN this model on a down-stream task to be able to use it for predictions and inference.\n"
     ]
    }
   ],
   "source": [
    "def get_esm2_components(config,device):\n",
    "\n",
    "    model_checkpoint = config[\"dataset\"]['model_checkpoint']\n",
    "\n",
    "    tokenizer = AutoTokenizer.from_pretrained(model_checkpoint)\n",
    "    esm2_model = AutoModelForSequenceClassification.from_pretrained(model_checkpoint).to(device)\n",
    "    \n",
    "    return tokenizer, esm2_model\n",
    "\n",
    "tokenizer, esm2_model = get_esm2_components(config,device)"
   ]
  },
  {
   "cell_type": "code",
   "execution_count": 6,
   "metadata": {},
   "outputs": [
    {
     "data": {
      "text/plain": [
       "EsmTokenizer(name_or_path='facebook/esm2_t6_8M_UR50D', vocab_size=33, model_max_length=1000000000000000019884624838656, is_fast=False, padding_side='right', truncation_side='right', special_tokens={'eos_token': '<eos>', 'unk_token': '<unk>', 'pad_token': '<pad>', 'cls_token': '<cls>', 'mask_token': '<mask>'}, clean_up_tokenization_spaces=True),  added_tokens_decoder={\n",
       "\t0: AddedToken(\"<cls>\", rstrip=False, lstrip=False, single_word=False, normalized=False, special=True),\n",
       "\t1: AddedToken(\"<pad>\", rstrip=False, lstrip=False, single_word=False, normalized=False, special=True),\n",
       "\t2: AddedToken(\"<eos>\", rstrip=False, lstrip=False, single_word=False, normalized=False, special=True),\n",
       "\t3: AddedToken(\"<unk>\", rstrip=False, lstrip=False, single_word=False, normalized=False, special=True),\n",
       "\t32: AddedToken(\"<mask>\", rstrip=False, lstrip=False, single_word=False, normalized=False, special=True),\n",
       "}"
      ]
     },
     "execution_count": 6,
     "metadata": {},
     "output_type": "execute_result"
    }
   ],
   "source": [
    "tokenizer"
   ]
  },
  {
   "cell_type": "code",
   "execution_count": 7,
   "metadata": {},
   "outputs": [
    {
     "data": {
      "text/plain": [
       "EsmEmbeddings(\n",
       "  (word_embeddings): Embedding(33, 320, padding_idx=1)\n",
       "  (dropout): Dropout(p=0.0, inplace=False)\n",
       "  (position_embeddings): Embedding(1026, 320, padding_idx=1)\n",
       ")"
      ]
     },
     "execution_count": 7,
     "metadata": {},
     "output_type": "execute_result"
    }
   ],
   "source": [
    "esm2_model.to(device)\n",
    "esm2_model.esm.embeddings"
   ]
  },
  {
   "cell_type": "code",
   "execution_count": 8,
   "metadata": {},
   "outputs": [],
   "source": [
    "train_dataset = pd.read_csv(f\"{config['dataset']['data_loc']}/train.csv\")\n",
    "valid_dataset = pd.read_csv(f\"{config['dataset']['data_loc']}/valid.csv\")\n",
    "test_dataset = pd.read_csv(f\"{config['dataset']['data_loc']}/test.csv\")"
   ]
  },
  {
   "cell_type": "code",
   "execution_count": 9,
   "metadata": {},
   "outputs": [
    {
     "data": {
      "text/plain": [
       "(1, 1013)"
      ]
     },
     "execution_count": 9,
     "metadata": {},
     "output_type": "execute_result"
    }
   ],
   "source": [
    "_l = pd.Series(train_dataset.loc[:,\"Drug\"].unique()).str.len()\n",
    "_l.min(), _l.max()"
   ]
  },
  {
   "cell_type": "code",
   "execution_count": 10,
   "metadata": {},
   "outputs": [
    {
     "data": {
      "text/plain": [
       "<Axes: >"
      ]
     },
     "execution_count": 10,
     "metadata": {},
     "output_type": "execute_result"
    },
    {
     "data": {
      "image/png": "[encoded data removed]",
      "text/plain": [
       "<Figure size 640x480 with 1 Axes>"
      ]
     },
     "metadata": {},
     "output_type": "display_data"
    }
   ],
   "source": [
    "sns.violinplot(_l)"
   ]
  },
  {
   "cell_type": "code",
   "execution_count": 11,
   "metadata": {},
   "outputs": [
    {
     "data": {
      "text/plain": [
       "<Axes: >"
      ]
     },
     "execution_count": 11,
     "metadata": {},
     "output_type": "execute_result"
    },
    {
     "data": {
      "image/png": "[encoded data removed]",
      "text/plain": [
       "<Figure size 640x480 with 1 Axes>"
      ]
     },
     "metadata": {},
     "output_type": "display_data"
    }
   ],
   "source": [
    "sns.violinplot(_l[(10<=_l)&(_l<=500)])"
   ]
  },
  {
   "cell_type": "code",
   "execution_count": 12,
   "metadata": {},
   "outputs": [
    {
     "data": {
      "text/plain": [
       "(7, 7073)"
      ]
     },
     "execution_count": 12,
     "metadata": {},
     "output_type": "execute_result"
    }
   ],
   "source": [
    "_l = pd.Series(train_dataset.loc[:,\"Target\"].unique()).str.len()\n",
    "_l.min(), _l.max()"
   ]
  },
  {
   "cell_type": "code",
   "execution_count": 13,
   "metadata": {},
   "outputs": [
    {
     "data": {
      "text/plain": [
       "<Axes: >"
      ]
     },
     "execution_count": 13,
     "metadata": {},
     "output_type": "execute_result"
    },
    {
     "data": {
      "image/png": "[encoded data removed]",
      "text/plain": [
       "<Figure size 640x480 with 1 Axes>"
      ]
     },
     "metadata": {},
     "output_type": "display_data"
    }
   ],
   "source": [
    "sns.violinplot(_l)"
   ]
  },
  {
   "cell_type": "code",
   "execution_count": 14,
   "metadata": {},
   "outputs": [
    {
     "data": {
      "text/plain": [
       "<Axes: >"
      ]
     },
     "execution_count": 14,
     "metadata": {},
     "output_type": "execute_result"
    },
    {
     "data": {
      "image/png": "[encoded data removed]",
      "text/plain": [
       "<Figure size 640x480 with 1 Axes>"
      ]
     },
     "metadata": {},
     "output_type": "display_data"
    }
   ],
   "source": [
    "sns.violinplot(_l[(10<=_l)&(_l<=500)])"
   ]
  },
  {
   "cell_type": "code",
   "execution_count": 15,
   "metadata": {},
   "outputs": [],
   "source": [
    "max_seq_drug = 500\n",
    "\n",
    "train_dataset = train_dataset[(train_dataset.Drug.str.len()<=max_seq_drug)&(train_dataset.Target.str.len()<=max_seq_drug)]\n",
    "valid_dataset = valid_dataset[(valid_dataset.Drug.str.len()<=max_seq_drug)&(valid_dataset.Target.str.len()<=max_seq_drug)]\n",
    "test_dataset = test_dataset[(test_dataset.Drug.str.len()<=max_seq_drug)&(test_dataset.Target.str.len()<=max_seq_drug)]\n",
    "\n",
    "config[\"model\"][\"max_seq_Drug\"] = max_seq_drug\n",
    "config[\"model\"][\"max_seq_Target\"] = max_seq_drug\n"
   ]
  },
  {
   "cell_type": "code",
   "execution_count": 16,
   "metadata": {},
   "outputs": [
    {
     "data": {
      "text/plain": [
       "((207451, 6), (31338, 6), (62139, 6))"
      ]
     },
     "execution_count": 16,
     "metadata": {},
     "output_type": "execute_result"
    }
   ],
   "source": [
    "(train_dataset.shape,\n",
    " valid_dataset.shape,\n",
    " test_dataset.shape,\n",
    " )"
   ]
  },
  {
   "cell_type": "code",
   "execution_count": 17,
   "metadata": {
    "vscode": {
     "languageId": "ruby"
    }
   },
   "outputs": [],
   "source": [
    "def esm2_tokernized_encoding_drug(dataset):\n",
    "    unique_drug = dataset[\"Drug\"].unique().tolist()+ dataset[\"Target\"].unique().tolist()\n",
    "    unique_Drug_tokens = tokenizer(\n",
    "        unique_drug,\n",
    "        padding='max_length',\n",
    "        max_length=config['model']['max_length_tokens'],\n",
    "        truncation=True\n",
    "        )\n",
    "    \n",
    "    unique_dict_input_ids = dict(zip(unique_drug, unique_Drug_tokens[\"input_ids\"]))\n",
    "    unique_dict_attention_mask = dict(zip(unique_drug, unique_Drug_tokens[\"attention_mask\"]))\n",
    "    \n",
    "    Drug_enc_input_ids = dataset[\"Drug\"].apply(lambda x:unique_dict_input_ids[x]).to_numpy()\n",
    "    Drug_enc_attention_mask = dataset[\"Drug\"].apply(lambda x:unique_dict_attention_mask[x]).to_numpy()\n",
    "\n",
    "    Target_enc_input_ids = dataset[\"Target\"].apply(lambda x:unique_dict_input_ids[x]).to_numpy()\n",
    "    Target_enc_attention_mask = dataset[\"Target\"].apply(lambda x:unique_dict_attention_mask[x]).to_numpy()\n",
    "\n",
    "    return Drug_enc_input_ids, Drug_enc_attention_mask, Target_enc_input_ids, Target_enc_attention_mask\n",
    "\n",
    "# Example usage:\n",
    "train_tokens = esm2_tokernized_encoding_drug(train_dataset)\n",
    "valid_tokens = esm2_tokernized_encoding_drug(valid_dataset)\n",
    "test_tokens = esm2_tokernized_encoding_drug(test_dataset)"
   ]
  },
  {
   "cell_type": "code",
   "execution_count": 18,
   "metadata": {
    "vscode": {
     "languageId": "ruby"
    }
   },
   "outputs": [],
   "source": [
    "class DrugTargetDataset(Dataset):\n",
    "    def __init__(self, \n",
    "        ds_name, \n",
    "        Drug, \n",
    "        Drug_input_ids, \n",
    "        Drug_att_mask,  \n",
    "        Target, \n",
    "        Target_input_ids, \n",
    "        Target_att_mask,\n",
    "        y):\n",
    "        super(DrugTargetDataset, self).__init__()\n",
    "        self.ds_name = ds_name\n",
    "        self.Drug = Drug\n",
    "        self.Drug_input_ids = Drug_input_ids\n",
    "        self.Drug_att_mask= Drug_att_mask\n",
    "        self.Target = Target\n",
    "        self.Target_input_ids = Target_input_ids\n",
    "        self.Target_att_mask= Target_att_mask\n",
    "        self.y = y\n",
    "\n",
    "    def __getitem__(self, ind):\n",
    "        return (#self.ds_name,\n",
    "                #self.Drug[ind],\n",
    "                torch.Tensor(self.Drug_input_ids[ind]), \n",
    "                torch.Tensor(self.Drug_att_mask[ind]),\n",
    "                torch.Tensor(self.Target_input_ids[ind]), \n",
    "                torch.Tensor(self.Target_att_mask[ind]),\n",
    "                self.y[ind])\n",
    "\n",
    "    def __len__(self):\n",
    "        return self.Drug_input_ids.shape[0]"
   ]
  },
  {
   "cell_type": "markdown",
   "metadata": {},
   "source": [
    "### Model Training"
   ]
  },
  {
   "cell_type": "code",
   "execution_count": 19,
   "metadata": {},
   "outputs": [],
   "source": [
    "def get_multilabel_onehot(labels, max_labels):\n",
    "    l = np.zeros((len(labels), max_labels))\n",
    "    for i,label in enumerate(labels):\n",
    "        l[i,label] = 1\n",
    "        \n",
    "    return l\n",
    "\n",
    "def create_ds_and_dl(_dataset, _tokens):\n",
    "    \n",
    "    _dt = DrugTargetDataset(\n",
    "            _dataset.loc[:,\"ds_name\"].tolist(),\n",
    "            _dataset.loc[:,\"Drug\"].tolist(),\n",
    "            _tokens[0], \n",
    "            _tokens[1], \n",
    "            _dataset.loc[:,\"Target\"].tolist(),\n",
    "            _tokens[2], \n",
    "            _tokens[3],\n",
    "            _dataset.loc[:,\"Y\"].tolist(),\n",
    "        )\n",
    "    \n",
    "    _dl = DataLoader(\n",
    "            _dt, \n",
    "            batch_size=config['batch_size'], \n",
    "            shuffle=False, \n",
    "            pin_memory=True, \n",
    "        )\n",
    "    \n",
    "    return _dt, _dl\n",
    "\n",
    "train_dt, train_dl = create_ds_and_dl(train_dataset, train_tokens)\n",
    "valid_dt, valid_dl = create_ds_and_dl(valid_dataset, valid_tokens)\n",
    "test_dt, test_dl = create_ds_and_dl(test_dataset, test_tokens)"
   ]
  },
  {
   "cell_type": "code",
   "execution_count": 20,
   "metadata": {},
   "outputs": [],
   "source": [
    "def embedding_step(dataloader, device, desc=\"processing\"):\n",
    "    esm2_model.eval()\n",
    "    step_embeddings_Drug = []\n",
    "    step_embeddings_Target = []\n",
    "    #step_ds = []\n",
    "    y_true = []\n",
    "\n",
    "    with tqdm(dataloader, unit=\"batch\", desc=desc) as tepoch:\n",
    "        for batch in tepoch:\n",
    "            Drug_input_ids, Drug_att_mask,  Target_input_ids, Target_att_mask, y_batch = batch\n",
    "            \n",
    "            Drug_input_ids = Drug_input_ids.long().to(device)\n",
    "            Drug_att_mask = Drug_att_mask.long().to(device)\n",
    "            \n",
    "            Target_input_ids = Target_input_ids.long().to(device)\n",
    "            Target_att_mask = Target_att_mask.long().to(device)\n",
    "            \n",
    "            Drug = esm2_model.esm.embeddings(Drug_input_ids, Drug_att_mask)\n",
    "            Drug = esm2_model.esm.encoder(Drug)\n",
    "            Drug = Drug.last_hidden_state\n",
    "            \n",
    "            Target = esm2_model.esm.embeddings(Target_input_ids, Target_att_mask)\n",
    "            Target = esm2_model.esm.encoder(Target)\n",
    "            Target = Target.last_hidden_state\n",
    "            \n",
    "            step_embeddings_Drug.append(Drug[:,0,:].detach().cpu().numpy())\n",
    "            step_embeddings_Target.append(Target[:,0,:].detach().cpu().numpy())\n",
    "            y_true.append(y_batch.detach().cpu().numpy())\n",
    "\n",
    "            # convert feature vector into action class\n",
    "\n",
    "    return (np.concatenate(step_embeddings_Drug, axis=0), \n",
    "            np.concatenate(step_embeddings_Target, axis=0), \n",
    "            np.concatenate(y_true, axis=0),)\n",
    "            #np.concatenate(step_ds, axis=0))"
   ]
  },
  {
   "cell_type": "code",
   "execution_count": 21,
   "metadata": {},
   "outputs": [
    {
     "data": {
      "application/vnd.jupyter.widget-view+json": {
       "model_id": "cbbf330e6c744355a57c6fa0caa5f1ec",
       "version_major": 2,
       "version_minor": 0
      },
      "text/plain": [
       "train embeddings:   0%|          | 0/1621 [00:00<?, ?batch/s]"
      ]
     },
     "metadata": {},
     "output_type": "display_data"
    },
    {
     "data": {
      "application/vnd.jupyter.widget-view+json": {
       "model_id": "a037d409dfc245868b8767d655ab86e8",
       "version_major": 2,
       "version_minor": 0
      },
      "text/plain": [
       "valid embeddings:   0%|          | 0/245 [00:00<?, ?batch/s]"
      ]
     },
     "metadata": {},
     "output_type": "display_data"
    },
    {
     "data": {
      "application/vnd.jupyter.widget-view+json": {
       "model_id": "dba8b64c365a4321aa8deaeea82278fe",
       "version_major": 2,
       "version_minor": 0
      },
      "text/plain": [
       "test embeddings:   0%|          | 0/486 [00:00<?, ?batch/s]"
      ]
     },
     "metadata": {},
     "output_type": "display_data"
    }
   ],
   "source": [
    "#calculate train embeddings\n",
    "train_embeddings_Drug, train_embeddings_Target, train_y = embedding_step(train_dl, device, desc=\"train embeddings\")\n",
    "\n",
    "#calculate valid embeddings\n",
    "valid_embeddings_Drug, valid_embeddings_Target, valid_y = embedding_step(valid_dl, device, desc=\"valid embeddings\")\n",
    "\n",
    "#calculate test embeddings\n",
    "test_embeddings_Drug, test_embeddings_Target, test_y = embedding_step(test_dl, device, desc=\"test embeddings\")"
   ]
  },
  {
   "cell_type": "code",
   "execution_count": 22,
   "metadata": {},
   "outputs": [],
   "source": [
    "del esm2_model\n",
    "del tokenizer\n",
    "torch.cuda.empty_cache()"
   ]
  },
  {
   "cell_type": "code",
   "execution_count": 32,
   "metadata": {},
   "outputs": [],
   "source": [
    "def concatenate_embeddings(embeddings_Drug, embeddings_Target, y):\n",
    "    return np.concatenate([embeddings_Drug, embeddings_Target], axis=1), y\n",
    "\n",
    "def flatten_list(l):\n",
    "    return [item for sublist in l for item in sublist]\n",
    "\n",
    "def unnest_dictionary(d:dict, level:str=None, unnested_dict:dict = {}) -> dict:\n",
    "    for k, v in d.items():\n",
    "        if level:\n",
    "            next_level=f\"{level}_{k}\"\n",
    "        else:\n",
    "            next_level = k\n",
    "            \n",
    "        if not isinstance(v,dict):\n",
    "            #print(level,k)\n",
    "            unnested_dict[next_level] = v\n",
    "        else:\n",
    "            #print(d,level,k,v,2)\n",
    "            unnest_dictionary(v, next_level, unnested_dict)\n",
    "            \n",
    "    return unnested_dict"
   ]
  },
  {
   "cell_type": "code",
   "execution_count": null,
   "metadata": {},
   "outputs": [],
   "source": [
    "train_embeddings, train_y = concatenate_embeddings(train_embeddings_Drug, train_embeddings_Target, train_y)\n",
    "valid_embeddings, valid_y = concatenate_embeddings(valid_embeddings_Drug, valid_embeddings_Target, valid_y)\n",
    "test_embeddings, test_y = concatenate_embeddings(test_embeddings_Drug, test_embeddings_Target, test_y)"
   ]
  },
  {
   "cell_type": "code",
   "execution_count": 24,
   "metadata": {},
   "outputs": [
    {
     "data": {
      "text/plain": [
       "((207451, 640), (207451,))"
      ]
     },
     "execution_count": 24,
     "metadata": {},
     "output_type": "execute_result"
    }
   ],
   "source": [
    "train_embeddings.shape, train_y.shape"
   ]
  },
  {
   "cell_type": "code",
   "execution_count": 30,
   "metadata": {},
   "outputs": [
    {
     "data": {
      "text/html": [
       "<style>#sk-container-id-2 {color: black;background-color: white;}#sk-container-id-2 pre{padding: 0;}#sk-container-id-2 div.sk-toggleable {background-color: white;}#sk-container-id-2 label.sk-toggleable__label {cursor: pointer;display: block;width: 100%;margin-bottom: 0;padding: 0.3em;box-sizing: border-box;text-align: center;}#sk-container-id-2 label.sk-toggleable__label-arrow:before {content: \"▸\";float: left;margin-right: 0.25em;color: #696969;}#sk-container-id-2 label.sk-toggleable__label-arrow:hover:before {color: black;}#sk-container-id-2 div.sk-estimator:hover label.sk-toggleable__label-arrow:before {color: black;}#sk-container-id-2 div.sk-toggleable__content {max-height: 0;max-width: 0;overflow: hidden;text-align: left;background-color: #f0f8ff;}#sk-container-id-2 div.sk-toggleable__content pre {margin: 0.2em;color: black;border-radius: 0.25em;background-color: #f0f8ff;}#sk-container-id-2 input.sk-toggleable__control:checked~div.sk-toggleable__content {max-height: 200px;max-width: 100%;overflow: auto;}#sk-container-id-2 input.sk-toggleable__control:checked~label.sk-toggleable__label-arrow:before {content: \"▾\";}#sk-container-id-2 div.sk-estimator input.sk-toggleable__control:checked~label.sk-toggleable__label {background-color: #d4ebff;}#sk-container-id-2 div.sk-label input.sk-toggleable__control:checked~label.sk-toggleable__label {background-color: #d4ebff;}#sk-container-id-2 input.sk-hidden--visually {border: 0;clip: rect(1px 1px 1px 1px);clip: rect(1px, 1px, 1px, 1px);height: 1px;margin: -1px;overflow: hidden;padding: 0;position: absolute;width: 1px;}#sk-container-id-2 div.sk-estimator {font-family: monospace;background-color: #f0f8ff;border: 1px dotted black;border-radius: 0.25em;box-sizing: border-box;margin-bottom: 0.5em;}#sk-container-id-2 div.sk-estimator:hover {background-color: #d4ebff;}#sk-container-id-2 div.sk-parallel-item::after {content: \"\";width: 100%;border-bottom: 1px solid gray;flex-grow: 1;}#sk-container-id-2 div.sk-label:hover label.sk-toggleable__label {background-color: #d4ebff;}#sk-container-id-2 div.sk-serial::before {content: \"\";position: absolute;border-left: 1px solid gray;box-sizing: border-box;top: 0;bottom: 0;left: 50%;z-index: 0;}#sk-container-id-2 div.sk-serial {display: flex;flex-direction: column;align-items: center;background-color: white;padding-right: 0.2em;padding-left: 0.2em;position: relative;}#sk-container-id-2 div.sk-item {position: relative;z-index: 1;}#sk-container-id-2 div.sk-parallel {display: flex;align-items: stretch;justify-content: center;background-color: white;position: relative;}#sk-container-id-2 div.sk-item::before, #sk-container-id-2 div.sk-parallel-item::before {content: \"\";position: absolute;border-left: 1px solid gray;box-sizing: border-box;top: 0;bottom: 0;left: 50%;z-index: -1;}#sk-container-id-2 div.sk-parallel-item {display: flex;flex-direction: column;z-index: 1;position: relative;background-color: white;}#sk-container-id-2 div.sk-parallel-item:first-child::after {align-self: flex-end;width: 50%;}#sk-container-id-2 div.sk-parallel-item:last-child::after {align-self: flex-start;width: 50%;}#sk-container-id-2 div.sk-parallel-item:only-child::after {width: 0;}#sk-container-id-2 div.sk-dashed-wrapped {border: 1px dashed gray;margin: 0 0.4em 0.5em 0.4em;box-sizing: border-box;padding-bottom: 0.4em;background-color: white;}#sk-container-id-2 div.sk-label label {font-family: monospace;font-weight: bold;display: inline-block;line-height: 1.2em;}#sk-container-id-2 div.sk-label-container {text-align: center;}#sk-container-id-2 div.sk-container {/* jupyter's `normalize.less` sets `[hidden] { display: none; }` but bootstrap.min.css set `[hidden] { display: none !important; }` so we also need the `!important` here to be able to override the default hidden behavior on the sphinx rendered scikit-learn.org. See: https://github.com/scikit-learn/scikit-learn/issues/21755 */display: inline-block !important;position: relative;}#sk-container-id-2 div.sk-text-repr-fallback {display: none;}</style><div id=\"sk-container-id-2\" class=\"sk-top-container\"><div class=\"sk-text-repr-fallback\"><pre>XGBRegressor(base_score=None, booster=None, callbacks=None,\n",
       "             colsample_bylevel=None, colsample_bynode=None,\n",
       "             colsample_bytree=None, device=&#x27;gpu&#x27;, early_stopping_rounds=None,\n",
       "             enable_categorical=False, eval_metric=None, feature_types=None,\n",
       "             gamma=None, grow_policy=None, importance_type=None,\n",
       "             interaction_constraints=None, learning_rate=None, max_bin=None,\n",
       "             max_cat_threshold=None, max_cat_to_onehot=None,\n",
       "             max_delta_step=None, max_depth=5, max_leaves=None,\n",
       "             min_child_weight=None, missing=nan, monotone_constraints=None,\n",
       "             multi_strategy=None, n_estimators=1000, n_jobs=-1,\n",
       "             num_parallel_tree=None, random_state=49, ...)</pre><b>In a Jupyter environment, please rerun this cell to show the HTML representation or trust the notebook. <br />On GitHub, the HTML representation is unable to render, please try loading this page with nbviewer.org.</b></div><div class=\"sk-container\" hidden><div class=\"sk-item\"><div class=\"sk-estimator sk-toggleable\"><input class=\"sk-toggleable__control sk-hidden--visually\" id=\"sk-estimator-id-2\" type=\"checkbox\" checked><label for=\"sk-estimator-id-2\" class=\"sk-toggleable__label sk-toggleable__label-arrow\">XGBRegressor</label><div class=\"sk-toggleable__content\"><pre>XGBRegressor(base_score=None, booster=None, callbacks=None,\n",
       "             colsample_bylevel=None, colsample_bynode=None,\n",
       "             colsample_bytree=None, device=&#x27;gpu&#x27;, early_stopping_rounds=None,\n",
       "             enable_categorical=False, eval_metric=None, feature_types=None,\n",
       "             gamma=None, grow_policy=None, importance_type=None,\n",
       "             interaction_constraints=None, learning_rate=None, max_bin=None,\n",
       "             max_cat_threshold=None, max_cat_to_onehot=None,\n",
       "             max_delta_step=None, max_depth=5, max_leaves=None,\n",
       "             min_child_weight=None, missing=nan, monotone_constraints=None,\n",
       "             multi_strategy=None, n_estimators=1000, n_jobs=-1,\n",
       "             num_parallel_tree=None, random_state=49, ...)</pre></div></div></div></div></div>"
      ],
      "text/plain": [
       "XGBRegressor(base_score=None, booster=None, callbacks=None,\n",
       "             colsample_bylevel=None, colsample_bynode=None,\n",
       "             colsample_bytree=None, device='gpu', early_stopping_rounds=None,\n",
       "             enable_categorical=False, eval_metric=None, feature_types=None,\n",
       "             gamma=None, grow_policy=None, importance_type=None,\n",
       "             interaction_constraints=None, learning_rate=None, max_bin=None,\n",
       "             max_cat_threshold=None, max_cat_to_onehot=None,\n",
       "             max_delta_step=None, max_depth=5, max_leaves=None,\n",
       "             min_child_weight=None, missing=nan, monotone_constraints=None,\n",
       "             multi_strategy=None, n_estimators=1000, n_jobs=-1,\n",
       "             num_parallel_tree=None, random_state=49, ...)"
      ]
     },
     "execution_count": 30,
     "metadata": {},
     "output_type": "execute_result"
    }
   ],
   "source": [
    "from xgboost import XGBRegressor\n",
    "\n",
    "#write a function to evaluate a multi label binary classifier\n",
    "def evaluate_regression(y, y_pred, ds_name):\n",
    "    reports = {}\n",
    "    \n",
    "    mse = metrics.mean_squared_error(y, y_pred)\n",
    "    mae = metrics.mean_absolute_error(y, y_pred)\n",
    "    r2_score = metrics.r2_score(y, y_pred)\n",
    "    \n",
    "    reports[\"whole\"] = {\n",
    "        \"mse\": mse,\n",
    "        \"mae\": mae,\n",
    "        \"r2_score\": r2_score}\n",
    "    \n",
    "    ds_unique = np.unique(flatten_list(ds_name))\n",
    "    for ds in ds_unique:\n",
    "        idx = ds_name.apply(lambda x: ds in x)\n",
    "        y_ds = y[idx]\n",
    "        y_pred_ds = y_pred[idx]\n",
    "        \n",
    "        mse = metrics.mean_squared_error(y_ds, y_pred_ds)\n",
    "        mae = metrics.mean_absolute_error(y_ds, y_pred_ds)\n",
    "        r2_score = metrics.r2_score(y_ds, y_pred_ds)\n",
    "        \n",
    "        reports[ds] = {\n",
    "            \"mse\": mse,\n",
    "            \"mae\": mae,\n",
    "            \"r2_score\": r2_score\n",
    "            }\n",
    "        \n",
    "    reports = pd.DataFrame.from_records(reports)\n",
    "        \n",
    "    return reports\n",
    "\n",
    "def save_model(model, save_path):\n",
    "    import joblib\n",
    "    os.makedirs(os.path.dirname(save_path), exist_ok=True)\n",
    "    joblib.dump(model, save_path)\n",
    "        \n",
    "xgb_model = XGBRegressor(\n",
    "    n_estimators=1000,\n",
    "    max_depth=5,\n",
    "    device='gpu',\n",
    "    n_jobs=-1,\n",
    "    random_state=config[\"seed\"]\n",
    "    )\n",
    "\n",
    "xgb_model.fit(train_embeddings, train_y)"
   ]
  },
  {
   "cell_type": "code",
   "execution_count": 33,
   "metadata": {},
   "outputs": [
    {
     "data": {
      "text/html": [
       "<div>\n",
       "<style scoped>\n",
       "    .dataframe tbody tr th:only-of-type {\n",
       "        vertical-align: middle;\n",
       "    }\n",
       "\n",
       "    .dataframe tbody tr th {\n",
       "        vertical-align: top;\n",
       "    }\n",
       "\n",
       "    .dataframe thead th {\n",
       "        text-align: right;\n",
       "    }\n",
       "</style>\n",
       "<table border=\"1\" class=\"dataframe\">\n",
       "  <thead>\n",
       "    <tr style=\"text-align: right;\">\n",
       "      <th></th>\n",
       "      <th>BindingDB_Ki</th>\n",
       "      <th>DAVIS</th>\n",
       "      <th>KIBA</th>\n",
       "      <th>whole</th>\n",
       "    </tr>\n",
       "  </thead>\n",
       "  <tbody>\n",
       "    <tr>\n",
       "      <th>mse</th>\n",
       "      <td>0.920573</td>\n",
       "      <td>0.550290</td>\n",
       "      <td>0.070352</td>\n",
       "      <td>0.799570</td>\n",
       "    </tr>\n",
       "    <tr>\n",
       "      <th>mae</th>\n",
       "      <td>0.741280</td>\n",
       "      <td>0.557639</td>\n",
       "      <td>0.160688</td>\n",
       "      <td>0.660283</td>\n",
       "    </tr>\n",
       "    <tr>\n",
       "      <th>r2_score</th>\n",
       "      <td>0.577219</td>\n",
       "      <td>-0.019051</td>\n",
       "      <td>-18.862650</td>\n",
       "      <td>0.609352</td>\n",
       "    </tr>\n",
       "  </tbody>\n",
       "</table>\n",
       "</div>"
      ],
      "text/plain": [
       "          BindingDB_Ki     DAVIS       KIBA     whole\n",
       "mse           0.920573  0.550290   0.070352  0.799570\n",
       "mae           0.741280  0.557639   0.160688  0.660283\n",
       "r2_score      0.577219 -0.019051 -18.862650  0.609352"
      ]
     },
     "execution_count": 33,
     "metadata": {},
     "output_type": "execute_result"
    }
   ],
   "source": [
    "valid_preds = xgb_model.predict(valid_embeddings)\n",
    "evaluate_regression(valid_y, valid_preds, valid_dataset[\"ds_name\"].apply(eval))"
   ]
  },
  {
   "cell_type": "code",
   "execution_count": 34,
   "metadata": {},
   "outputs": [
    {
     "data": {
      "text/html": [
       "<div>\n",
       "<style scoped>\n",
       "    .dataframe tbody tr th:only-of-type {\n",
       "        vertical-align: middle;\n",
       "    }\n",
       "\n",
       "    .dataframe tbody tr th {\n",
       "        vertical-align: top;\n",
       "    }\n",
       "\n",
       "    .dataframe thead th {\n",
       "        text-align: right;\n",
       "    }\n",
       "</style>\n",
       "<table border=\"1\" class=\"dataframe\">\n",
       "  <thead>\n",
       "    <tr style=\"text-align: right;\">\n",
       "      <th></th>\n",
       "      <th>BindingDB_Ki</th>\n",
       "      <th>DAVIS</th>\n",
       "      <th>KIBA</th>\n",
       "      <th>whole</th>\n",
       "    </tr>\n",
       "  </thead>\n",
       "  <tbody>\n",
       "    <tr>\n",
       "      <th>mse</th>\n",
       "      <td>0.917747</td>\n",
       "      <td>0.591542</td>\n",
       "      <td>0.069190</td>\n",
       "      <td>0.796879</td>\n",
       "    </tr>\n",
       "    <tr>\n",
       "      <th>mae</th>\n",
       "      <td>0.741467</td>\n",
       "      <td>0.583912</td>\n",
       "      <td>0.160003</td>\n",
       "      <td>0.660241</td>\n",
       "    </tr>\n",
       "    <tr>\n",
       "      <th>r2_score</th>\n",
       "      <td>0.575225</td>\n",
       "      <td>-0.062594</td>\n",
       "      <td>-15.343458</td>\n",
       "      <td>0.608151</td>\n",
       "    </tr>\n",
       "  </tbody>\n",
       "</table>\n",
       "</div>"
      ],
      "text/plain": [
       "          BindingDB_Ki     DAVIS       KIBA     whole\n",
       "mse           0.917747  0.591542   0.069190  0.796879\n",
       "mae           0.741467  0.583912   0.160003  0.660241\n",
       "r2_score      0.575225 -0.062594 -15.343458  0.608151"
      ]
     },
     "execution_count": 34,
     "metadata": {},
     "output_type": "execute_result"
    }
   ],
   "source": [
    "test_preds = xgb_model.predict(test_embeddings)\n",
    "evaluate_regression(test_y, test_preds, test_dataset[\"ds_name\"].apply(eval))"
   ]
  },
  {
   "cell_type": "code",
   "execution_count": 35,
   "metadata": {},
   "outputs": [],
   "source": [
    "save_model(xgb_model, f\"models/xgb_DTI.pkl\")"
   ]
  },
  {
   "cell_type": "code",
   "execution_count": null,
   "metadata": {},
   "outputs": [],
   "source": []
  }
 ],
 "metadata": {
  "kernelspec": {
   "display_name": "Python 3",
   "language": "python",
   "name": "python3"
  },
  "language_info": {
   "codemirror_mode": {
    "name": "ipython",
    "version": 3
   },
   "file_extension": ".py",
   "mimetype": "text/x-python",
   "name": "python",
   "nbconvert_exporter": "python",
   "pygments_lexer": "ipython3",
   "version": "3.11.10"
  }
 },
 "nbformat": 4,
 "nbformat_minor": 2
}
