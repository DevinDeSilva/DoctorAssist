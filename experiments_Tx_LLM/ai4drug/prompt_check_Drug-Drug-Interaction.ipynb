{
 "cells": [
  {
   "cell_type": "code",
   "execution_count": 2,
   "metadata": {},
   "outputs": [],
   "source": [
    "from tdc.multi_pred import DDI\n",
    "from tdc.utils import get_label_map"
   ]
  },
  {
   "cell_type": "code",
   "execution_count": 3,
   "metadata": {},
   "outputs": [
    {
     "name": "stderr",
     "output_type": "stream",
     "text": [
      "Found local copy...\n",
      "Loading...\n",
      "Done!\n"
     ]
    }
   ],
   "source": [
    "data = DDI(name = 'DrugBank')\n",
    "split = data.get_split()\n",
    "label_map = get_label_map(name = 'DrugBank', task = 'DDI')"
   ]
  },
  {
   "cell_type": "code",
   "execution_count": 4,
   "metadata": {},
   "outputs": [
    {
     "data": {
      "text/plain": [
       "{1: '#Drug1 may increase the photosensitizing activities of #Drug2.',\n",
       " 2: '#Drug1 may increase the anticholinergic activities of #Drug2.',\n",
       " 3: 'The bioavailability of #Drug2 can be decreased when combined with #Drug1.',\n",
       " 4: 'The metabolism of #Drug2 can be increased when combined with #Drug1.',\n",
       " 5: '#Drug1 may decrease the vasoconstricting activities of #Drug2.',\n",
       " 6: '#Drug1 may increase the anticoagulant activities of #Drug2.',\n",
       " 7: '#Drug1 may increase the ototoxic activities of #Drug2.',\n",
       " 8: 'The therapeutic efficacy of #Drug2 can be increased when used in combination with #Drug1.',\n",
       " 9: '#Drug1 may increase the hypoglycemic activities of #Drug2.',\n",
       " 10: '#Drug1 may increase the antihypertensive activities of #Drug2.',\n",
       " 11: 'The serum concentration of the active metabolites of #Drug2 can be reduced when #Drug2 is used in combination with #Drug1 resulting in a loss in efficacy.',\n",
       " 12: '#Drug1 may decrease the anticoagulant activities of #Drug2.',\n",
       " 13: 'The absorption of #Drug2 can be decreased when combined with #Drug1.',\n",
       " 14: '#Drug1 may decrease the bronchodilatory activities of #Drug2.',\n",
       " 15: '#Drug1 may increase the cardiotoxic activities of #Drug2.',\n",
       " 16: '#Drug1 may increase the central nervous system depressant (CNS depressant) activities of #Drug2.',\n",
       " 17: '#Drug1 may decrease the neuromuscular blocking activities of #Drug2.',\n",
       " 18: '#Drug1 can cause an increase in the absorption of #Drug2 resulting in an increased serum concentration and potentially a worsening of adverse effects.',\n",
       " 19: '#Drug1 may increase the vasoconstricting activities of #Drug2.',\n",
       " 20: '#Drug1 may increase the QTc-prolonging activities of #Drug2.',\n",
       " 21: '#Drug1 may increase the neuromuscular blocking activities of #Drug2.',\n",
       " 22: '#Drug1 may increase the adverse neuromuscular activities of #Drug2.',\n",
       " 23: '#Drug1 may increase the stimulatory activities of #Drug2.',\n",
       " 24: '#Drug1 may increase the hypocalcemic activities of #Drug2.',\n",
       " 25: '#Drug1 may increase the atrioventricular blocking (AV block) activities of #Drug2.',\n",
       " 26: '#Drug1 may decrease the antiplatelet activities of #Drug2.',\n",
       " 27: '#Drug1 may increase the neuroexcitatory activities of #Drug2.',\n",
       " 28: '#Drug1 may increase the dermatologic adverse activities of #Drug2.',\n",
       " 29: '#Drug1 may decrease the diuretic activities of #Drug2.',\n",
       " 30: '#Drug1 may increase the orthostatic hypotensive activities of #Drug2.',\n",
       " 31: 'The risk or severity of hypertension can be increased when #Drug2 is combined with #Drug1.',\n",
       " 32: '#Drug1 may increase the sedative activities of #Drug2.',\n",
       " 33: 'The risk or severity of QTc prolongation can be increased when #Drug1 is combined with #Drug2.',\n",
       " 34: '#Drug1 may increase the immunosuppressive activities of #Drug2.',\n",
       " 35: '#Drug1 may increase the neurotoxic activities of #Drug2.',\n",
       " 36: '#Drug1 may increase the antipsychotic activities of #Drug2.',\n",
       " 37: '#Drug1 may decrease the antihypertensive activities of #Drug2.',\n",
       " 38: '#Drug1 may increase the vasodilatory activities of #Drug2.',\n",
       " 39: '#Drug1 may increase the constipating activities of #Drug2.',\n",
       " 40: '#Drug1 may increase the respiratory depressant activities of #Drug2.',\n",
       " 41: '#Drug1 may increase the hypotensive and central nervous system depressant (CNS depressant) activities of #Drug2.',\n",
       " 42: 'The risk or severity of hyperkalemia can be increased when #Drug1 is combined with #Drug2.',\n",
       " 43: 'The protein binding of #Drug2 can be decreased when combined with #Drug1.',\n",
       " 44: '#Drug1 may increase the central neurotoxic activities of #Drug2.',\n",
       " 45: '#Drug1 may decrease effectiveness of #Drug2 as a diagnostic agent.',\n",
       " 46: '#Drug1 may increase the bronchoconstrictory activities of #Drug2.',\n",
       " 47: 'The metabolism of #Drug2 can be decreased when combined with #Drug1.',\n",
       " 48: '#Drug1 may increase the myopathic rhabdomyolysis activities of #Drug2.',\n",
       " 49: 'The risk or severity of adverse effects can be increased when #Drug1 is combined with #Drug2.',\n",
       " 50: 'The risk or severity of heart failure can be increased when #Drug2 is combined with #Drug1.',\n",
       " 51: '#Drug1 may increase the hypercalcemic activities of #Drug2.',\n",
       " 52: '#Drug1 may decrease the analgesic activities of #Drug2.',\n",
       " 53: '#Drug1 may increase the antiplatelet activities of #Drug2.',\n",
       " 54: '#Drug1 may increase the bradycardic activities of #Drug2.',\n",
       " 55: '#Drug1 may increase the hyponatremic activities of #Drug2.',\n",
       " 56: 'The risk or severity of hypotension can be increased when #Drug1 is combined with #Drug2.',\n",
       " 57: '#Drug1 may increase the nephrotoxic activities of #Drug2.',\n",
       " 58: '#Drug1 may decrease the cardiotoxic activities of #Drug2.',\n",
       " 59: '#Drug1 may increase the ulcerogenic activities of #Drug2.',\n",
       " 60: '#Drug1 may increase the hypotensive activities of #Drug2.',\n",
       " 61: '#Drug1 may decrease the stimulatory activities of #Drug2.',\n",
       " 62: 'The bioavailability of #Drug2 can be increased when combined with #Drug1.',\n",
       " 63: '#Drug1 may increase the myelosuppressive activities of #Drug2.',\n",
       " 64: '#Drug1 may increase the serotonergic activities of #Drug2.',\n",
       " 65: '#Drug1 may increase the excretion rate of #Drug2 which could result in a lower serum level and potentially a reduction in efficacy.',\n",
       " 66: 'The risk or severity of bleeding can be increased when #Drug1 is combined with #Drug2.',\n",
       " 67: '#Drug1 can cause a decrease in the absorption of #Drug2 resulting in a reduced serum concentration and potentially a decrease in efficacy.',\n",
       " 68: '#Drug1 may increase the hyperkalemic activities of #Drug2.',\n",
       " 69: '#Drug1 may increase the analgesic activities of #Drug2.',\n",
       " 70: 'The therapeutic efficacy of #Drug2 can be decreased when used in combination with #Drug1.',\n",
       " 71: '#Drug1 may increase the hypertensive activities of #Drug2.',\n",
       " 72: '#Drug1 may decrease the excretion rate of #Drug2 which could result in a higher serum level.',\n",
       " 73: 'The serum concentration of #Drug2 can be increased when it is combined with #Drug1.',\n",
       " 74: '#Drug1 may increase the fluid retaining activities of #Drug2.',\n",
       " 75: 'The serum concentration of #Drug2 can be decreased when it is combined with #Drug1.',\n",
       " 76: '#Drug1 may decrease the sedative activities of #Drug2.',\n",
       " 77: 'The serum concentration of the active metabolites of #Drug2 can be increased when #Drug2 is used in combination with #Drug1.',\n",
       " 78: '#Drug1 may increase the hyperglycemic activities of #Drug2.',\n",
       " 79: '#Drug1 may increase the central nervous system depressant (CNS depressant) and hypertensive activities of #Drug2.',\n",
       " 80: '#Drug1 may increase the hepatotoxic activities of #Drug2.',\n",
       " 81: '#Drug1 may increase the thrombogenic activities of #Drug2.',\n",
       " 82: '#Drug1 may increase the arrhythmogenic activities of #Drug2.',\n",
       " 83: '#Drug1 may increase the hypokalemic activities of #Drug2.',\n",
       " 84: '#Drug1 may increase the vasopressor activities of #Drug2.',\n",
       " 85: '#Drug1 may increase the tachycardic activities of #Drug2.',\n",
       " 86: 'The risk of a hypersensitivity reaction to #Drug2 is increased when it is combined with #Drug1.'}"
      ]
     },
     "execution_count": 4,
     "metadata": {},
     "output_type": "execute_result"
    }
   ],
   "source": [
    "label_map"
   ]
  },
  {
   "cell_type": "code",
   "execution_count": 5,
   "metadata": {},
   "outputs": [],
   "source": [
    "template = \"\"\"### Instructions: Answer the following question about Drug Drug interactions. \n",
    "### Context: Drug-drug interactions occur when two or more drugs interact with each other. These could result in a range of outcomes from reducing the efficacy of one or both drugs \n",
    "to dangerous side effects such as increased blood pressure or drowsiness. Polypharmacy side-effects are associated with drug pairs (or higher-order drug combinations) and cannot \n",
    "be attributed to either individual drug in the pair. This task is to predict the interaction between two drugs.\n",
    "### Question: Given the #Drug1 and #Drug2, predict whether \n",
    "{}\n",
    "\n",
    "{}\n",
    "\n",
    "#Drug1: {}\n",
    "#Drug2: {}\n",
    "### Answer: {}\"\"\"\n"
   ]
  },
  {
   "cell_type": "code",
   "execution_count": null,
   "metadata": {},
   "outputs": [],
   "source": [
    "config  = {\n",
    "    \"model\":{\n",
    "        \"name\":\"unsloth/Meta-Llama-3.1-8B-Instruct-bnb-4bit\",\n",
    "        \"max_seq_len\":2048,\n",
    "        \"dtype\":None,\n",
    "        \"load_in_4bit\":True,\n",
    "    },\n",
    "    \"model_save\":\"saved_model\",\n",
    "    \"seed\":49,\n",
    "}"
   ]
  },
  {
   "cell_type": "code",
   "execution_count": null,
   "metadata": {},
   "outputs": [],
   "source": []
  }
 ],
 "metadata": {
  "kernelspec": {
   "display_name": "Python 3",
   "language": "python",
   "name": "python3"
  },
  "language_info": {
   "codemirror_mode": {
    "name": "ipython",
    "version": 3
   },
   "file_extension": ".py",
   "mimetype": "text/x-python",
   "name": "python",
   "nbconvert_exporter": "python",
   "pygments_lexer": "ipython3",
   "version": "3.11.10"
  }
 },
 "nbformat": 4,
 "nbformat_minor": 2
}
