{
 "cells": [
  {
   "cell_type": "code",
   "execution_count": 11,
   "metadata": {},
   "outputs": [],
   "source": [
    "from tdc.single_pred import ADME\n",
    "import pandas as pd\n"
   ]
  },
  {
   "cell_type": "code",
   "execution_count": 12,
   "metadata": {},
   "outputs": [
    {
     "name": "stderr",
     "output_type": "stream",
     "text": [
      "Found local copy...\n",
      "Loading...\n",
      "Done!\n"
     ]
    }
   ],
   "source": [
    "# Load dataset\n",
    "\n",
    "from tdc.single_pred import ADME\n",
    "data = ADME(name = 'Pgp_Broccatelli')\n",
    "split = data.get_split()"
   ]
  },
  {
   "cell_type": "code",
   "execution_count": 13,
   "metadata": {},
   "outputs": [],
   "source": [
    "template = \"\"\"### Instructions: Answer the following question about drug properties. \n",
    "### Context: P-glycoprotein (Pgp) is an ABC transporter protein involved in intestinal absorption, drug metabolism, and brain penetration, and its \n",
    "inhibition can seriously alter a drug's bioavailability and safety. In addition, inhibitors of Pgp can be used to overcome multidrug resistance.\n",
    "### Question: Given a drug SMILES string, predict the activity of Pgp inhibition.\n",
    "(A) Pgp inhabition (B) Pgp is not inhabition.\n",
    "SMILES: {} \n",
    "### Answer: {}\"\"\"\n"
   ]
  },
  {
   "cell_type": "code",
   "execution_count": 14,
   "metadata": {},
   "outputs": [
    {
     "data": {
      "text/html": [
       "<div>\n",
       "<style scoped>\n",
       "    .dataframe tbody tr th:only-of-type {\n",
       "        vertical-align: middle;\n",
       "    }\n",
       "\n",
       "    .dataframe tbody tr th {\n",
       "        vertical-align: top;\n",
       "    }\n",
       "\n",
       "    .dataframe thead th {\n",
       "        text-align: right;\n",
       "    }\n",
       "</style>\n",
       "<table border=\"1\" class=\"dataframe\">\n",
       "  <thead>\n",
       "    <tr style=\"text-align: right;\">\n",
       "      <th></th>\n",
       "      <th>Drug_ID</th>\n",
       "      <th>Drug</th>\n",
       "      <th>Y</th>\n",
       "    </tr>\n",
       "  </thead>\n",
       "  <tbody>\n",
       "    <tr>\n",
       "      <th>0</th>\n",
       "      <td>3,5,7-Trihydroxy-3',4',5'-trimethoxyflavone</td>\n",
       "      <td>COc1cc(-c2oc3cc(O)cc(O)c3c(=O)c2O)cc(OC)c1OC</td>\n",
       "      <td>1</td>\n",
       "    </tr>\n",
       "    <tr>\n",
       "      <th>1</th>\n",
       "      <td>3,6,3',4'-Tetramethoxyflavone</td>\n",
       "      <td>COc1ccc2oc(-c3ccc(OC)c(OC)c3)c(OC)c(=O)c2c1</td>\n",
       "      <td>1</td>\n",
       "    </tr>\n",
       "    <tr>\n",
       "      <th>2</th>\n",
       "      <td>5,6,7,3',4'-Pentamethoxyflavone</td>\n",
       "      <td>COc1ccc(-c2cc(=O)c3c(OC)c(OC)c(OC)cc3o2)cc1OC</td>\n",
       "      <td>1</td>\n",
       "    </tr>\n",
       "    <tr>\n",
       "      <th>3</th>\n",
       "      <td>5,6,7,3',4',5'-Hexamethoxyflavone</td>\n",
       "      <td>COc1cc(-c2cc(=O)c3c(OC)c(OC)c(OC)cc3o2)cc(OC)c1OC</td>\n",
       "      <td>1</td>\n",
       "    </tr>\n",
       "    <tr>\n",
       "      <th>4</th>\n",
       "      <td>7,3',4'-Trimethoxyflavone</td>\n",
       "      <td>COc1ccc2c(=O)cc(-c3ccc(OC)c(OC)c3)oc2c1</td>\n",
       "      <td>1</td>\n",
       "    </tr>\n",
       "  </tbody>\n",
       "</table>\n",
       "</div>"
      ],
      "text/plain": [
       "                                       Drug_ID  \\\n",
       "0  3,5,7-Trihydroxy-3',4',5'-trimethoxyflavone   \n",
       "1                3,6,3',4'-Tetramethoxyflavone   \n",
       "2              5,6,7,3',4'-Pentamethoxyflavone   \n",
       "3            5,6,7,3',4',5'-Hexamethoxyflavone   \n",
       "4                    7,3',4'-Trimethoxyflavone   \n",
       "\n",
       "                                                Drug  Y  \n",
       "0       COc1cc(-c2oc3cc(O)cc(O)c3c(=O)c2O)cc(OC)c1OC  1  \n",
       "1        COc1ccc2oc(-c3ccc(OC)c(OC)c3)c(OC)c(=O)c2c1  1  \n",
       "2      COc1ccc(-c2cc(=O)c3c(OC)c(OC)c(OC)cc3o2)cc1OC  1  \n",
       "3  COc1cc(-c2cc(=O)c3c(OC)c(OC)c(OC)cc3o2)cc(OC)c1OC  1  \n",
       "4            COc1ccc2c(=O)cc(-c3ccc(OC)c(OC)c3)oc2c1  1  "
      ]
     },
     "execution_count": 14,
     "metadata": {},
     "output_type": "execute_result"
    }
   ],
   "source": [
    "split[\"train\"].head()"
   ]
  },
  {
   "cell_type": "code",
   "execution_count": 15,
   "metadata": {},
   "outputs": [],
   "source": [
    "# process dataset\n",
    "\n",
    "def formatting_prompts_func(examples):\n",
    "    drugs = examples[\"Drug\"]\n",
    "    outputs       = examples[\"Y\"]\n",
    "    texts = []\n",
    "    token_sizes = []\n",
    "    for instruction, output in zip(drugs, outputs):\n",
    "        # Must add EOS_TOKEN, otherwise your generation will go on forever!\n",
    "        text = template.format(instruction, \"(A)\" if output else \"(B)\")\n",
    "        texts.append(text)\n",
    "        token_sizes.append(len(text))\n",
    "    return { \"text\" : texts, \"drugs\":drugs, \"outputs\":outputs, \"token_size\":token_sizes, \"ds_ident\":\"ADME_PAMPA_NCATS\"}\n",
    "\n",
    "def formatting_prompts_func_test(examples):\n",
    "    drugs = examples[\"Drug\"]\n",
    "    outputs       = examples[\"Y\"]\n",
    "    texts = []\n",
    "    token_sizes = []\n",
    "    for instruction, output in zip(drugs, outputs):\n",
    "        # Must add EOS_TOKEN, otherwise your generation will go on forever!\n",
    "        text = template.format(instruction, \"(A)\" if output else \"(B)\")\n",
    "        texts.append(text)\n",
    "        token_sizes.append(len(text))\n",
    "    return { \"text\" : texts, \"drugs\":drugs, \"outputs\":outputs, \"token_size\":token_sizes, \"ds_ident\":\"ADME_PAMPA_NCATS\"}"
   ]
  },
  {
   "cell_type": "code",
   "execution_count": 16,
   "metadata": {},
   "outputs": [],
   "source": [
    "train_dataset = formatting_prompts_func(split[\"train\"])\n",
    "valid_dataset = formatting_prompts_func_test(split[\"valid\"])\n",
    "test_dataset = formatting_prompts_func_test(split[\"test\"])"
   ]
  },
  {
   "cell_type": "code",
   "execution_count": 17,
   "metadata": {},
   "outputs": [
    {
     "data": {
      "text/plain": [
       "<Axes: >"
      ]
     },
     "execution_count": 17,
     "metadata": {},
     "output_type": "execute_result"
    },
    {
     "data": {
      "image/png": "[encoded data removed]",
      "text/plain": [
       "<Figure size 640x480 with 1 Axes>"
      ]
     },
     "metadata": {},
     "output_type": "display_data"
    }
   ],
   "source": [
    "import seaborn as sns\n",
    "\n",
    "sns.violinplot(train_dataset[\"token_size\"])"
   ]
  },
  {
   "cell_type": "code",
   "execution_count": 18,
   "metadata": {},
   "outputs": [
    {
     "data": {
      "text/plain": [
       "(852, 122, 244)"
      ]
     },
     "execution_count": 18,
     "metadata": {},
     "output_type": "execute_result"
    }
   ],
   "source": [
    "len(train_dataset[\"text\"]), len(valid_dataset[\"text\"]), len(test_dataset[\"text\"])"
   ]
  },
  {
   "cell_type": "code",
   "execution_count": 19,
   "metadata": {},
   "outputs": [],
   "source": [
    "import pickle\n",
    "import os\n",
    "\n",
    "\n",
    "def dump_file(obj, path, file_name):\n",
    "    os.makedirs(path, exist_ok=True)\n",
    "    file_name = os.path.join(path,file_name)\n",
    "    with open(file_name, \"wb\") as f0:\n",
    "        pickle.dump(obj,f0)"
   ]
  },
  {
   "cell_type": "code",
   "execution_count": 20,
   "metadata": {},
   "outputs": [],
   "source": [
    "dump_file(train_dataset, \"processed\", \"train.pkl\")\n",
    "dump_file(valid_dataset, \"processed\", \"valid.pkl\")\n",
    "dump_file(test_dataset, \"processed\", \"test.pkl\")"
   ]
  },
  {
   "cell_type": "code",
   "execution_count": null,
   "metadata": {},
   "outputs": [],
   "source": []
  }
 ],
 "metadata": {
  "kernelspec": {
   "display_name": "Python 3",
   "language": "python",
   "name": "python3"
  },
  "language_info": {
   "codemirror_mode": {
    "name": "ipython",
    "version": 3
   },
   "file_extension": ".py",
   "mimetype": "text/x-python",
   "name": "python",
   "nbconvert_exporter": "python",
   "pygments_lexer": "ipython3",
   "version": "3.11.10"
  }
 },
 "nbformat": 4,
 "nbformat_minor": 2
}
