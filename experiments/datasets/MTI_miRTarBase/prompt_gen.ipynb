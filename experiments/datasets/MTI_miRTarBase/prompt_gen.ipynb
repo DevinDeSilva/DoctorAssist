{
 "cells": [
  {
   "cell_type": "code",
   "execution_count": 1,
   "metadata": {},
   "outputs": [],
   "source": [
    "import pandas as pd"
   ]
  },
  {
   "cell_type": "code",
   "execution_count": 2,
   "metadata": {},
   "outputs": [
    {
     "name": "stderr",
     "output_type": "stream",
     "text": [
      "Found local copy...\n",
      "Loading...\n",
      "Done!\n"
     ]
    }
   ],
   "source": [
    "# Load dataset\n",
    "\n",
    "from tdc.multi_pred import MTI\n",
    "\n",
    "data = MTI(name = 'miRTarBase')\n",
    "data = data.neg_sample(frac = 1)\n",
    "split = data.get_split()"
   ]
  },
  {
   "cell_type": "code",
   "execution_count": 3,
   "metadata": {},
   "outputs": [],
   "source": [
    "CUT_OFF = 1000\n",
    "\n",
    "template = \"\"\"### Instructions: Answer the following question about miRNA protein interactions. \n",
    "### Context: MicroRNAs (miRNAs) are, small non-coding RNAs with 18–25 nucleotides, which are central regulators at the \n",
    "post-transcriptional level in both animals and plants. Perfect or near-perfect complementary binding of miRNAs and their \n",
    "target mRNA negatively regulates gene expression by accelerating mRNA degradation or suppressing mRNA translation.\n",
    "### Question: Given the miRNA mature sequence and target amino acid sequence, predict whether \n",
    "(A) the miRNA and target do not interact (B) the miRNA and target interact\n",
    "miRNA sequence: {}\n",
    "Target amino acid sequence: {}\n",
    "### Answer: {}\"\"\"\n"
   ]
  },
  {
   "cell_type": "code",
   "execution_count": 4,
   "metadata": {},
   "outputs": [
    {
     "data": {
      "text/html": [
       "<div>\n",
       "<style scoped>\n",
       "    .dataframe tbody tr th:only-of-type {\n",
       "        vertical-align: middle;\n",
       "    }\n",
       "\n",
       "    .dataframe tbody tr th {\n",
       "        vertical-align: top;\n",
       "    }\n",
       "\n",
       "    .dataframe thead th {\n",
       "        text-align: right;\n",
       "    }\n",
       "</style>\n",
       "<table border=\"1\" class=\"dataframe\">\n",
       "  <thead>\n",
       "    <tr style=\"text-align: right;\">\n",
       "      <th></th>\n",
       "      <th>miRNA_ID</th>\n",
       "      <th>miRNA</th>\n",
       "      <th>Target_ID</th>\n",
       "      <th>Target</th>\n",
       "      <th>Y</th>\n",
       "    </tr>\n",
       "  </thead>\n",
       "  <tbody>\n",
       "    <tr>\n",
       "      <th>0</th>\n",
       "      <td>ath-miR398c-3p</td>\n",
       "      <td>UGUGUUCUCAGGUCACCCCUG</td>\n",
       "      <td>817365</td>\n",
       "      <td>MAATNTILAFSSPSRLLIPPSSNPSTLRSSFRGVSLNNNNLHRLQS...</td>\n",
       "      <td>1</td>\n",
       "    </tr>\n",
       "    <tr>\n",
       "      <th>1</th>\n",
       "      <td>ath-miR398b-3p</td>\n",
       "      <td>UGUGUUCUCAGGUCACCCCUG</td>\n",
       "      <td>817365</td>\n",
       "      <td>MAATNTILAFSSPSRLLIPPSSNPSTLRSSFRGVSLNNNNLHRLQS...</td>\n",
       "      <td>1</td>\n",
       "    </tr>\n",
       "    <tr>\n",
       "      <th>2</th>\n",
       "      <td>ath-miR398c-3p</td>\n",
       "      <td>UGUGUUCUCAGGUCACCCCUG</td>\n",
       "      <td>837405</td>\n",
       "      <td>MAKGVAVLNSSEGVTGTIFFTQEGDGVTTVSGTVSGLKPGLHGFHV...</td>\n",
       "      <td>1</td>\n",
       "    </tr>\n",
       "    <tr>\n",
       "      <th>3</th>\n",
       "      <td>ath-miR398b-3p</td>\n",
       "      <td>UGUGUUCUCAGGUCACCCCUG</td>\n",
       "      <td>837405</td>\n",
       "      <td>MAKGVAVLNSSEGVTGTIFFTQEGDGVTTVSGTVSGLKPGLHGFHV...</td>\n",
       "      <td>1</td>\n",
       "    </tr>\n",
       "    <tr>\n",
       "      <th>4</th>\n",
       "      <td>ath-miR398a-3p</td>\n",
       "      <td>UGUGUUCUCAGGUCACCCCUU</td>\n",
       "      <td>817365</td>\n",
       "      <td>MAATNTILAFSSPSRLLIPPSSNPSTLRSSFRGVSLNNNNLHRLQS...</td>\n",
       "      <td>1</td>\n",
       "    </tr>\n",
       "  </tbody>\n",
       "</table>\n",
       "</div>"
      ],
      "text/plain": [
       "         miRNA_ID                  miRNA Target_ID  \\\n",
       "0  ath-miR398c-3p  UGUGUUCUCAGGUCACCCCUG    817365   \n",
       "1  ath-miR398b-3p  UGUGUUCUCAGGUCACCCCUG    817365   \n",
       "2  ath-miR398c-3p  UGUGUUCUCAGGUCACCCCUG    837405   \n",
       "3  ath-miR398b-3p  UGUGUUCUCAGGUCACCCCUG    837405   \n",
       "4  ath-miR398a-3p  UGUGUUCUCAGGUCACCCCUU    817365   \n",
       "\n",
       "                                              Target  Y  \n",
       "0  MAATNTILAFSSPSRLLIPPSSNPSTLRSSFRGVSLNNNNLHRLQS...  1  \n",
       "1  MAATNTILAFSSPSRLLIPPSSNPSTLRSSFRGVSLNNNNLHRLQS...  1  \n",
       "2  MAKGVAVLNSSEGVTGTIFFTQEGDGVTTVSGTVSGLKPGLHGFHV...  1  \n",
       "3  MAKGVAVLNSSEGVTGTIFFTQEGDGVTTVSGTVSGLKPGLHGFHV...  1  \n",
       "4  MAATNTILAFSSPSRLLIPPSSNPSTLRSSFRGVSLNNNNLHRLQS...  1  "
      ]
     },
     "execution_count": 4,
     "metadata": {},
     "output_type": "execute_result"
    }
   ],
   "source": [
    "split[\"train\"].head()"
   ]
  },
  {
   "cell_type": "code",
   "execution_count": 5,
   "metadata": {},
   "outputs": [
    {
     "data": {
      "text/plain": [
       "<Axes: ylabel='Target'>"
      ]
     },
     "execution_count": 5,
     "metadata": {},
     "output_type": "execute_result"
    },
    {
     "data": {
      "image/png": "[encoded data removed]",
      "text/plain": [
       "<Figure size 640x480 with 1 Axes>"
      ]
     },
     "metadata": {},
     "output_type": "display_data"
    }
   ],
   "source": [
    "import seaborn as sns\n",
    "\n",
    "sns.violinplot(split[\"train\"][\"Target\"].apply(lambda x: len(x)))"
   ]
  },
  {
   "cell_type": "code",
   "execution_count": 6,
   "metadata": {},
   "outputs": [],
   "source": [
    "split[\"train\"] = split[\"train\"].loc[split[\"train\"][\"Target\"].str.len()< CUT_OFF]\n",
    "split[\"valid\"] = split[\"valid\"].loc[split[\"valid\"][\"Target\"].str.len()< CUT_OFF]\n",
    "split[\"test\"] = split[\"test\"].loc[split[\"test\"][\"Target\"].str.len()< CUT_OFF]"
   ]
  },
  {
   "cell_type": "code",
   "execution_count": 7,
   "metadata": {},
   "outputs": [],
   "source": [
    "# process dataset\n",
    "\n",
    "def formatting_prompts_func(examples):\n",
    "    miRNA = examples[\"miRNA\"]\n",
    "    Target = examples[\"Target\"]\n",
    "    outputs       = examples[\"Y\"]\n",
    "    token_sizes = []\n",
    "    texts = []\n",
    "    for p,m,o in zip(miRNA, Target, outputs):\n",
    "        # Must add EOS_TOKEN, otherwise your generation will go on forever!\n",
    "        text = template.format(p,m, \"(B)\" if o else \"(A)\")\n",
    "        texts.append(text)\n",
    "        token_sizes.append(len(text))\n",
    "    return { \"text\" : texts, \"miRNA\":miRNA, \"Target\":Target, \"outputs\":outputs, \"token_size\":token_sizes, \"ds_ident\":\"MTI_miRTarBase\"}\n",
    "\n",
    "def formatting_prompts_func_test(examples):\n",
    "    miRNA = examples[\"miRNA\"]\n",
    "    Target = examples[\"Target\"]\n",
    "    outputs       = examples[\"Y\"]\n",
    "    token_sizes = []\n",
    "    texts = []\n",
    "    for p,m,o in zip(miRNA, Target, outputs):\n",
    "        # Must add EOS_TOKEN, otherwise your generation will go on forever!\n",
    "        text = template.format(p,m, \"\")\n",
    "        texts.append(text)\n",
    "        token_sizes.append(len(text))\n",
    "    return { \"text\" : texts, \"miRNA\":miRNA, \"Target\":Target, \"outputs\":outputs, \"token_size\":token_sizes, \"ds_ident\":\"MTI_miRTarBase\"}"
   ]
  },
  {
   "cell_type": "code",
   "execution_count": 8,
   "metadata": {},
   "outputs": [],
   "source": [
    "train_dataset = formatting_prompts_func(split[\"train\"])\n",
    "valid_dataset = formatting_prompts_func_test(split[\"valid\"])\n",
    "test_dataset = formatting_prompts_func_test(split[\"test\"])"
   ]
  },
  {
   "cell_type": "code",
   "execution_count": 9,
   "metadata": {},
   "outputs": [
    {
     "data": {
      "text/plain": [
       "(483350, 69171, 138399)"
      ]
     },
     "execution_count": 9,
     "metadata": {},
     "output_type": "execute_result"
    }
   ],
   "source": [
    "len(train_dataset[\"text\"]), len(valid_dataset[\"text\"]), len(test_dataset[\"text\"])"
   ]
  },
  {
   "cell_type": "code",
   "execution_count": 10,
   "metadata": {},
   "outputs": [
    {
     "data": {
      "text/plain": [
       "<Axes: >"
      ]
     },
     "execution_count": 10,
     "metadata": {},
     "output_type": "execute_result"
    },
    {
     "data": {
      "image/png": "[encoded data removed]",
      "text/plain": [
       "<Figure size 640x480 with 1 Axes>"
      ]
     },
     "metadata": {},
     "output_type": "display_data"
    }
   ],
   "source": [
    "import seaborn as sns\n",
    "\n",
    "sns.violinplot(train_dataset[\"token_size\"])"
   ]
  },
  {
   "cell_type": "code",
   "execution_count": 11,
   "metadata": {},
   "outputs": [],
   "source": [
    "import pickle\n",
    "import os\n",
    "\n",
    "\n",
    "def dump_file(obj, path, file_name):\n",
    "    os.makedirs(path, exist_ok=True)\n",
    "    file_name = os.path.join(path,file_name)\n",
    "    with open(file_name, \"wb\") as f0:\n",
    "        pickle.dump(obj,f0)"
   ]
  },
  {
   "cell_type": "code",
   "execution_count": 12,
   "metadata": {},
   "outputs": [],
   "source": [
    "dump_file(train_dataset, \"processed\", \"train.pkl\")\n",
    "dump_file(valid_dataset, \"processed\", \"valid.pkl\")\n",
    "dump_file(test_dataset, \"processed\", \"test.pkl\")"
   ]
  },
  {
   "cell_type": "code",
   "execution_count": null,
   "metadata": {},
   "outputs": [],
   "source": []
  }
 ],
 "metadata": {
  "kernelspec": {
   "display_name": "Python 3",
   "language": "python",
   "name": "python3"
  },
  "language_info": {
   "codemirror_mode": {
    "name": "ipython",
    "version": 3
   },
   "file_extension": ".py",
   "mimetype": "text/x-python",
   "name": "python",
   "nbconvert_exporter": "python",
   "pygments_lexer": "ipython3",
   "version": "3.11.10"
  }
 },
 "nbformat": 4,
 "nbformat_minor": 2
}
