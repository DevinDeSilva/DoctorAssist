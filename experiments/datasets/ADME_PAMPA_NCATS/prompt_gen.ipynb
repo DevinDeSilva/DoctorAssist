{
 "cells": [
  {
   "cell_type": "code",
   "execution_count": 1,
   "metadata": {},
   "outputs": [],
   "source": [
    "from tdc.single_pred import ADME\n",
    "import pandas as pd\n"
   ]
  },
  {
   "cell_type": "code",
   "execution_count": 2,
   "metadata": {},
   "outputs": [
    {
     "name": "stderr",
     "output_type": "stream",
     "text": [
      "Downloading...\n",
      "100%|██████████| 144k/144k [00:00<00:00, 1.24MiB/s]\n",
      "Loading...\n",
      "Done!\n"
     ]
    }
   ],
   "source": [
    "# Load dataset\n",
    "\n",
    "from tdc.single_pred import ADME\n",
    "data = ADME(name = 'PAMPA_NCATS')\n",
    "split = data.get_split()"
   ]
  },
  {
   "cell_type": "code",
   "execution_count": 3,
   "metadata": {},
   "outputs": [],
   "source": [
    "template = \"\"\"### Instructions: Answer the following question about drug properties. \n",
    "### Context: PAMPA (parallel artificial membrane permeability assay) is a commonly employed assay to evaluate drug permeability across the cellular membrane. \n",
    "PAMPA is a non-cell-based, low-cost and high-throughput alternative to cellular models. Although PAMPA does not model active and efflux transporters, \n",
    "it still provides permeability values that are useful for absorption prediction because the majority of drugs are absorbed by passive diffusion through the membrane\n",
    "### Question: Given a drug SMILES string, predict whether it \n",
    "(A) has high permeability in PAMPA assay (B) low-to-moderate permeability in PAMPA assay.\n",
    "SMILES: {} \n",
    "### Answer: {}\"\"\"\n"
   ]
  },
  {
   "cell_type": "code",
   "execution_count": 4,
   "metadata": {},
   "outputs": [
    {
     "data": {
      "text/html": [
       "<div>\n",
       "<style scoped>\n",
       "    .dataframe tbody tr th:only-of-type {\n",
       "        vertical-align: middle;\n",
       "    }\n",
       "\n",
       "    .dataframe tbody tr th {\n",
       "        vertical-align: top;\n",
       "    }\n",
       "\n",
       "    .dataframe thead th {\n",
       "        text-align: right;\n",
       "    }\n",
       "</style>\n",
       "<table border=\"1\" class=\"dataframe\">\n",
       "  <thead>\n",
       "    <tr style=\"text-align: right;\">\n",
       "      <th></th>\n",
       "      <th>Drug_ID</th>\n",
       "      <th>Drug</th>\n",
       "      <th>Y</th>\n",
       "    </tr>\n",
       "  </thead>\n",
       "  <tbody>\n",
       "    <tr>\n",
       "      <th>0</th>\n",
       "      <td>1259573</td>\n",
       "      <td>COC1=C(C=C(C=C1)CCN2C(=CC(=O)NC2=S)N)OC</td>\n",
       "      <td>0</td>\n",
       "    </tr>\n",
       "    <tr>\n",
       "      <th>1</th>\n",
       "      <td>1275864</td>\n",
       "      <td>COC1=C(C=C(C=C1)Cl)C(=O)NC2=CC=C(C=C2)NC(=O)C3...</td>\n",
       "      <td>1</td>\n",
       "    </tr>\n",
       "    <tr>\n",
       "      <th>2</th>\n",
       "      <td>2030130</td>\n",
       "      <td>CN1C2=CC=CC=C2C(=O)C3=C1N=C(N(C3=O)C4=CC=CC=C4...</td>\n",
       "      <td>1</td>\n",
       "    </tr>\n",
       "    <tr>\n",
       "      <th>3</th>\n",
       "      <td>4422695</td>\n",
       "      <td>CC1=C(C=C(C=C1)NS(=O)(=O)C2=CC=CC(=C2)C(=O)O)S...</td>\n",
       "      <td>1</td>\n",
       "    </tr>\n",
       "    <tr>\n",
       "      <th>4</th>\n",
       "      <td>1131802</td>\n",
       "      <td>COC1=CC(=CC(=C1O)OC)C2=NC(=C(N2)C3=CC=CS3)C4=C...</td>\n",
       "      <td>1</td>\n",
       "    </tr>\n",
       "  </tbody>\n",
       "</table>\n",
       "</div>"
      ],
      "text/plain": [
       "   Drug_ID                                               Drug  Y\n",
       "0  1259573            COC1=C(C=C(C=C1)CCN2C(=CC(=O)NC2=S)N)OC  0\n",
       "1  1275864  COC1=C(C=C(C=C1)Cl)C(=O)NC2=CC=C(C=C2)NC(=O)C3...  1\n",
       "2  2030130  CN1C2=CC=CC=C2C(=O)C3=C1N=C(N(C3=O)C4=CC=CC=C4...  1\n",
       "3  4422695  CC1=C(C=C(C=C1)NS(=O)(=O)C2=CC=CC(=C2)C(=O)O)S...  1\n",
       "4  1131802  COC1=CC(=CC(=C1O)OC)C2=NC(=C(N2)C3=CC=CS3)C4=C...  1"
      ]
     },
     "execution_count": 4,
     "metadata": {},
     "output_type": "execute_result"
    }
   ],
   "source": [
    "split[\"train\"].head()"
   ]
  },
  {
   "cell_type": "code",
   "execution_count": 5,
   "metadata": {},
   "outputs": [],
   "source": [
    "# process dataset\n",
    "\n",
    "def formatting_prompts_func(examples):\n",
    "    drugs = examples[\"Drug\"]\n",
    "    outputs       = examples[\"Y\"]\n",
    "    texts = []\n",
    "    token_sizes = []\n",
    "    for instruction, output in zip(drugs, outputs):\n",
    "        # Must add EOS_TOKEN, otherwise your generation will go on forever!\n",
    "        text = template.format(instruction, \"(A)\" if output else \"(B)\")\n",
    "        texts.append(text)\n",
    "        token_sizes.append(len(text))\n",
    "    return { \"text\" : texts, \"drugs\":drugs, \"outputs\":outputs, \"token_size\":token_sizes, \"ds_ident\":\"ADME_PAMPA_NCATS\"}\n",
    "\n",
    "def formatting_prompts_func_test(examples):\n",
    "    drugs = examples[\"Drug\"]\n",
    "    outputs       = examples[\"Y\"]\n",
    "    texts = []\n",
    "    token_sizes = []\n",
    "    for instruction, output in zip(drugs, outputs):\n",
    "        # Must add EOS_TOKEN, otherwise your generation will go on forever!\n",
    "        text = template.format(instruction, \"(A)\" if output else \"(B)\")\n",
    "        texts.append(text)\n",
    "        token_sizes.append(len(text))\n",
    "    return { \"text\" : texts, \"drugs\":drugs, \"outputs\":outputs, \"token_size\":token_sizes, \"ds_ident\":\"ADME_PAMPA_NCATS\"}"
   ]
  },
  {
   "cell_type": "code",
   "execution_count": 6,
   "metadata": {},
   "outputs": [],
   "source": [
    "train_dataset = formatting_prompts_func(split[\"train\"])\n",
    "valid_dataset = formatting_prompts_func_test(split[\"valid\"])\n",
    "test_dataset = formatting_prompts_func_test(split[\"test\"])"
   ]
  },
  {
   "cell_type": "code",
   "execution_count": 7,
   "metadata": {},
   "outputs": [
    {
     "data": {
      "text/plain": [
       "<Axes: >"
      ]
     },
     "execution_count": 7,
     "metadata": {},
     "output_type": "execute_result"
    },
    {
     "data": {
      "image/png": "[encoded data removed]",
      "text/plain": [
       "<Figure size 640x480 with 1 Axes>"
      ]
     },
     "metadata": {},
     "output_type": "display_data"
    }
   ],
   "source": [
    "import seaborn as sns\n",
    "\n",
    "sns.violinplot(train_dataset[\"token_size\"])"
   ]
  },
  {
   "cell_type": "code",
   "execution_count": 8,
   "metadata": {},
   "outputs": [
    {
     "data": {
      "text/plain": [
       "(1424, 203, 407)"
      ]
     },
     "execution_count": 8,
     "metadata": {},
     "output_type": "execute_result"
    }
   ],
   "source": [
    "len(train_dataset[\"text\"]), len(valid_dataset[\"text\"]), len(test_dataset[\"text\"])"
   ]
  },
  {
   "cell_type": "code",
   "execution_count": 9,
   "metadata": {},
   "outputs": [],
   "source": [
    "import pickle\n",
    "import os\n",
    "\n",
    "\n",
    "def dump_file(obj, path, file_name):\n",
    "    os.makedirs(path, exist_ok=True)\n",
    "    file_name = os.path.join(path,file_name)\n",
    "    with open(file_name, \"wb\") as f0:\n",
    "        pickle.dump(obj,f0)"
   ]
  },
  {
   "cell_type": "code",
   "execution_count": 10,
   "metadata": {},
   "outputs": [],
   "source": [
    "dump_file(train_dataset, \"processed\", \"train.pkl\")\n",
    "dump_file(valid_dataset, \"processed\", \"valid.pkl\")\n",
    "dump_file(test_dataset, \"processed\", \"test.pkl\")"
   ]
  },
  {
   "cell_type": "code",
   "execution_count": null,
   "metadata": {},
   "outputs": [],
   "source": []
  }
 ],
 "metadata": {
  "kernelspec": {
   "display_name": "Python 3",
   "language": "python",
   "name": "python3"
  },
  "language_info": {
   "codemirror_mode": {
    "name": "ipython",
    "version": 3
   },
   "file_extension": ".py",
   "mimetype": "text/x-python",
   "name": "python",
   "nbconvert_exporter": "python",
   "pygments_lexer": "ipython3",
   "version": "3.11.10"
  }
 },
 "nbformat": 4,
 "nbformat_minor": 2
}
