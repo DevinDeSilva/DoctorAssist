{
 "cells": [
  {
   "cell_type": "code",
   "execution_count": 21,
   "metadata": {},
   "outputs": [],
   "source": [
    "import pandas as pd\n",
    "import simple_icd_10_cm as cm"
   ]
  },
  {
   "cell_type": "code",
   "execution_count": 22,
   "metadata": {},
   "outputs": [
    {
     "name": "stderr",
     "output_type": "stream",
     "text": [
      "Found local copy...\n",
      "Loading...\n",
      "Done!\n"
     ]
    }
   ],
   "source": [
    "# Load dataset\n",
    "\n",
    "from tdc.multi_pred import TrialOutcome\n",
    "data = TrialOutcome(name = 'phase1') # 'phase2' / 'phase3'\n",
    "split = data.get_split()"
   ]
  },
  {
   "cell_type": "code",
   "execution_count": 23,
   "metadata": {},
   "outputs": [],
   "source": [
    "template = \"\"\"### Instructions: Answer the following question about clinical trials.\n",
    "### Context: Clinical trial is the most time and cost-consuming step in the drug discovery process. Phase 1 clinical trials test the safety and basic properties of a new \n",
    "drug or treatment in a small group of people for the first time. Optimizing and designing trials with machine learning could drastically lead to the speedup of delivery \n",
    "of life-saving therapeutics to patients. Clinical trial outcome prediction is a machine learning task that aims to forecast the outcome of clinical trials, such as the \n",
    "approval rate of a drug or treatment. It utilizes various clinical trial features, including the drug’s molecular structure and patient disease.\n",
    "### Question: Given a drug SMILES string and disease, predict if the phase 1 trial\n",
    "(A) would not be approved (B) would be approved \n",
    "Drug SMILES: {}\n",
    "Disease: {} \n",
    "### Answer: {}\"\"\"\n"
   ]
  },
  {
   "cell_type": "code",
   "execution_count": 24,
   "metadata": {},
   "outputs": [
    {
     "data": {
      "text/html": [
       "<div>\n",
       "<style scoped>\n",
       "    .dataframe tbody tr th:only-of-type {\n",
       "        vertical-align: middle;\n",
       "    }\n",
       "\n",
       "    .dataframe tbody tr th {\n",
       "        vertical-align: top;\n",
       "    }\n",
       "\n",
       "    .dataframe thead th {\n",
       "        text-align: right;\n",
       "    }\n",
       "</style>\n",
       "<table border=\"1\" class=\"dataframe\">\n",
       "  <thead>\n",
       "    <tr style=\"text-align: right;\">\n",
       "      <th></th>\n",
       "      <th>nctid</th>\n",
       "      <th>start_date</th>\n",
       "      <th>complete_date</th>\n",
       "      <th>drug_molecules</th>\n",
       "      <th>icdcodes</th>\n",
       "      <th>eligibility_criteria</th>\n",
       "      <th>Y</th>\n",
       "    </tr>\n",
       "  </thead>\n",
       "  <tbody>\n",
       "    <tr>\n",
       "      <th>0</th>\n",
       "      <td>NCT00002790</td>\n",
       "      <td>March 1996</td>\n",
       "      <td>NaN</td>\n",
       "      <td>CC[C@@H]1NC(=O)[C@H]([C@H](O)[C@H](C)C\\\\C=C\\\\C...</td>\n",
       "      <td>D89.810__D89.811__D89.813__D89.812__C95.91__C9...</td>\n",
       "      <td>DISEASE CHARACTERISTICS: See General Eligibili...</td>\n",
       "      <td>0</td>\n",
       "    </tr>\n",
       "    <tr>\n",
       "      <th>1</th>\n",
       "      <td>NCT00002863</td>\n",
       "      <td>June 1996</td>\n",
       "      <td>July 2000</td>\n",
       "      <td>[H][C@@]12N(C)C3=CC(OC)=C(C=C3[C@@]11CCN3CC=C[...</td>\n",
       "      <td>C96.A__C46.9__C96.22__C46.0__C46.2__C92.31__C9...</td>\n",
       "      <td>DISEASE CHARACTERISTICS: Biopsy-proven soft ti...</td>\n",
       "      <td>0</td>\n",
       "    </tr>\n",
       "    <tr>\n",
       "      <th>2</th>\n",
       "      <td>NCT00003005</td>\n",
       "      <td>December 1997</td>\n",
       "      <td>March 2001</td>\n",
       "      <td>[H][C@@]1(CO)C[C@@]([H])(O)[C@@]([H])(O1)N1C=N...</td>\n",
       "      <td>C95.91__C95.92__Z80.6__Z85.6__C90.11__C90.12__...</td>\n",
       "      <td>DISEASE CHARACTERISTICS: TdT positive acute ly...</td>\n",
       "      <td>0</td>\n",
       "    </tr>\n",
       "    <tr>\n",
       "      <th>3</th>\n",
       "      <td>NCT00003060</td>\n",
       "      <td>March 1995</td>\n",
       "      <td>February 22, 2001</td>\n",
       "      <td>CS(=O)(=O)OCCCCOS(C)(=O)=O__ClCCN(CCCl)P1(=O)N...</td>\n",
       "      <td>C43.51__C43.9__C43.52__D03.51__C43.8__Z85.820_...</td>\n",
       "      <td>DISEASE CHARACTERISTICS: Biopsy proven relapse...</td>\n",
       "      <td>0</td>\n",
       "    </tr>\n",
       "    <tr>\n",
       "      <th>4</th>\n",
       "      <td>NCT00003194</td>\n",
       "      <td>July 1997</td>\n",
       "      <td>December 19, 2002</td>\n",
       "      <td>N[C@@H](CCCNC(N)=N)C(O)=O__ClCCN(CCCl)P1(=O)NC...</td>\n",
       "      <td>H01.009__H02.209__H02.009__H02.109__H04.209__H...</td>\n",
       "      <td>DISEASE CHARACTERISTICS: - Histologically prov...</td>\n",
       "      <td>0</td>\n",
       "    </tr>\n",
       "  </tbody>\n",
       "</table>\n",
       "</div>"
      ],
      "text/plain": [
       "         nctid     start_date      complete_date  \\\n",
       "0  NCT00002790     March 1996                NaN   \n",
       "1  NCT00002863      June 1996          July 2000   \n",
       "2  NCT00003005  December 1997         March 2001   \n",
       "3  NCT00003060     March 1995  February 22, 2001   \n",
       "4  NCT00003194      July 1997  December 19, 2002   \n",
       "\n",
       "                                      drug_molecules  \\\n",
       "0  CC[C@@H]1NC(=O)[C@H]([C@H](O)[C@H](C)C\\\\C=C\\\\C...   \n",
       "1  [H][C@@]12N(C)C3=CC(OC)=C(C=C3[C@@]11CCN3CC=C[...   \n",
       "2  [H][C@@]1(CO)C[C@@]([H])(O)[C@@]([H])(O1)N1C=N...   \n",
       "3  CS(=O)(=O)OCCCCOS(C)(=O)=O__ClCCN(CCCl)P1(=O)N...   \n",
       "4  N[C@@H](CCCNC(N)=N)C(O)=O__ClCCN(CCCl)P1(=O)NC...   \n",
       "\n",
       "                                            icdcodes  \\\n",
       "0  D89.810__D89.811__D89.813__D89.812__C95.91__C9...   \n",
       "1  C96.A__C46.9__C96.22__C46.0__C46.2__C92.31__C9...   \n",
       "2  C95.91__C95.92__Z80.6__Z85.6__C90.11__C90.12__...   \n",
       "3  C43.51__C43.9__C43.52__D03.51__C43.8__Z85.820_...   \n",
       "4  H01.009__H02.209__H02.009__H02.109__H04.209__H...   \n",
       "\n",
       "                                eligibility_criteria  Y  \n",
       "0  DISEASE CHARACTERISTICS: See General Eligibili...  0  \n",
       "1  DISEASE CHARACTERISTICS: Biopsy-proven soft ti...  0  \n",
       "2  DISEASE CHARACTERISTICS: TdT positive acute ly...  0  \n",
       "3  DISEASE CHARACTERISTICS: Biopsy proven relapse...  0  \n",
       "4  DISEASE CHARACTERISTICS: - Histologically prov...  0  "
      ]
     },
     "execution_count": 24,
     "metadata": {},
     "output_type": "execute_result"
    }
   ],
   "source": [
    "split[\"train\"].head()"
   ]
  },
  {
   "cell_type": "code",
   "execution_count": 25,
   "metadata": {},
   "outputs": [],
   "source": [
    "def icd_string(x):\n",
    "    icd_codes = []\n",
    "    for i in x:\n",
    "        try:\n",
    "            icd_codes.append(\n",
    "                cm.get_description(i)\n",
    "            )\n",
    "        except ValueError:\n",
    "            pass\n",
    "    \n",
    "    try:\n",
    "        return icd_codes[0]\n",
    "    except IndexError:\n",
    "        return \"\"\n",
    "    \n",
    "        \n",
    "    \n",
    "\n",
    "split[\"train\"][\"icdcodes_str\"] = split[\"train\"][\"icdcodes\"].str.split(\"__\").apply(icd_string)\n",
    "split[\"valid\"][\"icdcodes_str\"] = split[\"valid\"][\"icdcodes\"].str.split(\"__\").apply(icd_string)\n",
    "split[\"test\"][\"icdcodes_str\"] = split[\"test\"][\"icdcodes\"].str.split(\"__\").apply(icd_string)"
   ]
  },
  {
   "cell_type": "code",
   "execution_count": 26,
   "metadata": {},
   "outputs": [],
   "source": [
    "split[\"train\"] = split[\"train\"].loc[split[\"train\"][\"icdcodes_str\"].str.len()>0]\n",
    "split[\"valid\"] = split[\"valid\"].loc[split[\"valid\"][\"icdcodes_str\"].str.len()>0]\n",
    "split[\"test\"] = split[\"test\"].loc[split[\"test\"][\"icdcodes_str\"].str.len()>0]"
   ]
  },
  {
   "cell_type": "code",
   "execution_count": 27,
   "metadata": {},
   "outputs": [],
   "source": [
    "# process dataset\n",
    "\n",
    "def formatting_prompts_func(examples):\n",
    "    drug_molecules = examples[\"drug_molecules\"]\n",
    "    icdcodes_str = examples[\"icdcodes_str\"]\n",
    "    outputs       = examples[\"Y\"]\n",
    "    texts = []\n",
    "    for p,m,o in zip(drug_molecules, icdcodes_str, outputs):\n",
    "        # Must add EOS_TOKEN, otherwise your generation will go on forever!\n",
    "        text = template.format(p,m, \"(B)\" if o else \"(A)\")\n",
    "        texts.append(text)\n",
    "    return { \"text\" : texts, \"drug_molecules\":drug_molecules, \"icdcodes_str\":icdcodes_str, \"outputs\":outputs, \"ds_ident\":\"TrialOutcome_phase1\"}\n",
    "\n",
    "def formatting_prompts_func_test(examples):\n",
    "    drug_molecules = examples[\"drug_molecules\"]\n",
    "    icdcodes_str = examples[\"icdcodes_str\"]\n",
    "    outputs       = examples[\"Y\"]\n",
    "    texts = []\n",
    "    for p,m,o in zip(drug_molecules, icdcodes_str, outputs):\n",
    "        # Must add EOS_TOKEN, otherwise your generation will go on forever!\n",
    "        text = template.format(p,m, \"\")\n",
    "        texts.append(text)\n",
    "    return { \"text\" : texts, \"drug_molecules\":drug_molecules, \"icdcodes_str\":icdcodes_str, \"outputs\":outputs, \"ds_ident\":\"TrialOutcome_phase1\"}\n"
   ]
  },
  {
   "cell_type": "code",
   "execution_count": 28,
   "metadata": {},
   "outputs": [],
   "source": [
    "train_dataset = formatting_prompts_func(split[\"train\"])\n",
    "valid_dataset = formatting_prompts_func_test(split[\"valid\"])\n",
    "test_dataset = formatting_prompts_func_test(split[\"test\"])"
   ]
  },
  {
   "cell_type": "code",
   "execution_count": 29,
   "metadata": {},
   "outputs": [
    {
     "data": {
      "text/plain": [
       "<Axes: >"
      ]
     },
     "execution_count": 29,
     "metadata": {},
     "output_type": "execute_result"
    },
    {
     "data": {
      "image/png": "[encoded data removed]",
      "text/plain": [
       "<Figure size 640x480 with 1 Axes>"
      ]
     },
     "metadata": {},
     "output_type": "display_data"
    }
   ],
   "source": [
    "import seaborn as sns\n",
    "sns.violinplot(list(map(len,train_dataset[\"text\"])))"
   ]
  },
  {
   "cell_type": "code",
   "execution_count": 30,
   "metadata": {},
   "outputs": [
    {
     "data": {
      "text/plain": [
       "(1678, 240, 480)"
      ]
     },
     "execution_count": 30,
     "metadata": {},
     "output_type": "execute_result"
    }
   ],
   "source": [
    "len(train_dataset[\"text\"]), len(valid_dataset[\"text\"]), len(test_dataset[\"text\"])"
   ]
  },
  {
   "cell_type": "code",
   "execution_count": 31,
   "metadata": {},
   "outputs": [],
   "source": [
    "def filter_data(ds):\n",
    "    ds = pd.DataFrame.from_dict(ds)\n",
    "    ds = ds.loc[(ds[\"icdcodes_str\"].str.len()>0)&(ds[\"text\"].str.len()<1800)]\n",
    "    return ds.to_dict(orient=\"list\")"
   ]
  },
  {
   "cell_type": "code",
   "execution_count": 32,
   "metadata": {},
   "outputs": [],
   "source": [
    "train_dataset = filter_data(train_dataset)\n",
    "valid_dataset = filter_data(valid_dataset)\n",
    "test_dataset = filter_data(test_dataset)"
   ]
  },
  {
   "cell_type": "code",
   "execution_count": 33,
   "metadata": {},
   "outputs": [
    {
     "data": {
      "text/plain": [
       "<Axes: >"
      ]
     },
     "execution_count": 33,
     "metadata": {},
     "output_type": "execute_result"
    },
    {
     "data": {
      "image/png": "[encoded data removed]",
      "text/plain": [
       "<Figure size 640x480 with 1 Axes>"
      ]
     },
     "metadata": {},
     "output_type": "display_data"
    }
   ],
   "source": [
    "import seaborn as sns\n",
    "sns.violinplot(list(map(len,train_dataset[\"text\"])))"
   ]
  },
  {
   "cell_type": "code",
   "execution_count": 34,
   "metadata": {},
   "outputs": [],
   "source": [
    "import pickle\n",
    "import os\n",
    "\n",
    "\n",
    "def dump_file(obj, path, file_name):\n",
    "    os.makedirs(path, exist_ok=True)\n",
    "    file_name = os.path.join(path,file_name)\n",
    "    with open(file_name, \"wb\") as f0:\n",
    "        pickle.dump(obj,f0)"
   ]
  },
  {
   "cell_type": "code",
   "execution_count": 35,
   "metadata": {},
   "outputs": [],
   "source": [
    "dump_file(train_dataset, \"processed\", \"train.pkl\")\n",
    "dump_file(valid_dataset, \"processed\", \"valid.pkl\")\n",
    "dump_file(test_dataset, \"processed\", \"test.pkl\")"
   ]
  },
  {
   "cell_type": "code",
   "execution_count": null,
   "metadata": {},
   "outputs": [],
   "source": []
  }
 ],
 "metadata": {
  "kernelspec": {
   "display_name": "Python 3",
   "language": "python",
   "name": "python3"
  },
  "language_info": {
   "codemirror_mode": {
    "name": "ipython",
    "version": 3
   },
   "file_extension": ".py",
   "mimetype": "text/x-python",
   "name": "python",
   "nbconvert_exporter": "python",
   "pygments_lexer": "ipython3",
   "version": "3.11.10"
  }
 },
 "nbformat": 4,
 "nbformat_minor": 2
}
